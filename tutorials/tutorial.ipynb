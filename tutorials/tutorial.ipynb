{
 "cells": [
  {
   "cell_type": "markdown",
   "id": "28b0dd92-1d1b-4b33-9e11-f3c278b02f61",
   "metadata": {},
   "source": [
    "Import modules"
   ]
  },
  {
   "cell_type": "code",
   "execution_count": 1,
   "id": "3742a3f9-ebaa-482e-9fca-06f0d158c3df",
   "metadata": {},
   "outputs": [],
   "source": [
    "import aidbox # Communications with Aidbox\n",
    "import aidbox.mdm as mdm # Creating MDM models\n",
    "import altair as alt # Plot library used by splink\n",
    "import splink.postgres.postgres_comparison_library as cl # Constructing splink comparisons\n",
    "from splink.postgres.postgres_linker import PostgresLinker # splink linker for Aidbox\n",
    "import pandas as pd"
   ]
  },
  {
   "cell_type": "markdown",
   "id": "e467d0c2-f66c-4ca6-8076-d8293320a32a",
   "metadata": {},
   "source": [
    "Configure altair library"
   ]
  },
  {
   "cell_type": "code",
   "execution_count": 2,
   "id": "0e23de23-db12-4e18-9d9a-b448d4a00a0a",
   "metadata": {},
   "outputs": [],
   "source": [
    "alt.renderers.enable('mimetype');"
   ]
  },
  {
   "cell_type": "markdown",
   "id": "57d92b15-caf4-4b86-bd56-7d03a74a796a",
   "metadata": {},
   "source": [
    "# Connect to Aidbox"
   ]
  },
  {
   "cell_type": "code",
   "execution_count": 3,
   "id": "a3697e6b-36b7-44e8-87a7-60ac12a928aa",
   "metadata": {},
   "outputs": [],
   "source": [
    "box = aidbox.Aidbox('http://localhost:8765', 'root', 'secret')"
   ]
  },
  {
   "cell_type": "markdown",
   "id": "d03db197-20fe-4c44-9aba-13eb934ad21c",
   "metadata": {},
   "source": [
    "Verify connection"
   ]
  },
  {
   "cell_type": "code",
   "execution_count": 4,
   "id": "899160f3-ccda-45f9-8c4b-133475565ad0",
   "metadata": {},
   "outputs": [
    {
     "data": {
      "text/plain": [
       "{'version': '2212',\n",
       " 'channel': 'edge',\n",
       " 'commit': 'defc69181',\n",
       " 'zen-fhir-version': '0.6.6-7',\n",
       " 'timestamp': '2022-12-20T14:57:55Z'}"
      ]
     },
     "execution_count": 4,
     "metadata": {},
     "output_type": "execute_result"
    }
   ],
   "source": [
    "box.check()"
   ]
  },
  {
   "cell_type": "markdown",
   "id": "b27a8502-19ee-42f2-98b9-694659f31820",
   "metadata": {},
   "source": [
    "## Load sample data"
   ]
  },
  {
   "cell_type": "markdown",
   "id": "3b8a5043-7633-4f47-b7a9-fdca5cba4ca4",
   "metadata": {},
   "source": [
    "First drop all existing Patient data"
   ]
  },
  {
   "cell_type": "code",
   "execution_count": 5,
   "id": "8f6df95b-b300-47af-b7b0-522474459cb4",
   "metadata": {},
   "outputs": [
    {
     "data": {
      "text/plain": [
       "0"
      ]
     },
     "execution_count": 5,
     "metadata": {},
     "output_type": "execute_result"
    }
   ],
   "source": [
    "box.sql('truncate patient, patient_history')"
   ]
  },
  {
   "cell_type": "markdown",
   "id": "229f33ed-8061-4574-bb28-d225995b3927",
   "metadata": {},
   "source": [
    "Then load sample patients (from splink demos)"
   ]
  },
  {
   "cell_type": "code",
   "execution_count": 6,
   "id": "0fe6b29f-2b44-4471-bba9-22386606f1da",
   "metadata": {},
   "outputs": [],
   "source": [
    "import sys\n",
    "import subprocess "
   ]
  },
  {
   "cell_type": "code",
   "execution_count": 7,
   "id": "35ca859a-4a20-4447-be15-b20b32922793",
   "metadata": {},
   "outputs": [],
   "source": [
    "sp = subprocess.Popen([sys.executable, '-m', 'http.server', '9090', '--directory', '../data'])\n",
    "import time\n",
    "time.sleep(1)"
   ]
  },
  {
   "cell_type": "code",
   "execution_count": 8,
   "id": "0ff97d1e-3023-4371-8565-8ed022e7931d",
   "metadata": {},
   "outputs": [
    {
     "name": "stderr",
     "output_type": "stream",
     "text": [
      "127.0.0.1 - - [10/Jan/2023 20:36:36] \"GET /fake1000.ndjson.gz HTTP/1.1\" 200 -\n"
     ]
    },
    {
     "data": {
      "text/plain": [
       "{'Patient': 1000}"
      ]
     },
     "execution_count": 8,
     "metadata": {},
     "output_type": "execute_result"
    }
   ],
   "source": [
    "box.post_request(\n",
    "    '$load',\n",
    "    {\n",
    "        'source': 'http://localhost:9090/fake1000.ndjson.gz'\n",
    "    }\n",
    ")"
   ]
  },
  {
   "cell_type": "code",
   "execution_count": 9,
   "id": "2fa0f801-479d-4988-8c59-6f11fae24fb6",
   "metadata": {},
   "outputs": [],
   "source": [
    "sp.terminate()"
   ]
  },
  {
   "cell_type": "markdown",
   "id": "8aa7b340-2e7c-4235-b026-1d446b5e5aa1",
   "metadata": {},
   "source": [
    "## Create MDM model"
   ]
  },
  {
   "cell_type": "markdown",
   "id": "44394c07-882c-4007-bf7e-90946dd435be",
   "metadata": {},
   "source": [
    "Create empty MDM model for resource type"
   ]
  },
  {
   "cell_type": "code",
   "execution_count": 10,
   "id": "0d602820-f3c6-4773-b526-1c0588859442",
   "metadata": {},
   "outputs": [],
   "source": [
    "model = mdm.Model('Patient')"
   ]
  },
  {
   "cell_type": "markdown",
   "id": "b1b0a673-0400-4a53-8f29-d682000958f1",
   "metadata": {},
   "source": [
    "MDM model specifies how to extract data from FHIR into flat MDM table"
   ]
  },
  {
   "cell_type": "markdown",
   "id": "c4fd52bf-4cfe-4c11-a443-dbd1f1fc271e",
   "metadata": {},
   "source": [
    "Add fields"
   ]
  },
  {
   "cell_type": "code",
   "execution_count": 11,
   "id": "2049eea2-a65b-4e2f-9762-755432e5597b",
   "metadata": {},
   "outputs": [],
   "source": [
    "model['first_name'] = ['name', 0, 'given', 0]\n",
    "model['surname'] = ['name', 0, 'family']\n",
    "model['dob'] = ['birthDate']\n",
    "model['city'] = ['address', 0, 'city']\n",
    "model['email'] = ['telecom', {'system': 'email'}, 'value']\n",
    "model['cluster'] = ['identifier', 0, 'value']"
   ]
  },
  {
   "cell_type": "markdown",
   "id": "8c383fd0-b1ce-4713-a538-f54033429476",
   "metadata": {},
   "source": [
    "Right-hand side values are paths, where\n",
    "- strings are keys in dictionary\n",
    "- numbers are indices in list\n",
    "- dictionaries are additional filters"
   ]
  },
  {
   "cell_type": "markdown",
   "id": "a9f74c07-be80-476f-a17e-6ccaf906cf83",
   "metadata": {},
   "source": [
    "Enable term frequencies for needed columns (in this case, only city)"
   ]
  },
  {
   "cell_type": "code",
   "execution_count": 12,
   "id": "454c67ab-c19b-4bd2-b064-3e8bc69f519a",
   "metadata": {},
   "outputs": [],
   "source": [
    "model.enable_frequencies('city')"
   ]
  },
  {
   "cell_type": "markdown",
   "id": "2ae31dee-ce1f-49bf-81bb-571badd53037",
   "metadata": {},
   "source": [
    "Apply model. This action create MDM table in Aidbox"
   ]
  },
  {
   "cell_type": "code",
   "execution_count": 13,
   "id": "5b18ef9d-6063-415f-8c4a-9597624690a1",
   "metadata": {},
   "outputs": [
    {
     "data": {
      "text/plain": [
       "{'result': 'ok'}"
      ]
     },
     "execution_count": 13,
     "metadata": {},
     "output_type": "execute_result"
    }
   ],
   "source": [
    "model.apply(box)"
   ]
  },
  {
   "cell_type": "markdown",
   "id": "6acb6697-0ebc-4583-9d3d-aca65ddea23d",
   "metadata": {},
   "source": [
    "## Create splink linker"
   ]
  },
  {
   "cell_type": "markdown",
   "id": "daa79dc9-9edc-45c4-9b7c-9123815c79f3",
   "metadata": {},
   "source": [
    "You need to set `unique_id_column_name` to `id`. Except this it is the usual splink settings object"
   ]
  },
  {
   "cell_type": "code",
   "execution_count": 14,
   "id": "50c97f35-91cb-4440-919b-9e298f309b16",
   "metadata": {},
   "outputs": [],
   "source": [
    "settings = {\n",
    "    \"link_type\": \"dedupe_only\",\n",
    "    \"unique_id_column_name\": \"id\",\n",
    "    \"comparisons\": [\n",
    "        cl.exact_match(\"first_name\"),\n",
    "        cl.levenshtein_at_thresholds(\"surname\"),\n",
    "        cl.levenshtein_at_thresholds(\"dob\", 1),\n",
    "        cl.exact_match(\"city\", term_frequency_adjustments=True),\n",
    "        cl.levenshtein_at_thresholds(\"email\"),\n",
    "    ],\n",
    "    \"blocking_rules_to_generate_predictions\": [\n",
    "        \"l.first_name = r.first_name\",\n",
    "        \"l.surname = r.surname\",\n",
    "    ],\n",
    "    \"retain_matching_columns\": True,\n",
    "    \"retain_intermediate_calculation_columns\": True,\n",
    "}"
   ]
  },
  {
   "cell_type": "markdown",
   "id": "e68627c8-9363-47de-8454-99ad862aa7a6",
   "metadata": {},
   "source": [
    "Create linker. Linker for Aidbox accepts three arguments: MDM model, Aidbox connection, and splink settings object"
   ]
  },
  {
   "cell_type": "code",
   "execution_count": 15,
   "id": "d8e5971d-c39a-47c3-ae28-3db1fba6661e",
   "metadata": {},
   "outputs": [],
   "source": [
    "linker = PostgresLinker(model, box, settings)"
   ]
  },
  {
   "cell_type": "markdown",
   "id": "777f48cd-7da9-4bcf-a005-e505fec03e41",
   "metadata": {},
   "source": [
    "Drop existing splink tables to start from scratch"
   ]
  },
  {
   "cell_type": "code",
   "execution_count": 16,
   "id": "2c451f4d-40ec-4c5b-9b44-a1e022e4bb30",
   "metadata": {},
   "outputs": [],
   "source": [
    "linker.drop_splink_tables()"
   ]
  },
  {
   "cell_type": "markdown",
   "id": "041fddad-a7de-43b2-986e-b87fbe33bda1",
   "metadata": {},
   "source": [
    "## ETL and learning"
   ]
  },
  {
   "cell_type": "markdown",
   "id": "90c517ca-a726-4939-85b1-bd75b51ecd72",
   "metadata": {},
   "source": [
    "It is the same as splnk ETL and learning. Refer to splink documentation to learn how to use it.\n",
    "\n",
    "Process from splink demo below (without descriptions)"
   ]
  },
  {
   "cell_type": "code",
   "execution_count": 17,
   "id": "9366879b-61f4-4b72-b78c-2a962bc8dabf",
   "metadata": {},
   "outputs": [
    {
     "data": {
      "application/vnd.vegalite.v4+json": {
       "$schema": "https://vega.github.io/schema/vega-lite/v4.8.1.json",
       "config": {
        "axis": {
         "labelFontSize": 11
        },
        "view": {
         "continuousHeight": 300,
         "continuousWidth": 400,
         "width": 400
        }
       },
       "data": {
        "name": "data-0e7bce5a1d2f132e282789d6ef7780fe",
        "values": [
         {
          "column_name": "city",
          "null_count": 187,
          "null_proportion": 0.18700000000000006,
          "total_record_count": 1000
         },
         {
          "column_name": "cluster",
          "null_count": 0,
          "null_proportion": 0,
          "total_record_count": 1000
         },
         {
          "column_name": "dob",
          "null_count": 0,
          "null_proportion": 0,
          "total_record_count": 1000
         },
         {
          "column_name": "email",
          "null_count": 211,
          "null_proportion": 0.21099999999999997,
          "total_record_count": 1000
         },
         {
          "column_name": "first_name",
          "null_count": 169,
          "null_proportion": 0.16900000000000004,
          "total_record_count": 1000
         },
         {
          "column_name": "id",
          "null_count": 0,
          "null_proportion": 0,
          "total_record_count": 1000
         },
         {
          "column_name": "surname",
          "null_count": 181,
          "null_proportion": 0.18100000000000005,
          "total_record_count": 1000
         }
        ]
       },
       "layer": [
        {
         "encoding": {
          "color": {
           "field": "null_proportion",
           "legend": {
            "format": ".0%"
           },
           "scale": {
            "range": "heatmap"
           },
           "title": "Missingness",
           "type": "quantitative"
          },
          "tooltip": [
           {
            "field": "column_name",
            "title": "Column",
            "type": "nominal"
           },
           {
            "field": "null_count",
            "format": ",.0f",
            "title": "Count of nulls",
            "type": "quantitative"
           },
           {
            "field": "null_proportion",
            "format": ".2%",
            "title": "Percentage of nulls",
            "type": "quantitative"
           },
           {
            "field": "total_record_count",
            "format": ",.0f",
            "title": "Total record count",
            "type": "quantitative"
           }
          ],
          "x": {
           "axis": {
            "format": "%",
            "title": "Percentage of nulls"
           },
           "field": "null_proportion",
           "type": "quantitative"
          },
          "y": {
           "axis": {
            "title": ""
           },
           "field": "column_name",
           "sort": "-x",
           "type": "nominal"
          }
         },
         "mark": "bar",
         "title": "Missingness per column out of 1,000 records"
        }
       ],
       "title": ""
      },
      "image/png": "[encoded data removed]",
      "text/plain": [
       "<VegaLite 4 object>\n",
       "\n",
       "If you see this message, it means the renderer has not been properly enabled\n",
       "for the frontend that you are using. For more information, see\n",
       "https://altair-viz.github.io/user_guide/troubleshooting.html\n"
      ]
     },
     "execution_count": 17,
     "metadata": {},
     "output_type": "execute_result"
    }
   ],
   "source": [
    "linker.missingness_chart()"
   ]
  },
  {
   "cell_type": "code",
   "execution_count": 18,
   "id": "b4496474-b975-49ac-9cc8-e5d46c7dae01",
   "metadata": {},
   "outputs": [
    {
     "data": {
      "application/vnd.vegalite.v4+json": {
       "$schema": "https://vega.github.io/schema/vega-lite/v4.8.1.json",
       "config": {
        "view": {
         "continuousHeight": 300,
         "continuousWidth": 400
        }
       },
       "vconcat": [
        {
         "hconcat": [
          {
           "data": {
            "values": [
             {
              "distinct_value_count": 335,
              "group_name": "first_name",
              "percentile_ex_nulls": 0.9663056558363418,
              "percentile_inc_nulls": 0.972,
              "sum_tokens_in_value_count_group": 28,
              "total_non_null_rows": 831,
              "total_rows_inc_nulls": 1000,
              "value_count": 28
             },
             {
              "distinct_value_count": 335,
              "group_name": "first_name",
              "percentile_ex_nulls": 0.9470517448856799,
              "percentile_inc_nulls": 0.956,
              "sum_tokens_in_value_count_group": 16,
              "total_non_null_rows": 831,
              "total_rows_inc_nulls": 1000,
              "value_count": 16
             },
             {
              "distinct_value_count": 335,
              "group_name": "first_name",
              "percentile_ex_nulls": 0.9290012033694344,
              "percentile_inc_nulls": 0.9410000000000001,
              "sum_tokens_in_value_count_group": 15,
              "total_non_null_rows": 831,
              "total_rows_inc_nulls": 1000,
              "value_count": 15
             },
             {
              "distinct_value_count": 335,
              "group_name": "first_name",
              "percentile_ex_nulls": 0.9121540312876053,
              "percentile_inc_nulls": 0.927,
              "sum_tokens_in_value_count_group": 14,
              "total_non_null_rows": 831,
              "total_rows_inc_nulls": 1000,
              "value_count": 14
             },
             {
              "distinct_value_count": 335,
              "group_name": "first_name",
              "percentile_ex_nulls": 0.8965102286401926,
              "percentile_inc_nulls": 0.914,
              "sum_tokens_in_value_count_group": 13,
              "total_non_null_rows": 831,
              "total_rows_inc_nulls": 1000,
              "value_count": 13
             },
             {
              "distinct_value_count": 335,
              "group_name": "first_name",
              "percentile_ex_nulls": 0.8820697954271961,
              "percentile_inc_nulls": 0.902,
              "sum_tokens_in_value_count_group": 12,
              "total_non_null_rows": 831,
              "total_rows_inc_nulls": 1000,
              "value_count": 12
             },
             {
              "distinct_value_count": 335,
              "group_name": "first_name",
              "percentile_ex_nulls": 0.8423586040914561,
              "percentile_inc_nulls": 0.869,
              "sum_tokens_in_value_count_group": 33,
              "total_non_null_rows": 831,
              "total_rows_inc_nulls": 1000,
              "value_count": 11
             },
             {
              "distinct_value_count": 335,
              "group_name": "first_name",
              "percentile_ex_nulls": 0.8182912154031288,
              "percentile_inc_nulls": 0.849,
              "sum_tokens_in_value_count_group": 20,
              "total_non_null_rows": 831,
              "total_rows_inc_nulls": 1000,
              "value_count": 10
             },
             {
              "distinct_value_count": 335,
              "group_name": "first_name",
              "percentile_ex_nulls": 0.7641395908543923,
              "percentile_inc_nulls": 0.804,
              "sum_tokens_in_value_count_group": 45,
              "total_non_null_rows": 831,
              "total_rows_inc_nulls": 1000,
              "value_count": 9
             },
             {
              "distinct_value_count": 335,
              "group_name": "first_name",
              "percentile_ex_nulls": 0.7352587244283995,
              "percentile_inc_nulls": 0.78,
              "sum_tokens_in_value_count_group": 24,
              "total_non_null_rows": 831,
              "total_rows_inc_nulls": 1000,
              "value_count": 8
             },
             {
              "distinct_value_count": 335,
              "group_name": "first_name",
              "percentile_ex_nulls": 0.7015643802647413,
              "percentile_inc_nulls": 0.752,
              "sum_tokens_in_value_count_group": 28,
              "total_non_null_rows": 831,
              "total_rows_inc_nulls": 1000,
              "value_count": 7
             },
             {
              "distinct_value_count": 335,
              "group_name": "first_name",
              "percentile_ex_nulls": 0.6293622141997594,
              "percentile_inc_nulls": 0.692,
              "sum_tokens_in_value_count_group": 60,
              "total_non_null_rows": 831,
              "total_rows_inc_nulls": 1000,
              "value_count": 6
             },
             {
              "distinct_value_count": 335,
              "group_name": "first_name",
              "percentile_ex_nulls": 0.5391095066185319,
              "percentile_inc_nulls": 0.617,
              "sum_tokens_in_value_count_group": 75,
              "total_non_null_rows": 831,
              "total_rows_inc_nulls": 1000,
              "value_count": 5
             },
             {
              "distinct_value_count": 335,
              "group_name": "first_name",
              "percentile_ex_nulls": 0.42358604091456076,
              "percentile_inc_nulls": 0.521,
              "sum_tokens_in_value_count_group": 96,
              "total_non_null_rows": 831,
              "total_rows_inc_nulls": 1000,
              "value_count": 4
             },
             {
              "distinct_value_count": 335,
              "group_name": "first_name",
              "percentile_ex_nulls": 0.3369434416365824,
              "percentile_inc_nulls": 0.44899999999999995,
              "sum_tokens_in_value_count_group": 72,
              "total_non_null_rows": 831,
              "total_rows_inc_nulls": 1000,
              "value_count": 3
             },
             {
              "distinct_value_count": 335,
              "group_name": "first_name",
              "percentile_ex_nulls": 0.2382671480144405,
              "percentile_inc_nulls": 0.367,
              "sum_tokens_in_value_count_group": 82,
              "total_non_null_rows": 831,
              "total_rows_inc_nulls": 1000,
              "value_count": 2
             },
             {
              "distinct_value_count": 335,
              "group_name": "first_name",
              "percentile_ex_nulls": 0,
              "percentile_inc_nulls": 0.16900000000000004,
              "sum_tokens_in_value_count_group": 198,
              "total_non_null_rows": 831,
              "total_rows_inc_nulls": 1000,
              "value_count": 1
             },
             {
              "distinct_value_count": 335,
              "group_name": "first_name",
              "percentile_ex_nulls": 1,
              "percentile_inc_nulls": 1,
              "sum_tokens_in_value_count_group": 28,
              "total_non_null_rows": 831,
              "total_rows_inc_nulls": 1000,
              "value_count": 28
             }
            ]
           },
           "encoding": {
            "tooltip": [
             {
              "field": "value_count",
              "type": "quantitative"
             },
             {
              "field": "percentile_ex_nulls",
              "type": "quantitative"
             },
             {
              "field": "percentile_inc_nulls",
              "type": "quantitative"
             },
             {
              "field": "total_non_null_rows",
              "type": "quantitative"
             },
             {
              "field": "total_rows_inc_nulls",
              "type": "quantitative"
             }
            ],
            "x": {
             "field": "percentile_ex_nulls",
             "sort": "descending",
             "title": "Percentile",
             "type": "quantitative"
            },
            "y": {
             "field": "value_count",
             "title": "Count of values",
             "type": "quantitative"
            }
           },
           "mark": {
            "interpolate": "step-after",
            "type": "line"
           },
           "title": {
            "subtitle": "In this col, 169 values (16.9%) are null and there are 335 distinct values",
            "text": "Distribution of counts of values in column first_name"
           }
          },
          {
           "data": {
            "values": [
             {
              "distinct_value_count": 335,
              "group_name": "first_name",
              "total_non_null_rows": 831,
              "total_rows_inc_nulls": 1000,
              "value": "Oliver",
              "value_count": 28
             },
             {
              "distinct_value_count": 335,
              "group_name": "first_name",
              "total_non_null_rows": 831,
              "total_rows_inc_nulls": 1000,
              "value": "Jacob",
              "value_count": 16
             },
             {
              "distinct_value_count": 335,
              "group_name": "first_name",
              "total_non_null_rows": 831,
              "total_rows_inc_nulls": 1000,
              "value": "Freddie",
              "value_count": 15
             },
             {
              "distinct_value_count": 335,
              "group_name": "first_name",
              "total_non_null_rows": 831,
              "total_rows_inc_nulls": 1000,
              "value": "Olivia",
              "value_count": 14
             },
             {
              "distinct_value_count": 335,
              "group_name": "first_name",
              "total_non_null_rows": 831,
              "total_rows_inc_nulls": 1000,
              "value": "James",
              "value_count": 13
             },
             {
              "distinct_value_count": 335,
              "group_name": "first_name",
              "total_non_null_rows": 831,
              "total_rows_inc_nulls": 1000,
              "value": "George",
              "value_count": 12
             },
             {
              "distinct_value_count": 335,
              "group_name": "first_name",
              "total_non_null_rows": 831,
              "total_rows_inc_nulls": 1000,
              "value": "Alfie",
              "value_count": 11
             },
             {
              "distinct_value_count": 335,
              "group_name": "first_name",
              "total_non_null_rows": 831,
              "total_rows_inc_nulls": 1000,
              "value": "Elizabeth",
              "value_count": 11
             },
             {
              "distinct_value_count": 335,
              "group_name": "first_name",
              "total_non_null_rows": 831,
              "total_rows_inc_nulls": 1000,
              "value": "Jessica",
              "value_count": 11
             },
             {
              "distinct_value_count": 335,
              "group_name": "first_name",
              "total_non_null_rows": 831,
              "total_rows_inc_nulls": 1000,
              "value": "Theodore",
              "value_count": 10
             }
            ]
           },
           "encoding": {
            "tooltip": [
             {
              "field": "value",
              "type": "nominal"
             },
             {
              "field": "value_count",
              "type": "quantitative"
             },
             {
              "field": "total_non_null_rows",
              "type": "quantitative"
             },
             {
              "field": "total_rows_inc_nulls",
              "type": "quantitative"
             }
            ],
            "x": {
             "field": "value",
             "sort": "-y",
             "title": null,
             "type": "nominal"
            },
            "y": {
             "field": "value_count",
             "title": "Value count",
             "type": "quantitative"
            }
           },
           "mark": "bar",
           "title": "Top 10 values by value count"
          },
          {
           "data": {
            "values": [
             {
              "distinct_value_count": 335,
              "group_name": "first_name",
              "total_non_null_rows": 831,
              "total_rows_inc_nulls": 1000,
              "value": "Mila",
              "value_count": 1
             },
             {
              "distinct_value_count": 335,
              "group_name": "first_name",
              "total_non_null_rows": 831,
              "total_rows_inc_nulls": 1000,
              "value": "Hall",
              "value_count": 1
             },
             {
              "distinct_value_count": 335,
              "group_name": "first_name",
              "total_non_null_rows": 831,
              "total_rows_inc_nulls": 1000,
              "value": "EvEa",
              "value_count": 1
             },
             {
              "distinct_value_count": 335,
              "group_name": "first_name",
              "total_non_null_rows": 831,
              "total_rows_inc_nulls": 1000,
              "value": "Oscra",
              "value_count": 1
             },
             {
              "distinct_value_count": 335,
              "group_name": "first_name",
              "total_non_null_rows": 831,
              "total_rows_inc_nulls": 1000,
              "value": "Eloilt",
              "value_count": 1
             }
            ]
           },
           "encoding": {
            "tooltip": [
             {
              "field": "value",
              "type": "nominal"
             },
             {
              "field": "value_count",
              "type": "quantitative"
             },
             {
              "field": "total_non_null_rows",
              "type": "quantitative"
             },
             {
              "field": "total_rows_inc_nulls",
              "type": "quantitative"
             }
            ],
            "x": {
             "field": "value",
             "sort": "-y",
             "title": null,
             "type": "nominal"
            },
            "y": {
             "field": "value_count",
             "scale": {
              "domain": [
               0,
               28
              ]
             },
             "title": "Value count",
             "type": "quantitative"
            }
           },
           "mark": "bar",
           "title": "Bottom 5 values by value count"
          }
         ]
        },
        {
         "hconcat": [
          {
           "data": {
            "values": [
             {
              "distinct_value_count": 218,
              "group_name": "city",
              "percentile_ex_nulls": 0.7872078720787208,
              "percentile_inc_nulls": 0.827,
              "sum_tokens_in_value_count_group": 173,
              "total_non_null_rows": 813,
              "total_rows_inc_nulls": 1000,
              "value_count": 173
             },
             {
              "distinct_value_count": 218,
              "group_name": "city",
              "percentile_ex_nulls": 0.7380073800738007,
              "percentile_inc_nulls": 0.787,
              "sum_tokens_in_value_count_group": 40,
              "total_non_null_rows": 813,
              "total_rows_inc_nulls": 1000,
              "value_count": 40
             },
             {
              "distinct_value_count": 218,
              "group_name": "city",
              "percentile_ex_nulls": 0.6974169741697417,
              "percentile_inc_nulls": 0.754,
              "sum_tokens_in_value_count_group": 33,
              "total_non_null_rows": 813,
              "total_rows_inc_nulls": 1000,
              "value_count": 33
             },
             {
              "distinct_value_count": 218,
              "group_name": "city",
              "percentile_ex_nulls": 0.6715867158671587,
              "percentile_inc_nulls": 0.733,
              "sum_tokens_in_value_count_group": 21,
              "total_non_null_rows": 813,
              "total_rows_inc_nulls": 1000,
              "value_count": 21
             },
             {
              "distinct_value_count": 218,
              "group_name": "city",
              "percentile_ex_nulls": 0.6494464944649446,
              "percentile_inc_nulls": 0.7150000000000001,
              "sum_tokens_in_value_count_group": 18,
              "total_non_null_rows": 813,
              "total_rows_inc_nulls": 1000,
              "value_count": 18
             },
             {
              "distinct_value_count": 218,
              "group_name": "city",
              "percentile_ex_nulls": 0.6076260762607626,
              "percentile_inc_nulls": 0.681,
              "sum_tokens_in_value_count_group": 34,
              "total_non_null_rows": 813,
              "total_rows_inc_nulls": 1000,
              "value_count": 17
             },
             {
              "distinct_value_count": 218,
              "group_name": "city",
              "percentile_ex_nulls": 0.5682656826568266,
              "percentile_inc_nulls": 0.649,
              "sum_tokens_in_value_count_group": 32,
              "total_non_null_rows": 813,
              "total_rows_inc_nulls": 1000,
              "value_count": 16
             },
             {
              "distinct_value_count": 218,
              "group_name": "city",
              "percentile_ex_nulls": 0.5166051660516605,
              "percentile_inc_nulls": 0.607,
              "sum_tokens_in_value_count_group": 42,
              "total_non_null_rows": 813,
              "total_rows_inc_nulls": 1000,
              "value_count": 14
             },
             {
              "distinct_value_count": 218,
              "group_name": "city",
              "percentile_ex_nulls": 0.48462484624846247,
              "percentile_inc_nulls": 0.581,
              "sum_tokens_in_value_count_group": 26,
              "total_non_null_rows": 813,
              "total_rows_inc_nulls": 1000,
              "value_count": 13
             },
             {
              "distinct_value_count": 218,
              "group_name": "city",
              "percentile_ex_nulls": 0.44034440344403447,
              "percentile_inc_nulls": 0.5449999999999999,
              "sum_tokens_in_value_count_group": 36,
              "total_non_null_rows": 813,
              "total_rows_inc_nulls": 1000,
              "value_count": 12
             },
             {
              "distinct_value_count": 218,
              "group_name": "city",
              "percentile_ex_nulls": 0.41574415744157445,
              "percentile_inc_nulls": 0.525,
              "sum_tokens_in_value_count_group": 20,
              "total_non_null_rows": 813,
              "total_rows_inc_nulls": 1000,
              "value_count": 10
             },
             {
              "distinct_value_count": 218,
              "group_name": "city",
              "percentile_ex_nulls": 0.3936039360393604,
              "percentile_inc_nulls": 0.507,
              "sum_tokens_in_value_count_group": 18,
              "total_non_null_rows": 813,
              "total_rows_inc_nulls": 1000,
              "value_count": 9
             },
             {
              "distinct_value_count": 218,
              "group_name": "city",
              "percentile_ex_nulls": 0.3640836408364083,
              "percentile_inc_nulls": 0.483,
              "sum_tokens_in_value_count_group": 24,
              "total_non_null_rows": 813,
              "total_rows_inc_nulls": 1000,
              "value_count": 8
             },
             {
              "distinct_value_count": 218,
              "group_name": "city",
              "percentile_ex_nulls": 0.3124231242312423,
              "percentile_inc_nulls": 0.44099999999999995,
              "sum_tokens_in_value_count_group": 42,
              "total_non_null_rows": 813,
              "total_rows_inc_nulls": 1000,
              "value_count": 7
             },
             {
              "distinct_value_count": 218,
              "group_name": "city",
              "percentile_ex_nulls": 0.28290282902829034,
              "percentile_inc_nulls": 0.41700000000000004,
              "sum_tokens_in_value_count_group": 24,
              "total_non_null_rows": 813,
              "total_rows_inc_nulls": 1000,
              "value_count": 6
             },
             {
              "distinct_value_count": 218,
              "group_name": "city",
              "percentile_ex_nulls": 0.2583025830258303,
              "percentile_inc_nulls": 0.397,
              "sum_tokens_in_value_count_group": 20,
              "total_non_null_rows": 813,
              "total_rows_inc_nulls": 1000,
              "value_count": 5
             },
             {
              "distinct_value_count": 218,
              "group_name": "city",
              "percentile_ex_nulls": 0.24354243542435428,
              "percentile_inc_nulls": 0.385,
              "sum_tokens_in_value_count_group": 12,
              "total_non_null_rows": 813,
              "total_rows_inc_nulls": 1000,
              "value_count": 4
             },
             {
              "distinct_value_count": 218,
              "group_name": "city",
              "percentile_ex_nulls": 0.22878228782287824,
              "percentile_inc_nulls": 0.373,
              "sum_tokens_in_value_count_group": 12,
              "total_non_null_rows": 813,
              "total_rows_inc_nulls": 1000,
              "value_count": 3
             },
             {
              "distinct_value_count": 218,
              "group_name": "city",
              "percentile_ex_nulls": 0.1968019680196802,
              "percentile_inc_nulls": 0.347,
              "sum_tokens_in_value_count_group": 26,
              "total_non_null_rows": 813,
              "total_rows_inc_nulls": 1000,
              "value_count": 2
             },
             {
              "distinct_value_count": 218,
              "group_name": "city",
              "percentile_ex_nulls": 0,
              "percentile_inc_nulls": 0.18700000000000006,
              "sum_tokens_in_value_count_group": 160,
              "total_non_null_rows": 813,
              "total_rows_inc_nulls": 1000,
              "value_count": 1
             },
             {
              "distinct_value_count": 218,
              "group_name": "city",
              "percentile_ex_nulls": 1,
              "percentile_inc_nulls": 1,
              "sum_tokens_in_value_count_group": 173,
              "total_non_null_rows": 813,
              "total_rows_inc_nulls": 1000,
              "value_count": 173
             }
            ]
           },
           "encoding": {
            "tooltip": [
             {
              "field": "value_count",
              "type": "quantitative"
             },
             {
              "field": "percentile_ex_nulls",
              "type": "quantitative"
             },
             {
              "field": "percentile_inc_nulls",
              "type": "quantitative"
             },
             {
              "field": "total_non_null_rows",
              "type": "quantitative"
             },
             {
              "field": "total_rows_inc_nulls",
              "type": "quantitative"
             }
            ],
            "x": {
             "field": "percentile_ex_nulls",
             "sort": "descending",
             "title": "Percentile",
             "type": "quantitative"
            },
            "y": {
             "field": "value_count",
             "title": "Count of values",
             "type": "quantitative"
            }
           },
           "mark": {
            "interpolate": "step-after",
            "type": "line"
           },
           "title": {
            "subtitle": "In this col, 187 values (18.7%) are null and there are 218 distinct values",
            "text": "Distribution of counts of values in column city"
           }
          },
          {
           "data": {
            "values": [
             {
              "distinct_value_count": 218,
              "group_name": "city",
              "total_non_null_rows": 813,
              "total_rows_inc_nulls": 1000,
              "value": "London",
              "value_count": 173
             },
             {
              "distinct_value_count": 218,
              "group_name": "city",
              "total_non_null_rows": 813,
              "total_rows_inc_nulls": 1000,
              "value": "Birmingham",
              "value_count": 40
             },
             {
              "distinct_value_count": 218,
              "group_name": "city",
              "total_non_null_rows": 813,
              "total_rows_inc_nulls": 1000,
              "value": "Liverpool",
              "value_count": 33
             },
             {
              "distinct_value_count": 218,
              "group_name": "city",
              "total_non_null_rows": 813,
              "total_rows_inc_nulls": 1000,
              "value": "Coventry",
              "value_count": 21
             },
             {
              "distinct_value_count": 218,
              "group_name": "city",
              "total_non_null_rows": 813,
              "total_rows_inc_nulls": 1000,
              "value": "Newcastle-upon-Tyne",
              "value_count": 18
             },
             {
              "distinct_value_count": 218,
              "group_name": "city",
              "total_non_null_rows": 813,
              "total_rows_inc_nulls": 1000,
              "value": "Leeds",
              "value_count": 17
             },
             {
              "distinct_value_count": 218,
              "group_name": "city",
              "total_non_null_rows": 813,
              "total_rows_inc_nulls": 1000,
              "value": "Manchester",
              "value_count": 17
             },
             {
              "distinct_value_count": 218,
              "group_name": "city",
              "total_non_null_rows": 813,
              "total_rows_inc_nulls": 1000,
              "value": "Aberdeen",
              "value_count": 16
             },
             {
              "distinct_value_count": 218,
              "group_name": "city",
              "total_non_null_rows": 813,
              "total_rows_inc_nulls": 1000,
              "value": "Bristol",
              "value_count": 16
             },
             {
              "distinct_value_count": 218,
              "group_name": "city",
              "total_non_null_rows": 813,
              "total_rows_inc_nulls": 1000,
              "value": "Salford",
              "value_count": 14
             }
            ]
           },
           "encoding": {
            "tooltip": [
             {
              "field": "value",
              "type": "nominal"
             },
             {
              "field": "value_count",
              "type": "quantitative"
             },
             {
              "field": "total_non_null_rows",
              "type": "quantitative"
             },
             {
              "field": "total_rows_inc_nulls",
              "type": "quantitative"
             }
            ],
            "x": {
             "field": "value",
             "sort": "-y",
             "title": null,
             "type": "nominal"
            },
            "y": {
             "field": "value_count",
             "title": "Value count",
             "type": "quantitative"
            }
           },
           "mark": "bar",
           "title": "Top 10 values by value count"
          },
          {
           "data": {
            "values": [
             {
              "distinct_value_count": 218,
              "group_name": "city",
              "total_non_null_rows": 813,
              "total_rows_inc_nulls": 1000,
              "value": "Cfrdifa",
              "value_count": 1
             },
             {
              "distinct_value_count": 218,
              "group_name": "city",
              "total_non_null_rows": 813,
              "total_rows_inc_nulls": 1000,
              "value": "LLoodnn",
              "value_count": 1
             },
             {
              "distinct_value_count": 218,
              "group_name": "city",
              "total_non_null_rows": 813,
              "total_rows_inc_nulls": 1000,
              "value": "Birminghma",
              "value_count": 1
             },
             {
              "distinct_value_count": 218,
              "group_name": "city",
              "total_non_null_rows": 813,
              "total_rows_inc_nulls": 1000,
              "value": "Lioerpovl",
              "value_count": 1
             },
             {
              "distinct_value_count": 218,
              "group_name": "city",
              "total_non_null_rows": 813,
              "total_rows_inc_nulls": 1000,
              "value": "Kigngston-upon-Hull",
              "value_count": 1
             }
            ]
           },
           "encoding": {
            "tooltip": [
             {
              "field": "value",
              "type": "nominal"
             },
             {
              "field": "value_count",
              "type": "quantitative"
             },
             {
              "field": "total_non_null_rows",
              "type": "quantitative"
             },
             {
              "field": "total_rows_inc_nulls",
              "type": "quantitative"
             }
            ],
            "x": {
             "field": "value",
             "sort": "-y",
             "title": null,
             "type": "nominal"
            },
            "y": {
             "field": "value_count",
             "scale": {
              "domain": [
               0,
               173
              ]
             },
             "title": "Value count",
             "type": "quantitative"
            }
           },
           "mark": "bar",
           "title": "Bottom 5 values by value count"
          }
         ]
        },
        {
         "hconcat": [
          {
           "data": {
            "values": [
             {
              "distinct_value_count": 371,
              "group_name": "surname",
              "percentile_ex_nulls": 0.9719169719169719,
              "percentile_inc_nulls": 0.977,
              "sum_tokens_in_value_count_group": 23,
              "total_non_null_rows": 819,
              "total_rows_inc_nulls": 1000,
              "value_count": 23
             },
             {
              "distinct_value_count": 371,
              "group_name": "surname",
              "percentile_ex_nulls": 0.9377289377289377,
              "percentile_inc_nulls": 0.949,
              "sum_tokens_in_value_count_group": 28,
              "total_non_null_rows": 819,
              "total_rows_inc_nulls": 1000,
              "value_count": 14
             },
             {
              "distinct_value_count": 371,
              "group_name": "surname",
              "percentile_ex_nulls": 0.905982905982906,
              "percentile_inc_nulls": 0.923,
              "sum_tokens_in_value_count_group": 26,
              "total_non_null_rows": 819,
              "total_rows_inc_nulls": 1000,
              "value_count": 13
             },
             {
              "distinct_value_count": 371,
              "group_name": "surname",
              "percentile_ex_nulls": 0.8913308913308913,
              "percentile_inc_nulls": 0.911,
              "sum_tokens_in_value_count_group": 12,
              "total_non_null_rows": 819,
              "total_rows_inc_nulls": 1000,
              "value_count": 12
             },
             {
              "distinct_value_count": 371,
              "group_name": "surname",
              "percentile_ex_nulls": 0.8778998778998779,
              "percentile_inc_nulls": 0.9,
              "sum_tokens_in_value_count_group": 11,
              "total_non_null_rows": 819,
              "total_rows_inc_nulls": 1000,
              "value_count": 11
             },
             {
              "distinct_value_count": 371,
              "group_name": "surname",
              "percentile_ex_nulls": 0.8534798534798534,
              "percentile_inc_nulls": 0.88,
              "sum_tokens_in_value_count_group": 20,
              "total_non_null_rows": 819,
              "total_rows_inc_nulls": 1000,
              "value_count": 10
             },
             {
              "distinct_value_count": 371,
              "group_name": "surname",
              "percentile_ex_nulls": 0.8315018315018314,
              "percentile_inc_nulls": 0.862,
              "sum_tokens_in_value_count_group": 18,
              "total_non_null_rows": 819,
              "total_rows_inc_nulls": 1000,
              "value_count": 9
             },
             {
              "distinct_value_count": 371,
              "group_name": "surname",
              "percentile_ex_nulls": 0.7728937728937729,
              "percentile_inc_nulls": 0.8140000000000001,
              "sum_tokens_in_value_count_group": 48,
              "total_non_null_rows": 819,
              "total_rows_inc_nulls": 1000,
              "value_count": 8
             },
             {
              "distinct_value_count": 371,
              "group_name": "surname",
              "percentile_ex_nulls": 0.7216117216117216,
              "percentile_inc_nulls": 0.772,
              "sum_tokens_in_value_count_group": 42,
              "total_non_null_rows": 819,
              "total_rows_inc_nulls": 1000,
              "value_count": 7
             },
             {
              "distinct_value_count": 371,
              "group_name": "surname",
              "percentile_ex_nulls": 0.663003663003663,
              "percentile_inc_nulls": 0.724,
              "sum_tokens_in_value_count_group": 48,
              "total_non_null_rows": 819,
              "total_rows_inc_nulls": 1000,
              "value_count": 6
             },
             {
              "distinct_value_count": 371,
              "group_name": "surname",
              "percentile_ex_nulls": 0.6080586080586081,
              "percentile_inc_nulls": 0.679,
              "sum_tokens_in_value_count_group": 45,
              "total_non_null_rows": 819,
              "total_rows_inc_nulls": 1000,
              "value_count": 5
             },
             {
              "distinct_value_count": 371,
              "group_name": "surname",
              "percentile_ex_nulls": 0.5054945054945055,
              "percentile_inc_nulls": 0.595,
              "sum_tokens_in_value_count_group": 84,
              "total_non_null_rows": 819,
              "total_rows_inc_nulls": 1000,
              "value_count": 4
             },
             {
              "distinct_value_count": 371,
              "group_name": "surname",
              "percentile_ex_nulls": 0.39560439560439564,
              "percentile_inc_nulls": 0.505,
              "sum_tokens_in_value_count_group": 90,
              "total_non_null_rows": 819,
              "total_rows_inc_nulls": 1000,
              "value_count": 3
             },
             {
              "distinct_value_count": 371,
              "group_name": "surname",
              "percentile_ex_nulls": 0.28815628815628813,
              "percentile_inc_nulls": 0.41700000000000004,
              "sum_tokens_in_value_count_group": 88,
              "total_non_null_rows": 819,
              "total_rows_inc_nulls": 1000,
              "value_count": 2
             },
             {
              "distinct_value_count": 371,
              "group_name": "surname",
              "percentile_ex_nulls": 0,
              "percentile_inc_nulls": 0.18100000000000005,
              "sum_tokens_in_value_count_group": 236,
              "total_non_null_rows": 819,
              "total_rows_inc_nulls": 1000,
              "value_count": 1
             },
             {
              "distinct_value_count": 371,
              "group_name": "surname",
              "percentile_ex_nulls": 1,
              "percentile_inc_nulls": 1,
              "sum_tokens_in_value_count_group": 23,
              "total_non_null_rows": 819,
              "total_rows_inc_nulls": 1000,
              "value_count": 23
             }
            ]
           },
           "encoding": {
            "tooltip": [
             {
              "field": "value_count",
              "type": "quantitative"
             },
             {
              "field": "percentile_ex_nulls",
              "type": "quantitative"
             },
             {
              "field": "percentile_inc_nulls",
              "type": "quantitative"
             },
             {
              "field": "total_non_null_rows",
              "type": "quantitative"
             },
             {
              "field": "total_rows_inc_nulls",
              "type": "quantitative"
             }
            ],
            "x": {
             "field": "percentile_ex_nulls",
             "sort": "descending",
             "title": "Percentile",
             "type": "quantitative"
            },
            "y": {
             "field": "value_count",
             "title": "Count of values",
             "type": "quantitative"
            }
           },
           "mark": {
            "interpolate": "step-after",
            "type": "line"
           },
           "title": {
            "subtitle": "In this col, 181 values (18.1%) are null and there are 371 distinct values",
            "text": "Distribution of counts of values in column surname"
           }
          },
          {
           "data": {
            "values": [
             {
              "distinct_value_count": 371,
              "group_name": "surname",
              "total_non_null_rows": 819,
              "total_rows_inc_nulls": 1000,
              "value": "Jones",
              "value_count": 23
             },
             {
              "distinct_value_count": 371,
              "group_name": "surname",
              "total_non_null_rows": 819,
              "total_rows_inc_nulls": 1000,
              "value": "Davies",
              "value_count": 14
             },
             {
              "distinct_value_count": 371,
              "group_name": "surname",
              "total_non_null_rows": 819,
              "total_rows_inc_nulls": 1000,
              "value": "Taylor",
              "value_count": 14
             },
             {
              "distinct_value_count": 371,
              "group_name": "surname",
              "total_non_null_rows": 819,
              "total_rows_inc_nulls": 1000,
              "value": "Hall",
              "value_count": 13
             },
             {
              "distinct_value_count": 371,
              "group_name": "surname",
              "total_non_null_rows": 819,
              "total_rows_inc_nulls": 1000,
              "value": "Campbell",
              "value_count": 13
             },
             {
              "distinct_value_count": 371,
              "group_name": "surname",
              "total_non_null_rows": 819,
              "total_rows_inc_nulls": 1000,
              "value": "Morgan",
              "value_count": 12
             },
             {
              "distinct_value_count": 371,
              "group_name": "surname",
              "total_non_null_rows": 819,
              "total_rows_inc_nulls": 1000,
              "value": "Smith",
              "value_count": 11
             },
             {
              "distinct_value_count": 371,
              "group_name": "surname",
              "total_non_null_rows": 819,
              "total_rows_inc_nulls": 1000,
              "value": "King",
              "value_count": 10
             },
             {
              "distinct_value_count": 371,
              "group_name": "surname",
              "total_non_null_rows": 819,
              "total_rows_inc_nulls": 1000,
              "value": "Russell",
              "value_count": 10
             },
             {
              "distinct_value_count": 371,
              "group_name": "surname",
              "total_non_null_rows": 819,
              "total_rows_inc_nulls": 1000,
              "value": "Wright",
              "value_count": 9
             }
            ]
           },
           "encoding": {
            "tooltip": [
             {
              "field": "value",
              "type": "nominal"
             },
             {
              "field": "value_count",
              "type": "quantitative"
             },
             {
              "field": "total_non_null_rows",
              "type": "quantitative"
             },
             {
              "field": "total_rows_inc_nulls",
              "type": "quantitative"
             }
            ],
            "x": {
             "field": "value",
             "sort": "-y",
             "title": null,
             "type": "nominal"
            },
            "y": {
             "field": "value_count",
             "title": "Value count",
             "type": "quantitative"
            }
           },
           "mark": "bar",
           "title": "Top 10 values by value count"
          },
          {
           "data": {
            "values": [
             {
              "distinct_value_count": 371,
              "group_name": "surname",
              "total_non_null_rows": 819,
              "total_rows_inc_nulls": 1000,
              "value": "Hlla",
              "value_count": 1
             },
             {
              "distinct_value_count": 371,
              "group_name": "surname",
              "total_non_null_rows": 819,
              "total_rows_inc_nulls": 1000,
              "value": "Robibnson",
              "value_count": 1
             },
             {
              "distinct_value_count": 371,
              "group_name": "surname",
              "total_non_null_rows": 819,
              "total_rows_inc_nulls": 1000,
              "value": "Bernass",
              "value_count": 1
             },
             {
              "distinct_value_count": 371,
              "group_name": "surname",
              "total_non_null_rows": 819,
              "total_rows_inc_nulls": 1000,
              "value": "Sofia",
              "value_count": 1
             },
             {
              "distinct_value_count": 371,
              "group_name": "surname",
              "total_non_null_rows": 819,
              "total_rows_inc_nulls": 1000,
              "value": "Armstrnog",
              "value_count": 1
             }
            ]
           },
           "encoding": {
            "tooltip": [
             {
              "field": "value",
              "type": "nominal"
             },
             {
              "field": "value_count",
              "type": "quantitative"
             },
             {
              "field": "total_non_null_rows",
              "type": "quantitative"
             },
             {
              "field": "total_rows_inc_nulls",
              "type": "quantitative"
             }
            ],
            "x": {
             "field": "value",
             "sort": "-y",
             "title": null,
             "type": "nominal"
            },
            "y": {
             "field": "value_count",
             "scale": {
              "domain": [
               0,
               23
              ]
             },
             "title": "Value count",
             "type": "quantitative"
            }
           },
           "mark": "bar",
           "title": "Bottom 5 values by value count"
          }
         ]
        },
        {
         "hconcat": [
          {
           "data": {
            "values": [
             {
              "distinct_value_count": 424,
              "group_name": "email",
              "percentile_ex_nulls": 0.9619771863117871,
              "percentile_inc_nulls": 0.97,
              "sum_tokens_in_value_count_group": 30,
              "total_non_null_rows": 789,
              "total_rows_inc_nulls": 1000,
              "value_count": 6
             },
             {
              "distinct_value_count": 424,
              "group_name": "email",
              "percentile_ex_nulls": 0.8479087452471483,
              "percentile_inc_nulls": 0.88,
              "sum_tokens_in_value_count_group": 90,
              "total_non_null_rows": 789,
              "total_rows_inc_nulls": 1000,
              "value_count": 5
             },
             {
              "distinct_value_count": 424,
              "group_name": "email",
              "percentile_ex_nulls": 0.6653992395437263,
              "percentile_inc_nulls": 0.736,
              "sum_tokens_in_value_count_group": 144,
              "total_non_null_rows": 789,
              "total_rows_inc_nulls": 1000,
              "value_count": 4
             },
             {
              "distinct_value_count": 424,
              "group_name": "email",
              "percentile_ex_nulls": 0.47148288973384034,
              "percentile_inc_nulls": 0.583,
              "sum_tokens_in_value_count_group": 153,
              "total_non_null_rows": 789,
              "total_rows_inc_nulls": 1000,
              "value_count": 3
             },
             {
              "distinct_value_count": 424,
              "group_name": "email",
              "percentile_ex_nulls": 0.32446134347275035,
              "percentile_inc_nulls": 0.46699999999999997,
              "sum_tokens_in_value_count_group": 116,
              "total_non_null_rows": 789,
              "total_rows_inc_nulls": 1000,
              "value_count": 2
             },
             {
              "distinct_value_count": 424,
              "group_name": "email",
              "percentile_ex_nulls": 0,
              "percentile_inc_nulls": 0.21099999999999997,
              "sum_tokens_in_value_count_group": 256,
              "total_non_null_rows": 789,
              "total_rows_inc_nulls": 1000,
              "value_count": 1
             },
             {
              "distinct_value_count": 424,
              "group_name": "email",
              "percentile_ex_nulls": 1,
              "percentile_inc_nulls": 1,
              "sum_tokens_in_value_count_group": 30,
              "total_non_null_rows": 789,
              "total_rows_inc_nulls": 1000,
              "value_count": 6
             }
            ]
           },
           "encoding": {
            "tooltip": [
             {
              "field": "value_count",
              "type": "quantitative"
             },
             {
              "field": "percentile_ex_nulls",
              "type": "quantitative"
             },
             {
              "field": "percentile_inc_nulls",
              "type": "quantitative"
             },
             {
              "field": "total_non_null_rows",
              "type": "quantitative"
             },
             {
              "field": "total_rows_inc_nulls",
              "type": "quantitative"
             }
            ],
            "x": {
             "field": "percentile_ex_nulls",
             "sort": "descending",
             "title": "Percentile",
             "type": "quantitative"
            },
            "y": {
             "field": "value_count",
             "title": "Count of values",
             "type": "quantitative"
            }
           },
           "mark": {
            "interpolate": "step-after",
            "type": "line"
           },
           "title": {
            "subtitle": "In this col, 211 values (21.1%) are null and there are 424 distinct values",
            "text": "Distribution of counts of values in column email"
           }
          },
          {
           "data": {
            "values": [
             {
              "distinct_value_count": 424,
              "group_name": "email",
              "total_non_null_rows": 789,
              "total_rows_inc_nulls": 1000,
              "value": "jessica.miller@johnson.com",
              "value_count": 6
             },
             {
              "distinct_value_count": 424,
              "group_name": "email",
              "total_non_null_rows": 789,
              "total_rows_inc_nulls": 1000,
              "value": "iwilkinson@bush.com",
              "value_count": 6
             },
             {
              "distinct_value_count": 424,
              "group_name": "email",
              "total_non_null_rows": 789,
              "total_rows_inc_nulls": 1000,
              "value": "omoore64@randall.com",
              "value_count": 6
             },
             {
              "distinct_value_count": 424,
              "group_name": "email",
              "total_non_null_rows": 789,
              "total_rows_inc_nulls": 1000,
              "value": "fb@nelson.com",
              "value_count": 6
             },
             {
              "distinct_value_count": 424,
              "group_name": "email",
              "total_non_null_rows": 789,
              "total_rows_inc_nulls": 1000,
              "value": "j.williams@levine-johnson.com",
              "value_count": 6
             },
             {
              "distinct_value_count": 424,
              "group_name": "email",
              "total_non_null_rows": 789,
              "total_rows_inc_nulls": 1000,
              "value": "j.c65@ortiz.com",
              "value_count": 5
             },
             {
              "distinct_value_count": 424,
              "group_name": "email",
              "total_non_null_rows": 789,
              "total_rows_inc_nulls": 1000,
              "value": "jacob.a83@clark.com",
              "value_count": 5
             },
             {
              "distinct_value_count": 424,
              "group_name": "email",
              "total_non_null_rows": 789,
              "total_rows_inc_nulls": 1000,
              "value": "a.s@humphrey.com",
              "value_count": 5
             },
             {
              "distinct_value_count": 424,
              "group_name": "email",
              "total_non_null_rows": 789,
              "total_rows_inc_nulls": 1000,
              "value": "ohughes@page-kim.info",
              "value_count": 5
             },
             {
              "distinct_value_count": 424,
              "group_name": "email",
              "total_non_null_rows": 789,
              "total_rows_inc_nulls": 1000,
              "value": "r.cole1@ramirez-anthony.com",
              "value_count": 5
             }
            ]
           },
           "encoding": {
            "tooltip": [
             {
              "field": "value",
              "type": "nominal"
             },
             {
              "field": "value_count",
              "type": "quantitative"
             },
             {
              "field": "total_non_null_rows",
              "type": "quantitative"
             },
             {
              "field": "total_rows_inc_nulls",
              "type": "quantitative"
             }
            ],
            "x": {
             "field": "value",
             "sort": "-y",
             "title": null,
             "type": "nominal"
            },
            "y": {
             "field": "value_count",
             "title": "Value count",
             "type": "quantitative"
            }
           },
           "mark": "bar",
           "title": "Top 10 values by value count"
          },
          {
           "data": {
            "values": [
             {
              "distinct_value_count": 424,
              "group_name": "email",
              "total_non_null_rows": 789,
              "total_rows_inc_nulls": 1000,
              "value": "gdavidron@johnson-bsown.com",
              "value_count": 1
             },
             {
              "distinct_value_count": 424,
              "group_name": "email",
              "total_non_null_rows": 789,
              "total_rows_inc_nulls": 1000,
              "value": "muhammadsmith@brooks.com",
              "value_count": 1
             },
             {
              "distinct_value_count": 424,
              "group_name": "email",
              "total_non_null_rows": 789,
              "total_rows_inc_nulls": 1000,
              "value": "jessica.owen@elliott.og",
              "value_count": 1
             },
             {
              "distinct_value_count": 424,
              "group_name": "email",
              "total_non_null_rows": 789,
              "total_rows_inc_nulls": 1000,
              "value": "opoppy.owen71@diaz.co",
              "value_count": 1
             },
             {
              "distinct_value_count": 424,
              "group_name": "email",
              "total_non_null_rows": 789,
              "total_rows_inc_nulls": 1000,
              "value": "noahha78@diaz-clarkoc.m",
              "value_count": 1
             }
            ]
           },
           "encoding": {
            "tooltip": [
             {
              "field": "value",
              "type": "nominal"
             },
             {
              "field": "value_count",
              "type": "quantitative"
             },
             {
              "field": "total_non_null_rows",
              "type": "quantitative"
             },
             {
              "field": "total_rows_inc_nulls",
              "type": "quantitative"
             }
            ],
            "x": {
             "field": "value",
             "sort": "-y",
             "title": null,
             "type": "nominal"
            },
            "y": {
             "field": "value_count",
             "scale": {
              "domain": [
               0,
               6
              ]
             },
             "title": "Value count",
             "type": "quantitative"
            }
           },
           "mark": "bar",
           "title": "Bottom 5 values by value count"
          }
         ]
        },
        {
         "hconcat": [
          {
           "data": {
            "values": [
             {
              "distinct_value_count": 61,
              "group_name": "substr_dob_1_4_",
              "percentile_ex_nulls": 0.94,
              "percentile_inc_nulls": 0.94,
              "sum_tokens_in_value_count_group": 60,
              "total_non_null_rows": 1000,
              "total_rows_inc_nulls": 1000,
              "value_count": 30
             },
             {
              "distinct_value_count": 61,
              "group_name": "substr_dob_1_4_",
              "percentile_ex_nulls": 0.911,
              "percentile_inc_nulls": 0.911,
              "sum_tokens_in_value_count_group": 29,
              "total_non_null_rows": 1000,
              "total_rows_inc_nulls": 1000,
              "value_count": 29
             },
             {
              "distinct_value_count": 61,
              "group_name": "substr_dob_1_4_",
              "percentile_ex_nulls": 0.883,
              "percentile_inc_nulls": 0.883,
              "sum_tokens_in_value_count_group": 28,
              "total_non_null_rows": 1000,
              "total_rows_inc_nulls": 1000,
              "value_count": 28
             },
             {
              "distinct_value_count": 61,
              "group_name": "substr_dob_1_4_",
              "percentile_ex_nulls": 0.829,
              "percentile_inc_nulls": 0.829,
              "sum_tokens_in_value_count_group": 54,
              "total_non_null_rows": 1000,
              "total_rows_inc_nulls": 1000,
              "value_count": 27
             },
             {
              "distinct_value_count": 61,
              "group_name": "substr_dob_1_4_",
              "percentile_ex_nulls": 0.779,
              "percentile_inc_nulls": 0.779,
              "sum_tokens_in_value_count_group": 50,
              "total_non_null_rows": 1000,
              "total_rows_inc_nulls": 1000,
              "value_count": 25
             },
             {
              "distinct_value_count": 61,
              "group_name": "substr_dob_1_4_",
              "percentile_ex_nulls": 0.7070000000000001,
              "percentile_inc_nulls": 0.7070000000000001,
              "sum_tokens_in_value_count_group": 72,
              "total_non_null_rows": 1000,
              "total_rows_inc_nulls": 1000,
              "value_count": 24
             },
             {
              "distinct_value_count": 61,
              "group_name": "substr_dob_1_4_",
              "percentile_ex_nulls": 0.569,
              "percentile_inc_nulls": 0.569,
              "sum_tokens_in_value_count_group": 138,
              "total_non_null_rows": 1000,
              "total_rows_inc_nulls": 1000,
              "value_count": 23
             },
             {
              "distinct_value_count": 61,
              "group_name": "substr_dob_1_4_",
              "percentile_ex_nulls": 0.481,
              "percentile_inc_nulls": 0.481,
              "sum_tokens_in_value_count_group": 88,
              "total_non_null_rows": 1000,
              "total_rows_inc_nulls": 1000,
              "value_count": 22
             },
             {
              "distinct_value_count": 61,
              "group_name": "substr_dob_1_4_",
              "percentile_ex_nulls": 0.45999999999999996,
              "percentile_inc_nulls": 0.45999999999999996,
              "sum_tokens_in_value_count_group": 21,
              "total_non_null_rows": 1000,
              "total_rows_inc_nulls": 1000,
              "value_count": 21
             },
             {
              "distinct_value_count": 61,
              "group_name": "substr_dob_1_4_",
              "percentile_ex_nulls": 0.38,
              "percentile_inc_nulls": 0.38,
              "sum_tokens_in_value_count_group": 80,
              "total_non_null_rows": 1000,
              "total_rows_inc_nulls": 1000,
              "value_count": 20
             },
             {
              "distinct_value_count": 61,
              "group_name": "substr_dob_1_4_",
              "percentile_ex_nulls": 0.32299999999999995,
              "percentile_inc_nulls": 0.32299999999999995,
              "sum_tokens_in_value_count_group": 57,
              "total_non_null_rows": 1000,
              "total_rows_inc_nulls": 1000,
              "value_count": 19
             },
             {
              "distinct_value_count": 61,
              "group_name": "substr_dob_1_4_",
              "percentile_ex_nulls": 0.269,
              "percentile_inc_nulls": 0.269,
              "sum_tokens_in_value_count_group": 54,
              "total_non_null_rows": 1000,
              "total_rows_inc_nulls": 1000,
              "value_count": 18
             },
             {
              "distinct_value_count": 61,
              "group_name": "substr_dob_1_4_",
              "percentile_ex_nulls": 0.235,
              "percentile_inc_nulls": 0.235,
              "sum_tokens_in_value_count_group": 34,
              "total_non_null_rows": 1000,
              "total_rows_inc_nulls": 1000,
              "value_count": 17
             },
             {
              "distinct_value_count": 61,
              "group_name": "substr_dob_1_4_",
              "percentile_ex_nulls": 0.20299999999999996,
              "percentile_inc_nulls": 0.20299999999999996,
              "sum_tokens_in_value_count_group": 32,
              "total_non_null_rows": 1000,
              "total_rows_inc_nulls": 1000,
              "value_count": 16
             },
             {
              "distinct_value_count": 61,
              "group_name": "substr_dob_1_4_",
              "percentile_ex_nulls": 0.15800000000000003,
              "percentile_inc_nulls": 0.15800000000000003,
              "sum_tokens_in_value_count_group": 45,
              "total_non_null_rows": 1000,
              "total_rows_inc_nulls": 1000,
              "value_count": 15
             },
             {
              "distinct_value_count": 61,
              "group_name": "substr_dob_1_4_",
              "percentile_ex_nulls": 0.14400000000000002,
              "percentile_inc_nulls": 0.14400000000000002,
              "sum_tokens_in_value_count_group": 14,
              "total_non_null_rows": 1000,
              "total_rows_inc_nulls": 1000,
              "value_count": 14
             },
             {
              "distinct_value_count": 61,
              "group_name": "substr_dob_1_4_",
              "percentile_ex_nulls": 0.07899999999999996,
              "percentile_inc_nulls": 0.07899999999999996,
              "sum_tokens_in_value_count_group": 65,
              "total_non_null_rows": 1000,
              "total_rows_inc_nulls": 1000,
              "value_count": 13
             },
             {
              "distinct_value_count": 61,
              "group_name": "substr_dob_1_4_",
              "percentile_ex_nulls": 0.05700000000000005,
              "percentile_inc_nulls": 0.05700000000000005,
              "sum_tokens_in_value_count_group": 22,
              "total_non_null_rows": 1000,
              "total_rows_inc_nulls": 1000,
              "value_count": 11
             },
             {
              "distinct_value_count": 61,
              "group_name": "substr_dob_1_4_",
              "percentile_ex_nulls": 0.04800000000000004,
              "percentile_inc_nulls": 0.04800000000000004,
              "sum_tokens_in_value_count_group": 9,
              "total_non_null_rows": 1000,
              "total_rows_inc_nulls": 1000,
              "value_count": 9
             },
             {
              "distinct_value_count": 61,
              "group_name": "substr_dob_1_4_",
              "percentile_ex_nulls": 0.040000000000000036,
              "percentile_inc_nulls": 0.040000000000000036,
              "sum_tokens_in_value_count_group": 8,
              "total_non_null_rows": 1000,
              "total_rows_inc_nulls": 1000,
              "value_count": 8
             },
             {
              "distinct_value_count": 61,
              "group_name": "substr_dob_1_4_",
              "percentile_ex_nulls": 0.03300000000000003,
              "percentile_inc_nulls": 0.03300000000000003,
              "sum_tokens_in_value_count_group": 7,
              "total_non_null_rows": 1000,
              "total_rows_inc_nulls": 1000,
              "value_count": 7
             },
             {
              "distinct_value_count": 61,
              "group_name": "substr_dob_1_4_",
              "percentile_ex_nulls": 0.027000000000000024,
              "percentile_inc_nulls": 0.027000000000000024,
              "sum_tokens_in_value_count_group": 6,
              "total_non_null_rows": 1000,
              "total_rows_inc_nulls": 1000,
              "value_count": 6
             },
             {
              "distinct_value_count": 61,
              "group_name": "substr_dob_1_4_",
              "percentile_ex_nulls": 0.017000000000000015,
              "percentile_inc_nulls": 0.017000000000000015,
              "sum_tokens_in_value_count_group": 10,
              "total_non_null_rows": 1000,
              "total_rows_inc_nulls": 1000,
              "value_count": 5
             },
             {
              "distinct_value_count": 61,
              "group_name": "substr_dob_1_4_",
              "percentile_ex_nulls": 0.013000000000000012,
              "percentile_inc_nulls": 0.013000000000000012,
              "sum_tokens_in_value_count_group": 4,
              "total_non_null_rows": 1000,
              "total_rows_inc_nulls": 1000,
              "value_count": 4
             },
             {
              "distinct_value_count": 61,
              "group_name": "substr_dob_1_4_",
              "percentile_ex_nulls": 0.010000000000000009,
              "percentile_inc_nulls": 0.010000000000000009,
              "sum_tokens_in_value_count_group": 3,
              "total_non_null_rows": 1000,
              "total_rows_inc_nulls": 1000,
              "value_count": 3
             },
             {
              "distinct_value_count": 61,
              "group_name": "substr_dob_1_4_",
              "percentile_ex_nulls": 0.0020000000000000018,
              "percentile_inc_nulls": 0.0020000000000000018,
              "sum_tokens_in_value_count_group": 8,
              "total_non_null_rows": 1000,
              "total_rows_inc_nulls": 1000,
              "value_count": 2
             },
             {
              "distinct_value_count": 61,
              "group_name": "substr_dob_1_4_",
              "percentile_ex_nulls": 0,
              "percentile_inc_nulls": 0,
              "sum_tokens_in_value_count_group": 2,
              "total_non_null_rows": 1000,
              "total_rows_inc_nulls": 1000,
              "value_count": 1
             },
             {
              "distinct_value_count": 61,
              "group_name": "substr_dob_1_4_",
              "percentile_ex_nulls": 1,
              "percentile_inc_nulls": 1,
              "sum_tokens_in_value_count_group": 60,
              "total_non_null_rows": 1000,
              "total_rows_inc_nulls": 1000,
              "value_count": 30
             }
            ]
           },
           "encoding": {
            "tooltip": [
             {
              "field": "value_count",
              "type": "quantitative"
             },
             {
              "field": "percentile_ex_nulls",
              "type": "quantitative"
             },
             {
              "field": "percentile_inc_nulls",
              "type": "quantitative"
             },
             {
              "field": "total_non_null_rows",
              "type": "quantitative"
             },
             {
              "field": "total_rows_inc_nulls",
              "type": "quantitative"
             }
            ],
            "x": {
             "field": "percentile_ex_nulls",
             "sort": "descending",
             "title": "Percentile",
             "type": "quantitative"
            },
            "y": {
             "field": "value_count",
             "title": "Count of values",
             "type": "quantitative"
            }
           },
           "mark": {
            "interpolate": "step-after",
            "type": "line"
           },
           "title": {
            "subtitle": "In this col, 0 values (0.0%) are null and there are 61 distinct values",
            "text": "Distribution of counts of values in column substr(dob, 1,4)"
           }
          },
          {
           "data": {
            "values": [
             {
              "distinct_value_count": 61,
              "group_name": "substr_dob_1_4_",
              "total_non_null_rows": 1000,
              "total_rows_inc_nulls": 1000,
              "value": "2000",
              "value_count": 30
             },
             {
              "distinct_value_count": 61,
              "group_name": "substr_dob_1_4_",
              "total_non_null_rows": 1000,
              "total_rows_inc_nulls": 1000,
              "value": "2011",
              "value_count": 30
             },
             {
              "distinct_value_count": 61,
              "group_name": "substr_dob_1_4_",
              "total_non_null_rows": 1000,
              "total_rows_inc_nulls": 1000,
              "value": "1983",
              "value_count": 29
             },
             {
              "distinct_value_count": 61,
              "group_name": "substr_dob_1_4_",
              "total_non_null_rows": 1000,
              "total_rows_inc_nulls": 1000,
              "value": "1984",
              "value_count": 28
             },
             {
              "distinct_value_count": 61,
              "group_name": "substr_dob_1_4_",
              "total_non_null_rows": 1000,
              "total_rows_inc_nulls": 1000,
              "value": "1991",
              "value_count": 27
             },
             {
              "distinct_value_count": 61,
              "group_name": "substr_dob_1_4_",
              "total_non_null_rows": 1000,
              "total_rows_inc_nulls": 1000,
              "value": "1972",
              "value_count": 27
             },
             {
              "distinct_value_count": 61,
              "group_name": "substr_dob_1_4_",
              "total_non_null_rows": 1000,
              "total_rows_inc_nulls": 1000,
              "value": "2017",
              "value_count": 25
             },
             {
              "distinct_value_count": 61,
              "group_name": "substr_dob_1_4_",
              "total_non_null_rows": 1000,
              "total_rows_inc_nulls": 1000,
              "value": "2002",
              "value_count": 25
             },
             {
              "distinct_value_count": 61,
              "group_name": "substr_dob_1_4_",
              "total_non_null_rows": 1000,
              "total_rows_inc_nulls": 1000,
              "value": "2010",
              "value_count": 24
             },
             {
              "distinct_value_count": 61,
              "group_name": "substr_dob_1_4_",
              "total_non_null_rows": 1000,
              "total_rows_inc_nulls": 1000,
              "value": "2009",
              "value_count": 24
             }
            ]
           },
           "encoding": {
            "tooltip": [
             {
              "field": "value",
              "type": "nominal"
             },
             {
              "field": "value_count",
              "type": "quantitative"
             },
             {
              "field": "total_non_null_rows",
              "type": "quantitative"
             },
             {
              "field": "total_rows_inc_nulls",
              "type": "quantitative"
             }
            ],
            "x": {
             "field": "value",
             "sort": "-y",
             "title": null,
             "type": "nominal"
            },
            "y": {
             "field": "value_count",
             "title": "Value count",
             "type": "quantitative"
            }
           },
           "mark": "bar",
           "title": "Top 10 values by value count"
          },
          {
           "data": {
            "values": [
             {
              "distinct_value_count": 61,
              "group_name": "substr_dob_1_4_",
              "total_non_null_rows": 1000,
              "total_rows_inc_nulls": 1000,
              "value": "2027",
              "value_count": 1
             },
             {
              "distinct_value_count": 61,
              "group_name": "substr_dob_1_4_",
              "total_non_null_rows": 1000,
              "total_rows_inc_nulls": 1000,
              "value": "2031",
              "value_count": 1
             },
             {
              "distinct_value_count": 61,
              "group_name": "substr_dob_1_4_",
              "total_non_null_rows": 1000,
              "total_rows_inc_nulls": 1000,
              "value": "2030",
              "value_count": 2
             },
             {
              "distinct_value_count": 61,
              "group_name": "substr_dob_1_4_",
              "total_non_null_rows": 1000,
              "total_rows_inc_nulls": 1000,
              "value": "2026",
              "value_count": 2
             },
             {
              "distinct_value_count": 61,
              "group_name": "substr_dob_1_4_",
              "total_non_null_rows": 1000,
              "total_rows_inc_nulls": 1000,
              "value": "2029",
              "value_count": 2
             }
            ]
           },
           "encoding": {
            "tooltip": [
             {
              "field": "value",
              "type": "nominal"
             },
             {
              "field": "value_count",
              "type": "quantitative"
             },
             {
              "field": "total_non_null_rows",
              "type": "quantitative"
             },
             {
              "field": "total_rows_inc_nulls",
              "type": "quantitative"
             }
            ],
            "x": {
             "field": "value",
             "sort": "-y",
             "title": null,
             "type": "nominal"
            },
            "y": {
             "field": "value_count",
             "scale": {
              "domain": [
               0,
               30
              ]
             },
             "title": "Value count",
             "type": "quantitative"
            }
           },
           "mark": "bar",
           "title": "Bottom 5 values by value count"
          }
         ]
        }
       ]
      },
      "image/png": "[encoded data removed]",
      "text/plain": [
       "<VegaLite 4 object>\n",
       "\n",
       "If you see this message, it means the renderer has not been properly enabled\n",
       "for the frontend that you are using. For more information, see\n",
       "https://altair-viz.github.io/user_guide/troubleshooting.html\n"
      ]
     },
     "execution_count": 18,
     "metadata": {},
     "output_type": "execute_result"
    }
   ],
   "source": [
    "linker.profile_columns([\"first_name\", \"city\", \"surname\", \"email\", \"substr(dob, 1,4)\"], top_n=10, bottom_n=5)"
   ]
  },
  {
   "cell_type": "code",
   "execution_count": 19,
   "id": "5f5241da-0230-4bf7-9c14-ce6c857bf856",
   "metadata": {},
   "outputs": [
    {
     "name": "stdout",
     "output_type": "stream",
     "text": [
      "Number of comparisons generated by 'substr(l.first_name,1,1) = substr(r.first_name,1,1) and l.surname = r.surname': 473\n",
      "Number of comparisons generated by 'l.surname = r.surname': 1,638\n",
      "Number of comparisons generated by 'l.email = r.email': 682\n",
      "Number of comparisons generated by 'l.city = r.city and l.first_name = r.first_name': 315\n"
     ]
    }
   ],
   "source": [
    "blocking_rule_1 = \"substr(l.first_name,1,1) = substr(r.first_name,1,1) and l.surname = r.surname\"\n",
    "count = linker.count_num_comparisons_from_blocking_rule(blocking_rule_1)\n",
    "print(f\"Number of comparisons generated by '{blocking_rule_1}': {count:,.0f}\")\n",
    "\n",
    "blocking_rule_2 = \"l.surname = r.surname\"\n",
    "count = linker.count_num_comparisons_from_blocking_rule(blocking_rule_2)\n",
    "print(f\"Number of comparisons generated by '{blocking_rule_2}': {count:,.0f}\")\n",
    "\n",
    "blocking_rule_3 = \"l.email = r.email\"\n",
    "count = linker.count_num_comparisons_from_blocking_rule(blocking_rule_3)\n",
    "print(f\"Number of comparisons generated by '{blocking_rule_3}': {count:,.0f}\")\n",
    "\n",
    "blocking_rule_3 = \"l.city = r.city and l.first_name = r.first_name\"\n",
    "count = linker.count_num_comparisons_from_blocking_rule(blocking_rule_3)\n",
    "print(f\"Number of comparisons generated by '{blocking_rule_3}': {count:,.0f}\")"
   ]
  },
  {
   "cell_type": "code",
   "execution_count": 20,
   "id": "dd9aa547-bd6c-4e88-ab59-ea65d8d0addc",
   "metadata": {},
   "outputs": [
    {
     "data": {
      "application/vnd.vegalite.v4+json": {
       "$schema": "https://vega.github.io/schema/vega-lite/v5.json",
       "data": {
        "values": [
         {
          "cartesian": 499500,
          "cumulative_rows": 473,
          "reduction_ratio": "The rolling reduction ratio with your given blocking rule(s) is 0.999. \nThis represents the reduction in the total number of comparisons due to your rule(s).",
          "row_count": 473,
          "rule": "substr(l.first_name,1,1) = substr(r.first_name,1,1) and l.surname = r.surname",
          "start": 0
         },
         {
          "cartesian": 499500,
          "cumulative_rows": 1638,
          "reduction_ratio": "The rolling reduction ratio with your given blocking rule(s) is 0.997. \nThis represents the reduction in the total number of comparisons due to your rule(s).",
          "row_count": 1165,
          "rule": "l.surname = r.surname",
          "start": 473
         },
         {
          "cartesian": 499500,
          "cumulative_rows": 1841,
          "reduction_ratio": "The rolling reduction ratio with your given blocking rule(s) is 0.996. \nThis represents the reduction in the total number of comparisons due to your rule(s).",
          "row_count": 203,
          "rule": "l.city = r.city and l.first_name = r.first_name",
          "start": 1638
         }
        ]
       },
       "encoding": {
        "color": {
         "field": "rule",
         "legend": null,
         "scale": {
          "scheme": "category20c"
         }
        },
        "order": {
         "field": "cumulative_rows"
        },
        "tooltip": [
         {
          "field": "rule",
          "title": "SQL Condition",
          "type": "nominal"
         },
         {
          "field": "row_count",
          "format": ",",
          "title": "Comparisons Generated",
          "type": "quantitative"
         },
         {
          "field": "cumulative_rows",
          "format": ",",
          "title": "Cumulative Comparisons",
          "type": "quantitative"
         },
         {
          "field": "cartesian",
          "format": ",",
          "title": "Cartesian Product of Input Data",
          "type": "quantitative"
         },
         {
          "field": "reduction_ratio",
          "title": "Reduction Ratio (cumulative rows/cartesian product)",
          "type": "quantitative"
         }
        ],
        "x": {
         "field": "start",
         "title": "Comparisons Generated by Rule(s)",
         "type": "quantitative"
        },
        "x2": {
         "field": "cumulative_rows"
        },
        "y": {
         "field": "rule",
         "sort": [
          "-x2"
         ],
         "title": "SQL Blocking Rule"
        }
       },
       "height": {
        "step": 20
       },
       "mark": "bar",
       "title": {
        "subtitle": "(Counts exclude comparisons already generated by previous rules)",
        "text": "Count of Additional Comparisons Generated by Each Blocking Rule"
       },
       "width": 450
      },
      "image/png": "[encoded data removed]",
      "text/plain": [
       "<VegaLite 4 object>\n",
       "\n",
       "If you see this message, it means the renderer has not been properly enabled\n",
       "for the frontend that you are using. For more information, see\n",
       "https://altair-viz.github.io/user_guide/troubleshooting.html\n"
      ]
     },
     "execution_count": 20,
     "metadata": {},
     "output_type": "execute_result"
    }
   ],
   "source": [
    "blocking_rules = [blocking_rule_1, blocking_rule_2, blocking_rule_3]\n",
    "linker.cumulative_num_comparisons_from_blocking_rules_chart(blocking_rules)"
   ]
  },
  {
   "cell_type": "code",
   "execution_count": 21,
   "id": "0b955622-c5f7-4bef-a038-bffccc514473",
   "metadata": {},
   "outputs": [
    {
     "data": {
      "application/vnd.vegalite.v4+json": {
       "$schema": "https://vega.github.io/schema/vega-lite/v4.8.1.json",
       "config": {
        "view": {
         "continuousHeight": 300,
         "continuousWidth": 400
        }
       },
       "vconcat": [
        {
         "hconcat": [
          {
           "data": {
            "values": [
             {
              "distinct_value_count": 352,
              "group_name": "city_left_first_name_1_",
              "percentile_ex_nulls": 0.9777448071216617,
              "percentile_inc_nulls": 0.985,
              "sum_tokens_in_value_count_group": 15,
              "total_non_null_rows": 674,
              "total_rows_inc_nulls": 1000,
              "value_count": 15
             },
             {
              "distinct_value_count": 352,
              "group_name": "city_left_first_name_1_",
              "percentile_ex_nulls": 0.9243323442136498,
              "percentile_inc_nulls": 0.949,
              "sum_tokens_in_value_count_group": 36,
              "total_non_null_rows": 674,
              "total_rows_inc_nulls": 1000,
              "value_count": 12
             },
             {
              "distinct_value_count": 352,
              "group_name": "city_left_first_name_1_",
              "percentile_ex_nulls": 0.9094955489614244,
              "percentile_inc_nulls": 0.9390000000000001,
              "sum_tokens_in_value_count_group": 10,
              "total_non_null_rows": 674,
              "total_rows_inc_nulls": 1000,
              "value_count": 10
             },
             {
              "distinct_value_count": 352,
              "group_name": "city_left_first_name_1_",
              "percentile_ex_nulls": 0.8694362017804154,
              "percentile_inc_nulls": 0.912,
              "sum_tokens_in_value_count_group": 27,
              "total_non_null_rows": 674,
              "total_rows_inc_nulls": 1000,
              "value_count": 9
             },
             {
              "distinct_value_count": 352,
              "group_name": "city_left_first_name_1_",
              "percentile_ex_nulls": 0.8456973293768546,
              "percentile_inc_nulls": 0.896,
              "sum_tokens_in_value_count_group": 16,
              "total_non_null_rows": 674,
              "total_rows_inc_nulls": 1000,
              "value_count": 8
             },
             {
              "distinct_value_count": 352,
              "group_name": "city_left_first_name_1_",
              "percentile_ex_nulls": 0.7937685459940653,
              "percentile_inc_nulls": 0.861,
              "sum_tokens_in_value_count_group": 35,
              "total_non_null_rows": 674,
              "total_rows_inc_nulls": 1000,
              "value_count": 7
             },
             {
              "distinct_value_count": 352,
              "group_name": "city_left_first_name_1_",
              "percentile_ex_nulls": 0.7670623145400594,
              "percentile_inc_nulls": 0.843,
              "sum_tokens_in_value_count_group": 18,
              "total_non_null_rows": 674,
              "total_rows_inc_nulls": 1000,
              "value_count": 6
             },
             {
              "distinct_value_count": 352,
              "group_name": "city_left_first_name_1_",
              "percentile_ex_nulls": 0.7225519287833828,
              "percentile_inc_nulls": 0.813,
              "sum_tokens_in_value_count_group": 30,
              "total_non_null_rows": 674,
              "total_rows_inc_nulls": 1000,
              "value_count": 5
             },
             {
              "distinct_value_count": 352,
              "group_name": "city_left_first_name_1_",
              "percentile_ex_nulls": 0.5979228486646884,
              "percentile_inc_nulls": 0.729,
              "sum_tokens_in_value_count_group": 84,
              "total_non_null_rows": 674,
              "total_rows_inc_nulls": 1000,
              "value_count": 4
             },
             {
              "distinct_value_count": 352,
              "group_name": "city_left_first_name_1_",
              "percentile_ex_nulls": 0.46439169139465875,
              "percentile_inc_nulls": 0.639,
              "sum_tokens_in_value_count_group": 90,
              "total_non_null_rows": 674,
              "total_rows_inc_nulls": 1000,
              "value_count": 3
             },
             {
              "distinct_value_count": 352,
              "group_name": "city_left_first_name_1_",
              "percentile_ex_nulls": 0.357566765578635,
              "percentile_inc_nulls": 0.567,
              "sum_tokens_in_value_count_group": 72,
              "total_non_null_rows": 674,
              "total_rows_inc_nulls": 1000,
              "value_count": 2
             },
             {
              "distinct_value_count": 352,
              "group_name": "city_left_first_name_1_",
              "percentile_ex_nulls": 0,
              "percentile_inc_nulls": 0.32599999999999996,
              "sum_tokens_in_value_count_group": 241,
              "total_non_null_rows": 674,
              "total_rows_inc_nulls": 1000,
              "value_count": 1
             },
             {
              "distinct_value_count": 352,
              "group_name": "city_left_first_name_1_",
              "percentile_ex_nulls": 1,
              "percentile_inc_nulls": 1,
              "sum_tokens_in_value_count_group": 15,
              "total_non_null_rows": 674,
              "total_rows_inc_nulls": 1000,
              "value_count": 15
             }
            ]
           },
           "encoding": {
            "tooltip": [
             {
              "field": "value_count",
              "type": "quantitative"
             },
             {
              "field": "percentile_ex_nulls",
              "type": "quantitative"
             },
             {
              "field": "percentile_inc_nulls",
              "type": "quantitative"
             },
             {
              "field": "total_non_null_rows",
              "type": "quantitative"
             },
             {
              "field": "total_rows_inc_nulls",
              "type": "quantitative"
             }
            ],
            "x": {
             "field": "percentile_ex_nulls",
             "sort": "descending",
             "title": "Percentile",
             "type": "quantitative"
            },
            "y": {
             "field": "value_count",
             "title": "Count of values",
             "type": "quantitative"
            }
           },
           "mark": {
            "interpolate": "step-after",
            "type": "line"
           },
           "title": {
            "subtitle": "In this col, 326 values (32.6%) are null and there are 352 distinct values",
            "text": "Distribution of counts of values in column city || left(first_name,1) "
           }
          },
          {
           "data": {
            "values": [
             {
              "distinct_value_count": 352,
              "group_name": "city_left_first_name_1_",
              "total_non_null_rows": 674,
              "total_rows_inc_nulls": 1000,
              "value": "LondonJ",
              "value_count": 15
             },
             {
              "distinct_value_count": 352,
              "group_name": "city_left_first_name_1_",
              "total_non_null_rows": 674,
              "total_rows_inc_nulls": 1000,
              "value": "LondonH",
              "value_count": 12
             },
             {
              "distinct_value_count": 352,
              "group_name": "city_left_first_name_1_",
              "total_non_null_rows": 674,
              "total_rows_inc_nulls": 1000,
              "value": "LondonF",
              "value_count": 12
             },
             {
              "distinct_value_count": 352,
              "group_name": "city_left_first_name_1_",
              "total_non_null_rows": 674,
              "total_rows_inc_nulls": 1000,
              "value": "LondonE",
              "value_count": 12
             },
             {
              "distinct_value_count": 352,
              "group_name": "city_left_first_name_1_",
              "total_non_null_rows": 674,
              "total_rows_inc_nulls": 1000,
              "value": "LondonO",
              "value_count": 10
             },
             {
              "distinct_value_count": 352,
              "group_name": "city_left_first_name_1_",
              "total_non_null_rows": 674,
              "total_rows_inc_nulls": 1000,
              "value": "LondonL",
              "value_count": 9
             },
             {
              "distinct_value_count": 352,
              "group_name": "city_left_first_name_1_",
              "total_non_null_rows": 674,
              "total_rows_inc_nulls": 1000,
              "value": "LondonT",
              "value_count": 9
             },
             {
              "distinct_value_count": 352,
              "group_name": "city_left_first_name_1_",
              "total_non_null_rows": 674,
              "total_rows_inc_nulls": 1000,
              "value": "BirminghamT",
              "value_count": 9
             },
             {
              "distinct_value_count": 352,
              "group_name": "city_left_first_name_1_",
              "total_non_null_rows": 674,
              "total_rows_inc_nulls": 1000,
              "value": "CoventryL",
              "value_count": 8
             },
             {
              "distinct_value_count": 352,
              "group_name": "city_left_first_name_1_",
              "total_non_null_rows": 674,
              "total_rows_inc_nulls": 1000,
              "value": "SalfordL",
              "value_count": 8
             }
            ]
           },
           "encoding": {
            "tooltip": [
             {
              "field": "value",
              "type": "nominal"
             },
             {
              "field": "value_count",
              "type": "quantitative"
             },
             {
              "field": "total_non_null_rows",
              "type": "quantitative"
             },
             {
              "field": "total_rows_inc_nulls",
              "type": "quantitative"
             }
            ],
            "x": {
             "field": "value",
             "sort": "-y",
             "title": null,
             "type": "nominal"
            },
            "y": {
             "field": "value_count",
             "title": "Value count",
             "type": "quantitative"
            }
           },
           "mark": "bar",
           "title": "Top 10 values by value count"
          },
          {
           "data": {
            "values": [
             {
              "distinct_value_count": 352,
              "group_name": "city_left_first_name_1_",
              "total_non_null_rows": 674,
              "total_rows_inc_nulls": 1000,
              "value": "SouthamptonF",
              "value_count": 1
             },
             {
              "distinct_value_count": 352,
              "group_name": "city_left_first_name_1_",
              "total_non_null_rows": 674,
              "total_rows_inc_nulls": 1000,
              "value": "PhlymouthM",
              "value_count": 1
             },
             {
              "distinct_value_count": 352,
              "group_name": "city_left_first_name_1_",
              "total_non_null_rows": 674,
              "total_rows_inc_nulls": 1000,
              "value": "LnodonH",
              "value_count": 1
             },
             {
              "distinct_value_count": 352,
              "group_name": "city_left_first_name_1_",
              "total_non_null_rows": 674,
              "total_rows_inc_nulls": 1000,
              "value": "Newcastle-upon--TyneS",
              "value_count": 1
             },
             {
              "distinct_value_count": 352,
              "group_name": "city_left_first_name_1_",
              "total_non_null_rows": 674,
              "total_rows_inc_nulls": 1000,
              "value": "BoltonL",
              "value_count": 1
             },
             {
              "distinct_value_count": 352,
              "group_name": "city_left_first_name_1_",
              "total_non_null_rows": 674,
              "total_rows_inc_nulls": 1000,
              "value": "BradfordI",
              "value_count": 1
             },
             {
              "distinct_value_count": 352,
              "group_name": "city_left_first_name_1_",
              "total_non_null_rows": 674,
              "total_rows_inc_nulls": 1000,
              "value": "Kingson-upon-HullM",
              "value_count": 1
             },
             {
              "distinct_value_count": 352,
              "group_name": "city_left_first_name_1_",
              "total_non_null_rows": 674,
              "total_rows_inc_nulls": 1000,
              "value": "Kigngston-upon-HullA",
              "value_count": 1
             },
             {
              "distinct_value_count": 352,
              "group_name": "city_left_first_name_1_",
              "total_non_null_rows": 674,
              "total_rows_inc_nulls": 1000,
              "value": "Liorpovlb",
              "value_count": 1
             },
             {
              "distinct_value_count": 352,
              "group_name": "city_left_first_name_1_",
              "total_non_null_rows": 674,
              "total_rows_inc_nulls": 1000,
              "value": "MancheeserH",
              "value_count": 1
             }
            ]
           },
           "encoding": {
            "tooltip": [
             {
              "field": "value",
              "type": "nominal"
             },
             {
              "field": "value_count",
              "type": "quantitative"
             },
             {
              "field": "total_non_null_rows",
              "type": "quantitative"
             },
             {
              "field": "total_rows_inc_nulls",
              "type": "quantitative"
             }
            ],
            "x": {
             "field": "value",
             "sort": "-y",
             "title": null,
             "type": "nominal"
            },
            "y": {
             "field": "value_count",
             "scale": {
              "domain": [
               0,
               15
              ]
             },
             "title": "Value count",
             "type": "quantitative"
            }
           },
           "mark": "bar",
           "title": "Bottom 10 values by value count"
          }
         ]
        }
       ]
      },
      "image/png": "[encoded data removed]",
      "text/plain": [
       "<VegaLite 4 object>\n",
       "\n",
       "If you see this message, it means the renderer has not been properly enabled\n",
       "for the frontend that you are using. For more information, see\n",
       "https://altair-viz.github.io/user_guide/troubleshooting.html\n"
      ]
     },
     "execution_count": 21,
     "metadata": {},
     "output_type": "execute_result"
    }
   ],
   "source": [
    "linker.profile_columns(\"city || left(first_name,1) \")"
   ]
  },
  {
   "cell_type": "code",
   "execution_count": 22,
   "id": "38a0edb9-96ca-4bc2-adae-31d641fe2457",
   "metadata": {},
   "outputs": [
    {
     "name": "stderr",
     "output_type": "stream",
     "text": [
      "Probability two random records match is estimated to be  0.00333.\n",
      "This means that amongst all possible pairwise record comparisons, one in 300.13 are expected to match.  With 499,500 total possible comparisons, we expect a total of around 1,664.29 matching pairs\n"
     ]
    }
   ],
   "source": [
    "deterministic_rules = [\n",
    "    \"l.first_name = r.first_name and levenshtein(r.dob, l.dob) <= 1\",\n",
    "    \"l.surname = r.surname and levenshtein(r.dob, l.dob) <= 1\",\n",
    "    \"l.first_name = r.first_name and levenshtein(r.surname, l.surname) <= 2\",\n",
    "    \"l.email = r.email\"\n",
    "]\n",
    "\n",
    "linker.estimate_probability_two_random_records_match(deterministic_rules, recall=0.7)"
   ]
  },
  {
   "cell_type": "code",
   "execution_count": 23,
   "id": "13cbd13e-2d50-4bae-b03a-6eac30ae54d5",
   "metadata": {},
   "outputs": [
    {
     "name": "stderr",
     "output_type": "stream",
     "text": [
      "----- Estimating u probabilities using random sampling -----\n",
      "\n",
      "Estimated u probabilities using random sampling\n",
      "\n",
      "Your model is not yet fully trained. Missing estimates for:\n",
      "    - first_name (no m values are trained).\n",
      "    - surname (no m values are trained).\n",
      "    - dob (no m values are trained).\n",
      "    - city (no m values are trained).\n",
      "    - email (no m values are trained).\n"
     ]
    }
   ],
   "source": [
    "linker.estimate_u_using_random_sampling(target_rows=1e6)"
   ]
  },
  {
   "cell_type": "code",
   "execution_count": 24,
   "id": "f79241ca-c290-4107-b0a5-bedd015aa3de",
   "metadata": {},
   "outputs": [
    {
     "name": "stderr",
     "output_type": "stream",
     "text": [
      "\n",
      "----- Starting EM training session -----\n",
      "\n",
      "Estimating the m probabilities of the model by blocking on:\n",
      "l.first_name = r.first_name and l.surname = r.surname\n",
      "\n",
      "Parameter estimates will be made for the following comparison(s):\n",
      "    - dob\n",
      "    - city\n",
      "    - email\n",
      "\n",
      "Parameter estimates cannot be made for the following comparison(s) since they are used in the blocking rules: \n",
      "    - first_name\n",
      "    - surname\n",
      "\n",
      "Iteration 1: Largest change in params was -0.514 in the m_probability of dob, level `Exact match`\n",
      "Iteration 2: Largest change in params was 0.0474 in probability_two_random_records_match\n",
      "Iteration 3: Largest change in params was 0.0212 in probability_two_random_records_match\n",
      "Iteration 4: Largest change in params was 0.0113 in probability_two_random_records_match\n",
      "Iteration 5: Largest change in params was 0.00694 in probability_two_random_records_match\n",
      "Iteration 6: Largest change in params was 0.00463 in probability_two_random_records_match\n",
      "Iteration 7: Largest change in params was 0.00328 in probability_two_random_records_match\n",
      "Iteration 8: Largest change in params was 0.00243 in probability_two_random_records_match\n",
      "Iteration 9: Largest change in params was 0.00186 in probability_two_random_records_match\n",
      "Iteration 10: Largest change in params was 0.00146 in probability_two_random_records_match\n",
      "Iteration 11: Largest change in params was 0.00117 in probability_two_random_records_match\n",
      "Iteration 12: Largest change in params was 0.000954 in probability_two_random_records_match\n",
      "Iteration 13: Largest change in params was 0.000787 in probability_two_random_records_match\n",
      "Iteration 14: Largest change in params was 0.000658 in probability_two_random_records_match\n",
      "Iteration 15: Largest change in params was 0.000555 in probability_two_random_records_match\n",
      "Iteration 16: Largest change in params was 0.000471 in probability_two_random_records_match\n",
      "Iteration 17: Largest change in params was 0.000404 in probability_two_random_records_match\n",
      "Iteration 18: Largest change in params was 0.000347 in probability_two_random_records_match\n",
      "Iteration 19: Largest change in params was 0.000301 in probability_two_random_records_match\n",
      "Iteration 20: Largest change in params was 0.000261 in probability_two_random_records_match\n",
      "Iteration 21: Largest change in params was 0.000228 in probability_two_random_records_match\n",
      "Iteration 22: Largest change in params was 0.0002 in probability_two_random_records_match\n",
      "Iteration 23: Largest change in params was 0.000175 in probability_two_random_records_match\n",
      "Iteration 24: Largest change in params was 0.000154 in probability_two_random_records_match\n",
      "Iteration 25: Largest change in params was 0.000136 in probability_two_random_records_match\n",
      "\n",
      "EM converged after 25 iterations\n",
      "\n",
      "Your model is not yet fully trained. Missing estimates for:\n",
      "    - first_name (no m values are trained).\n",
      "    - surname (no m values are trained).\n"
     ]
    }
   ],
   "source": [
    "training_blocking_rule = \"l.first_name = r.first_name and l.surname = r.surname\"\n",
    "training_session_fname_sname = linker.estimate_parameters_using_expectation_maximisation(training_blocking_rule)"
   ]
  },
  {
   "cell_type": "code",
   "execution_count": 25,
   "id": "d258533c-0939-48f0-b32d-d7594d6afda7",
   "metadata": {},
   "outputs": [
    {
     "name": "stderr",
     "output_type": "stream",
     "text": [
      "\n",
      "----- Starting EM training session -----\n",
      "\n",
      "Estimating the m probabilities of the model by blocking on:\n",
      "l.dob = r.dob\n",
      "\n",
      "Parameter estimates will be made for the following comparison(s):\n",
      "    - first_name\n",
      "    - surname\n",
      "    - city\n",
      "    - email\n",
      "\n",
      "Parameter estimates cannot be made for the following comparison(s) since they are used in the blocking rules: \n",
      "    - dob\n",
      "\n",
      "Iteration 1: Largest change in params was -0.392 in the m_probability of surname, level `Exact match`\n",
      "Iteration 2: Largest change in params was 0.137 in probability_two_random_records_match\n",
      "Iteration 3: Largest change in params was 0.0416 in probability_two_random_records_match\n",
      "Iteration 4: Largest change in params was 0.0171 in probability_two_random_records_match\n",
      "Iteration 5: Largest change in params was 0.00853 in probability_two_random_records_match\n",
      "Iteration 6: Largest change in params was 0.0047 in probability_two_random_records_match\n",
      "Iteration 7: Largest change in params was 0.00274 in probability_two_random_records_match\n",
      "Iteration 8: Largest change in params was 0.00165 in probability_two_random_records_match\n",
      "Iteration 9: Largest change in params was 0.00101 in probability_two_random_records_match\n",
      "Iteration 10: Largest change in params was 0.000629 in probability_two_random_records_match\n",
      "Iteration 11: Largest change in params was 0.000394 in probability_two_random_records_match\n",
      "Iteration 12: Largest change in params was 0.000247 in probability_two_random_records_match\n",
      "Iteration 13: Largest change in params was 0.000156 in probability_two_random_records_match\n",
      "Iteration 14: Largest change in params was 9.86e-05 in probability_two_random_records_match\n",
      "\n",
      "EM converged after 14 iterations\n",
      "\n",
      "Your model is fully trained. All comparisons have at least one estimate for their m and u values\n"
     ]
    }
   ],
   "source": [
    "training_blocking_rule = \"l.dob = r.dob\"\n",
    "training_session_dob = linker.estimate_parameters_using_expectation_maximisation(training_blocking_rule)"
   ]
  },
  {
   "cell_type": "code",
   "execution_count": 26,
   "id": "58d7f3ff-3660-43b4-ab62-23264cbc55b9",
   "metadata": {},
   "outputs": [
    {
     "data": {
      "application/vnd.vegalite.v4+json": {
       "$schema": "https://vega.github.io/schema/vega-lite/v5.2.json",
       "config": {
        "header": {
         "title": null
        },
        "mark": {
         "tooltip": null
        },
        "title": {
         "anchor": "middle"
        },
        "view": {
         "height": 60,
         "width": 400
        }
       },
       "data": {
        "values": [
         {
          "bayes_factor": 0.0033430420247643373,
          "bayes_factor_description": "The probability that two random records drawn at random match is 0.003 or one in  300.1 records.This is equivalent to a starting match weight of -8.225.",
          "comparison_name": "probability_two_random_records_match",
          "comparison_sort_order": -1,
          "comparison_vector_value": 0,
          "has_tf_adjustments": false,
          "is_null_level": false,
          "label_for_charts": "",
          "log2_bayes_factor": -8.224622793739668,
          "m_probability": null,
          "m_probability_description": null,
          "max_comparison_vector_value": 0,
          "probability_two_random_records_match": 0.0033319033319033323,
          "sql_condition": null,
          "tf_adjustment_column": null,
          "tf_adjustment_weight": null,
          "u_probability": null,
          "u_probability_description": null
         },
         {
          "bayes_factor": 85.80338234594066,
          "bayes_factor_description": "If comparison level is `exact match` then comparison is 85.80 times more likely to be a match",
          "comparison_name": "first_name",
          "comparison_sort_order": 0,
          "comparison_vector_value": 1,
          "has_tf_adjustments": false,
          "is_null_level": false,
          "label_for_charts": "Exact match",
          "log2_bayes_factor": 6.422962614378335,
          "m_probability": 0.4971080217684875,
          "m_probability_description": "Amongst matching record comparisons, 49.71% of records are in the exact match comparison level",
          "max_comparison_vector_value": 1,
          "probability_two_random_records_match": 0.0033319033319033323,
          "sql_condition": "\"first_name_l\" = \"first_name_r\"",
          "tf_adjustment_column": null,
          "tf_adjustment_weight": 1,
          "u_probability": 0.0057935713975033705,
          "u_probability_description": "Amongst non-matching record comparisons, 0.58% of records are in the exact match comparison level"
         },
         {
          "bayes_factor": 0.5058224969822425,
          "bayes_factor_description": "If comparison level is `all other comparisons` then comparison is  1.98 times less likely to be a match",
          "comparison_name": "first_name",
          "comparison_sort_order": 0,
          "comparison_vector_value": 0,
          "has_tf_adjustments": false,
          "is_null_level": false,
          "label_for_charts": "All other comparisons",
          "log2_bayes_factor": -0.9832968910951039,
          "m_probability": 0.5028919782315124,
          "m_probability_description": "Amongst matching record comparisons, 50.29% of records are in the all other comparisons comparison level",
          "max_comparison_vector_value": 1,
          "probability_two_random_records_match": 0.0033319033319033323,
          "sql_condition": "ELSE",
          "tf_adjustment_column": null,
          "tf_adjustment_weight": 1,
          "u_probability": 0.9942064286024966,
          "u_probability_description": "Amongst non-matching record comparisons, 99.42% of records are in the all other comparisons comparison level"
         },
         {
          "bayes_factor": 89.48089949369759,
          "bayes_factor_description": "If comparison level is `exact match` then comparison is 89.48 times more likely to be a match",
          "comparison_name": "surname",
          "comparison_sort_order": 1,
          "comparison_vector_value": 3,
          "has_tf_adjustments": false,
          "is_null_level": false,
          "label_for_charts": "Exact match",
          "log2_bayes_factor": 6.483507853838868,
          "m_probability": 0.4375594107271276,
          "m_probability_description": "Amongst matching record comparisons, 43.76% of records are in the exact match comparison level",
          "max_comparison_vector_value": 3,
          "probability_two_random_records_match": 0.0033319033319033323,
          "sql_condition": "\"surname_l\" = \"surname_r\"",
          "tf_adjustment_column": null,
          "tf_adjustment_weight": 1,
          "u_probability": 0.004889975550122249,
          "u_probability_description": "Amongst non-matching record comparisons, 0.49% of records are in the exact match comparison level"
         },
         {
          "bayes_factor": 78.52365983637108,
          "bayes_factor_description": "If comparison level is `levenshtein <= 1` then comparison is 78.52 times more likely to be a match",
          "comparison_name": "surname",
          "comparison_sort_order": 1,
          "comparison_vector_value": 2,
          "has_tf_adjustments": false,
          "is_null_level": false,
          "label_for_charts": "levenshtein <= 1",
          "log2_bayes_factor": 6.295055510492454,
          "m_probability": 0.18566006785783215,
          "m_probability_description": "Amongst matching record comparisons, 18.57% of records are in the levenshtein <= 1 comparison level",
          "max_comparison_vector_value": 3,
          "probability_two_random_records_match": 0.0033319033319033323,
          "sql_condition": "levenshtein(\"surname_l\", \"surname_r\") <= 1",
          "tf_adjustment_column": null,
          "tf_adjustment_weight": 1,
          "u_probability": 0.002364383782476692,
          "u_probability_description": "Amongst non-matching record comparisons, 0.24% of records are in the levenshtein <= 1 comparison level"
         },
         {
          "bayes_factor": 22.37267232897304,
          "bayes_factor_description": "If comparison level is `levenshtein <= 2` then comparison is 22.37 times more likely to be a match",
          "comparison_name": "surname",
          "comparison_sort_order": 1,
          "comparison_vector_value": 1,
          "has_tf_adjustments": false,
          "is_null_level": false,
          "label_for_charts": "levenshtein <= 2",
          "log2_bayes_factor": 4.483665685906397,
          "m_probability": 0.1120734158121651,
          "m_probability_description": "Amongst matching record comparisons, 11.21% of records are in the levenshtein <= 2 comparison level",
          "max_comparison_vector_value": 3,
          "probability_two_random_records_match": 0.0033319033319033323,
          "sql_condition": "levenshtein(\"surname_l\", \"surname_r\") <= 2",
          "tf_adjustment_column": null,
          "tf_adjustment_weight": 1,
          "u_probability": 0.005009388872469557,
          "u_probability_description": "Amongst non-matching record comparisons, 0.50% of records are in the levenshtein <= 2 comparison level"
         },
         {
          "bayes_factor": 0.26799371301989244,
          "bayes_factor_description": "If comparison level is `all other comparisons` then comparison is  3.73 times less likely to be a match",
          "comparison_name": "surname",
          "comparison_sort_order": 1,
          "comparison_vector_value": 0,
          "has_tf_adjustments": false,
          "is_null_level": false,
          "label_for_charts": "All other comparisons",
          "log2_bayes_factor": -1.8997289386125733,
          "m_probability": 0.2647071056028751,
          "m_probability_description": "Amongst matching record comparisons, 26.47% of records are in the all other comparisons comparison level",
          "max_comparison_vector_value": 3,
          "probability_two_random_records_match": 0.0033319033319033323,
          "sql_condition": "ELSE",
          "tf_adjustment_column": null,
          "tf_adjustment_weight": 1,
          "u_probability": 0.9877362517949315,
          "u_probability_description": "Amongst non-matching record comparisons, 98.77% of records are in the all other comparisons comparison level"
         },
         {
          "bayes_factor": 222.50382383655847,
          "bayes_factor_description": "If comparison level is `exact match` then comparison is 222.50 times more likely to be a match",
          "comparison_name": "dob",
          "comparison_sort_order": 2,
          "comparison_vector_value": 2,
          "has_tf_adjustments": false,
          "is_null_level": false,
          "label_for_charts": "Exact match",
          "log2_bayes_factor": 7.797686319483589,
          "m_probability": 0.3888805569756067,
          "m_probability_description": "Amongst matching record comparisons, 38.89% of records are in the exact match comparison level",
          "max_comparison_vector_value": 2,
          "probability_two_random_records_match": 0.0033319033319033323,
          "sql_condition": "\"dob_l\" = \"dob_r\"",
          "tf_adjustment_column": null,
          "tf_adjustment_weight": 1,
          "u_probability": 0.0017477477477477479,
          "u_probability_description": "Amongst non-matching record comparisons, 0.17% of records are in the exact match comparison level"
         },
         {
          "bayes_factor": 92.70487285260884,
          "bayes_factor_description": "If comparison level is `levenshtein <= 1` then comparison is 92.70 times more likely to be a match",
          "comparison_name": "dob",
          "comparison_sort_order": 2,
          "comparison_vector_value": 1,
          "has_tf_adjustments": false,
          "is_null_level": false,
          "label_for_charts": "levenshtein <= 1",
          "log2_bayes_factor": 6.5345732682099085,
          "m_probability": 0.14847627283701118,
          "m_probability_description": "Amongst matching record comparisons, 14.85% of records are in the levenshtein <= 1 comparison level",
          "max_comparison_vector_value": 2,
          "probability_two_random_records_match": 0.0033319033319033323,
          "sql_condition": "levenshtein(\"dob_l\", \"dob_r\") <= 1",
          "tf_adjustment_column": null,
          "tf_adjustment_weight": 1,
          "u_probability": 0.0016016016016016017,
          "u_probability_description": "Amongst non-matching record comparisons, 0.16% of records are in the levenshtein <= 1 comparison level"
         },
         {
          "bayes_factor": 0.46419793122630426,
          "bayes_factor_description": "If comparison level is `all other comparisons` then comparison is  2.15 times less likely to be a match",
          "comparison_name": "dob",
          "comparison_sort_order": 2,
          "comparison_vector_value": 0,
          "has_tf_adjustments": false,
          "is_null_level": false,
          "label_for_charts": "All other comparisons",
          "log2_bayes_factor": -1.1071880017960964,
          "m_probability": 0.4626431701873821,
          "m_probability_description": "Amongst matching record comparisons, 46.26% of records are in the all other comparisons comparison level",
          "max_comparison_vector_value": 2,
          "probability_two_random_records_match": 0.0033319033319033323,
          "sql_condition": "ELSE",
          "tf_adjustment_column": null,
          "tf_adjustment_weight": 1,
          "u_probability": 0.9966506506506506,
          "u_probability_description": "Amongst non-matching record comparisons, 99.67% of records are in the all other comparisons comparison level"
         },
         {
          "bayes_factor": 10.264353562890939,
          "bayes_factor_description": "If comparison level is `exact match` then comparison is 10.26 times more likely to be a match",
          "comparison_name": "city",
          "comparison_sort_order": 3,
          "comparison_vector_value": 1,
          "has_tf_adjustments": true,
          "is_null_level": false,
          "label_for_charts": "Exact match",
          "log2_bayes_factor": 3.3595708659307335,
          "m_probability": 0.5660541687277061,
          "m_probability_description": "Amongst matching record comparisons, 56.61% of records are in the exact match comparison level",
          "max_comparison_vector_value": 1,
          "probability_two_random_records_match": 0.0033319033319033323,
          "sql_condition": "\"city_l\" = \"city_r\"",
          "tf_adjustment_column": "city",
          "tf_adjustment_weight": 1,
          "u_probability": 0.0551475711801453,
          "u_probability_description": "Amongst non-matching record comparisons, 5.51% of records are in the exact match comparison level"
         },
         {
          "bayes_factor": 0.4592736580190661,
          "bayes_factor_description": "If comparison level is `all other comparisons` then comparison is  2.18 times less likely to be a match",
          "comparison_name": "city",
          "comparison_sort_order": 3,
          "comparison_vector_value": 0,
          "has_tf_adjustments": false,
          "is_null_level": false,
          "label_for_charts": "All other comparisons",
          "log2_bayes_factor": -1.1225740557985633,
          "m_probability": 0.4339458312722939,
          "m_probability_description": "Amongst matching record comparisons, 43.39% of records are in the all other comparisons comparison level",
          "max_comparison_vector_value": 1,
          "probability_two_random_records_match": 0.0033319033319033323,
          "sql_condition": "ELSE",
          "tf_adjustment_column": null,
          "tf_adjustment_weight": 1,
          "u_probability": 0.9448524288198547,
          "u_probability_description": "Amongst non-matching record comparisons, 94.49% of records are in the all other comparisons comparison level"
         },
         {
          "bayes_factor": 255.30161997169503,
          "bayes_factor_description": "If comparison level is `exact match` then comparison is 255.30 times more likely to be a match",
          "comparison_name": "email",
          "comparison_sort_order": 4,
          "comparison_vector_value": 3,
          "has_tf_adjustments": false,
          "is_null_level": false,
          "label_for_charts": "Exact match",
          "log2_bayes_factor": 7.99605888191739,
          "m_probability": 0.5600989005574621,
          "m_probability_description": "Amongst matching record comparisons, 56.01% of records are in the exact match comparison level",
          "max_comparison_vector_value": 3,
          "probability_two_random_records_match": 0.0033319033319033323,
          "sql_condition": "\"email_l\" = \"email_r\"",
          "tf_adjustment_column": null,
          "tf_adjustment_weight": 1,
          "u_probability": 0.0021938713143283602,
          "u_probability_description": "Amongst non-matching record comparisons, 0.22% of records are in the exact match comparison level"
         },
         {
          "bayes_factor": 235.63777521191443,
          "bayes_factor_description": "If comparison level is `levenshtein <= 1` then comparison is 235.64 times more likely to be a match",
          "comparison_name": "email",
          "comparison_sort_order": 4,
          "comparison_vector_value": 2,
          "has_tf_adjustments": false,
          "is_null_level": false,
          "label_for_charts": "levenshtein <= 1",
          "log2_bayes_factor": 7.88042702666107,
          "m_probability": 0.17282498809235006,
          "m_probability_description": "Amongst matching record comparisons, 17.28% of records are in the levenshtein <= 1 comparison level",
          "max_comparison_vector_value": 3,
          "probability_two_random_records_match": 0.0033319033319033323,
          "sql_condition": "levenshtein(\"email_l\", \"email_r\") <= 1",
          "tf_adjustment_column": null,
          "tf_adjustment_weight": 1,
          "u_probability": 0.0007334349848487773,
          "u_probability_description": "Amongst non-matching record comparisons, 0.07% of records are in the levenshtein <= 1 comparison level"
         },
         {
          "bayes_factor": 206.57183856156246,
          "bayes_factor_description": "If comparison level is `levenshtein <= 2` then comparison is 206.57 times more likely to be a match",
          "comparison_name": "email",
          "comparison_sort_order": 4,
          "comparison_vector_value": 1,
          "has_tf_adjustments": false,
          "is_null_level": false,
          "label_for_charts": "levenshtein <= 2",
          "log2_bayes_factor": 7.690499778262132,
          "m_probability": 0.12824935773735807,
          "m_probability_description": "Amongst matching record comparisons, 12.82% of records are in the levenshtein <= 2 comparison level",
          "max_comparison_vector_value": 3,
          "probability_two_random_records_match": 0.0033319033319033323,
          "sql_condition": "levenshtein(\"email_l\", \"email_r\") <= 2",
          "tf_adjustment_column": null,
          "tf_adjustment_weight": 1,
          "u_probability": 0.000620846281034272,
          "u_probability_description": "Amongst non-matching record comparisons, 0.06% of records are in the levenshtein <= 2 comparison level"
         },
         {
          "bayes_factor": 0.13932108608389618,
          "bayes_factor_description": "If comparison level is `all other comparisons` then comparison is  7.18 times less likely to be a match",
          "comparison_name": "email",
          "comparison_sort_order": 4,
          "comparison_vector_value": 0,
          "has_tf_adjustments": false,
          "is_null_level": false,
          "label_for_charts": "All other comparisons",
          "log2_bayes_factor": -2.8435144702111024,
          "m_probability": 0.13882675361282973,
          "m_probability_description": "Amongst matching record comparisons, 13.88% of records are in the all other comparisons comparison level",
          "max_comparison_vector_value": 3,
          "probability_two_random_records_match": 0.0033319033319033323,
          "sql_condition": "ELSE",
          "tf_adjustment_column": null,
          "tf_adjustment_weight": 1,
          "u_probability": 0.9964518474197885,
          "u_probability_description": "Amongst non-matching record comparisons, 99.65% of records are in the all other comparisons comparison level"
         }
        ]
       },
       "resolve": {
        "axis": {
         "y": "independent"
        },
        "scale": {
         "y": "independent"
        }
       },
       "selection": {
        "zoom_selector": {
         "bind": "scales",
         "encodings": [
          "x"
         ],
         "type": "interval"
        }
       },
       "title": {
        "subtitle": "Use mousewheel to zoom",
        "text": "Model parameters (components of final match weight)"
       },
       "vconcat": [
        {
         "encoding": {
          "color": {
           "field": "log2_bayes_factor",
           "scale": {
            "domain": [
             -10,
             0,
             10
            ],
            "range": [
             "red",
             "orange",
             "green"
            ]
           },
           "title": "Match weight",
           "type": "quantitative"
          },
          "tooltip": [
           {
            "field": "comparison_name",
            "title": "Comparison name",
            "type": "nominal"
           },
           {
            "field": "probability_two_random_records_match",
            "format": ".4f",
            "title": "Probability two random records match",
            "type": "nominal"
           },
           {
            "field": "log2_bayes_factor",
            "format": ",.4f",
            "title": "Equivalent match weight",
            "type": "quantitative"
           },
           {
            "field": "bayes_factor_description",
            "title": "Match weight description",
            "type": "nominal"
           }
          ],
          "x": {
           "axis": {
            "domain": false,
            "labels": false,
            "ticks": false,
            "title": ""
           },
           "field": "log2_bayes_factor",
           "scale": {
            "domain": [
             -10,
             10
            ]
           },
           "type": "quantitative"
          },
          "y": {
           "axis": {
            "title": "Prior (starting) match weight",
            "titleAlign": "right",
            "titleAngle": 0,
            "titleFontWeight": "normal"
           },
           "field": "label_for_charts",
           "sort": {
            "field": "comparison_vector_value",
            "order": "descending"
           },
           "type": "nominal"
          }
         },
         "height": 20,
         "mark": {
          "clip": true,
          "height": 15,
          "type": "bar"
         },
         "selection": {
          "zoom_selector": {
           "bind": "scales",
           "encodings": [
            "x"
           ],
           "type": "interval"
          }
         },
         "transform": [
          {
           "filter": "(datum.comparison_name == 'probability_two_random_records_match')"
          }
         ]
        },
        {
         "encoding": {
          "color": {
           "field": "log2_bayes_factor",
           "scale": {
            "domain": [
             -10,
             0,
             10
            ],
            "range": [
             "red",
             "orange",
             "green"
            ]
           },
           "title": "Match weight",
           "type": "quantitative"
          },
          "row": {
           "field": "comparison_name",
           "header": {
            "labelAlign": "left",
            "labelAnchor": "middle",
            "labelAngle": 0
           },
           "sort": {
            "field": "comparison_sort_order"
           },
           "type": "nominal"
          },
          "tooltip": [
           {
            "field": "comparison_name",
            "title": "Comparison name",
            "type": "nominal"
           },
           {
            "field": "label_for_charts",
            "title": "Label",
            "type": "ordinal"
           },
           {
            "field": "sql_condition",
            "title": "SQL condition",
            "type": "nominal"
           },
           {
            "field": "m_probability",
            "format": ".4f",
            "title": "M probability",
            "type": "quantitative"
           },
           {
            "field": "u_probability",
            "format": ".4f",
            "title": "U probability",
            "type": "quantitative"
           },
           {
            "field": "bayes_factor",
            "format": ",.4f",
            "title": "Bayes factor = m/u",
            "type": "quantitative"
           },
           {
            "field": "log2_bayes_factor",
            "format": ",.4f",
            "title": "Match weight = log2(m/u)",
            "type": "quantitative"
           },
           {
            "field": "bayes_factor_description",
            "title": "Match weight description",
            "type": "nominal"
           }
          ],
          "x": {
           "axis": {
            "title": "Comparison level match weight = log2(m/u)"
           },
           "field": "log2_bayes_factor",
           "scale": {
            "domain": [
             -10,
             10
            ]
           },
           "type": "quantitative"
          },
          "y": {
           "axis": {
            "title": null
           },
           "field": "label_for_charts",
           "sort": {
            "field": "comparison_vector_value",
            "order": "descending"
           },
           "type": "nominal"
          }
         },
         "height": {
          "step": 12
         },
         "mark": {
          "clip": true,
          "type": "bar"
         },
         "resolve": {
          "axis": {
           "y": "independent"
          },
          "scale": {
           "y": "independent"
          }
         },
         "selection": {
          "zoom_selector": {
           "bind": "scales",
           "encodings": [
            "x"
           ],
           "type": "interval"
          }
         },
         "transform": [
          {
           "filter": "(datum.comparison_name != 'probability_two_random_records_match')"
          }
         ]
        }
       ]
      },
      "image/png": "[encoded data removed]",
      "text/plain": [
       "<VegaLite 4 object>\n",
       "\n",
       "If you see this message, it means the renderer has not been properly enabled\n",
       "for the frontend that you are using. For more information, see\n",
       "https://altair-viz.github.io/user_guide/troubleshooting.html\n"
      ]
     },
     "execution_count": 26,
     "metadata": {},
     "output_type": "execute_result"
    }
   ],
   "source": [
    "linker.match_weights_chart()"
   ]
  },
  {
   "cell_type": "code",
   "execution_count": 27,
   "id": "d4ccc12d-e78e-449b-a2a9-f8797f972835",
   "metadata": {},
   "outputs": [
    {
     "data": {
      "application/vnd.vegalite.v4+json": {
       "$schema": "https://vega.github.io/schema/vega-lite/v4.json",
       "config": {
        "header": {
         "title": null
        },
        "title": {
         "anchor": "middle",
         "offset": 10
        },
        "view": {
         "height": 300,
         "width": 400
        }
       },
       "data": {
        "values": [
         {
          "bayes_factor": 85.80338234594066,
          "bayes_factor_description": "If comparison level is `exact match` then comparison is 85.80 times more likely to be a match",
          "comparison_name": "first_name",
          "comparison_sort_order": 0,
          "comparison_vector_value": 1,
          "has_tf_adjustments": false,
          "is_null_level": false,
          "label_for_charts": "Exact match",
          "log2_bayes_factor": 6.422962614378335,
          "m_probability": 0.4971080217684875,
          "m_probability_description": "Amongst matching record comparisons, 49.71% of records are in the exact match comparison level",
          "max_comparison_vector_value": 1,
          "probability_two_random_records_match": 0.0033319033319033323,
          "sql_condition": "\"first_name_l\" = \"first_name_r\"",
          "tf_adjustment_column": null,
          "tf_adjustment_weight": 1,
          "u_probability": 0.0057935713975033705,
          "u_probability_description": "Amongst non-matching record comparisons, 0.58% of records are in the exact match comparison level"
         },
         {
          "bayes_factor": 0.5058224969822425,
          "bayes_factor_description": "If comparison level is `all other comparisons` then comparison is  1.98 times less likely to be a match",
          "comparison_name": "first_name",
          "comparison_sort_order": 0,
          "comparison_vector_value": 0,
          "has_tf_adjustments": false,
          "is_null_level": false,
          "label_for_charts": "All other comparisons",
          "log2_bayes_factor": -0.9832968910951039,
          "m_probability": 0.5028919782315124,
          "m_probability_description": "Amongst matching record comparisons, 50.29% of records are in the all other comparisons comparison level",
          "max_comparison_vector_value": 1,
          "probability_two_random_records_match": 0.0033319033319033323,
          "sql_condition": "ELSE",
          "tf_adjustment_column": null,
          "tf_adjustment_weight": 1,
          "u_probability": 0.9942064286024966,
          "u_probability_description": "Amongst non-matching record comparisons, 99.42% of records are in the all other comparisons comparison level"
         },
         {
          "bayes_factor": 89.48089949369759,
          "bayes_factor_description": "If comparison level is `exact match` then comparison is 89.48 times more likely to be a match",
          "comparison_name": "surname",
          "comparison_sort_order": 1,
          "comparison_vector_value": 3,
          "has_tf_adjustments": false,
          "is_null_level": false,
          "label_for_charts": "Exact match",
          "log2_bayes_factor": 6.483507853838868,
          "m_probability": 0.4375594107271276,
          "m_probability_description": "Amongst matching record comparisons, 43.76% of records are in the exact match comparison level",
          "max_comparison_vector_value": 3,
          "probability_two_random_records_match": 0.0033319033319033323,
          "sql_condition": "\"surname_l\" = \"surname_r\"",
          "tf_adjustment_column": null,
          "tf_adjustment_weight": 1,
          "u_probability": 0.004889975550122249,
          "u_probability_description": "Amongst non-matching record comparisons, 0.49% of records are in the exact match comparison level"
         },
         {
          "bayes_factor": 78.52365983637108,
          "bayes_factor_description": "If comparison level is `levenshtein <= 1` then comparison is 78.52 times more likely to be a match",
          "comparison_name": "surname",
          "comparison_sort_order": 1,
          "comparison_vector_value": 2,
          "has_tf_adjustments": false,
          "is_null_level": false,
          "label_for_charts": "levenshtein <= 1",
          "log2_bayes_factor": 6.295055510492454,
          "m_probability": 0.18566006785783215,
          "m_probability_description": "Amongst matching record comparisons, 18.57% of records are in the levenshtein <= 1 comparison level",
          "max_comparison_vector_value": 3,
          "probability_two_random_records_match": 0.0033319033319033323,
          "sql_condition": "levenshtein(\"surname_l\", \"surname_r\") <= 1",
          "tf_adjustment_column": null,
          "tf_adjustment_weight": 1,
          "u_probability": 0.002364383782476692,
          "u_probability_description": "Amongst non-matching record comparisons, 0.24% of records are in the levenshtein <= 1 comparison level"
         },
         {
          "bayes_factor": 22.37267232897304,
          "bayes_factor_description": "If comparison level is `levenshtein <= 2` then comparison is 22.37 times more likely to be a match",
          "comparison_name": "surname",
          "comparison_sort_order": 1,
          "comparison_vector_value": 1,
          "has_tf_adjustments": false,
          "is_null_level": false,
          "label_for_charts": "levenshtein <= 2",
          "log2_bayes_factor": 4.483665685906397,
          "m_probability": 0.1120734158121651,
          "m_probability_description": "Amongst matching record comparisons, 11.21% of records are in the levenshtein <= 2 comparison level",
          "max_comparison_vector_value": 3,
          "probability_two_random_records_match": 0.0033319033319033323,
          "sql_condition": "levenshtein(\"surname_l\", \"surname_r\") <= 2",
          "tf_adjustment_column": null,
          "tf_adjustment_weight": 1,
          "u_probability": 0.005009388872469557,
          "u_probability_description": "Amongst non-matching record comparisons, 0.50% of records are in the levenshtein <= 2 comparison level"
         },
         {
          "bayes_factor": 0.26799371301989244,
          "bayes_factor_description": "If comparison level is `all other comparisons` then comparison is  3.73 times less likely to be a match",
          "comparison_name": "surname",
          "comparison_sort_order": 1,
          "comparison_vector_value": 0,
          "has_tf_adjustments": false,
          "is_null_level": false,
          "label_for_charts": "All other comparisons",
          "log2_bayes_factor": -1.8997289386125733,
          "m_probability": 0.2647071056028751,
          "m_probability_description": "Amongst matching record comparisons, 26.47% of records are in the all other comparisons comparison level",
          "max_comparison_vector_value": 3,
          "probability_two_random_records_match": 0.0033319033319033323,
          "sql_condition": "ELSE",
          "tf_adjustment_column": null,
          "tf_adjustment_weight": 1,
          "u_probability": 0.9877362517949315,
          "u_probability_description": "Amongst non-matching record comparisons, 98.77% of records are in the all other comparisons comparison level"
         },
         {
          "bayes_factor": 222.50382383655847,
          "bayes_factor_description": "If comparison level is `exact match` then comparison is 222.50 times more likely to be a match",
          "comparison_name": "dob",
          "comparison_sort_order": 2,
          "comparison_vector_value": 2,
          "has_tf_adjustments": false,
          "is_null_level": false,
          "label_for_charts": "Exact match",
          "log2_bayes_factor": 7.797686319483589,
          "m_probability": 0.3888805569756067,
          "m_probability_description": "Amongst matching record comparisons, 38.89% of records are in the exact match comparison level",
          "max_comparison_vector_value": 2,
          "probability_two_random_records_match": 0.0033319033319033323,
          "sql_condition": "\"dob_l\" = \"dob_r\"",
          "tf_adjustment_column": null,
          "tf_adjustment_weight": 1,
          "u_probability": 0.0017477477477477479,
          "u_probability_description": "Amongst non-matching record comparisons, 0.17% of records are in the exact match comparison level"
         },
         {
          "bayes_factor": 92.70487285260884,
          "bayes_factor_description": "If comparison level is `levenshtein <= 1` then comparison is 92.70 times more likely to be a match",
          "comparison_name": "dob",
          "comparison_sort_order": 2,
          "comparison_vector_value": 1,
          "has_tf_adjustments": false,
          "is_null_level": false,
          "label_for_charts": "levenshtein <= 1",
          "log2_bayes_factor": 6.5345732682099085,
          "m_probability": 0.14847627283701118,
          "m_probability_description": "Amongst matching record comparisons, 14.85% of records are in the levenshtein <= 1 comparison level",
          "max_comparison_vector_value": 2,
          "probability_two_random_records_match": 0.0033319033319033323,
          "sql_condition": "levenshtein(\"dob_l\", \"dob_r\") <= 1",
          "tf_adjustment_column": null,
          "tf_adjustment_weight": 1,
          "u_probability": 0.0016016016016016017,
          "u_probability_description": "Amongst non-matching record comparisons, 0.16% of records are in the levenshtein <= 1 comparison level"
         },
         {
          "bayes_factor": 0.46419793122630426,
          "bayes_factor_description": "If comparison level is `all other comparisons` then comparison is  2.15 times less likely to be a match",
          "comparison_name": "dob",
          "comparison_sort_order": 2,
          "comparison_vector_value": 0,
          "has_tf_adjustments": false,
          "is_null_level": false,
          "label_for_charts": "All other comparisons",
          "log2_bayes_factor": -1.1071880017960964,
          "m_probability": 0.4626431701873821,
          "m_probability_description": "Amongst matching record comparisons, 46.26% of records are in the all other comparisons comparison level",
          "max_comparison_vector_value": 2,
          "probability_two_random_records_match": 0.0033319033319033323,
          "sql_condition": "ELSE",
          "tf_adjustment_column": null,
          "tf_adjustment_weight": 1,
          "u_probability": 0.9966506506506506,
          "u_probability_description": "Amongst non-matching record comparisons, 99.67% of records are in the all other comparisons comparison level"
         },
         {
          "bayes_factor": 10.264353562890939,
          "bayes_factor_description": "If comparison level is `exact match` then comparison is 10.26 times more likely to be a match",
          "comparison_name": "city",
          "comparison_sort_order": 3,
          "comparison_vector_value": 1,
          "has_tf_adjustments": true,
          "is_null_level": false,
          "label_for_charts": "Exact match",
          "log2_bayes_factor": 3.3595708659307335,
          "m_probability": 0.5660541687277061,
          "m_probability_description": "Amongst matching record comparisons, 56.61% of records are in the exact match comparison level",
          "max_comparison_vector_value": 1,
          "probability_two_random_records_match": 0.0033319033319033323,
          "sql_condition": "\"city_l\" = \"city_r\"",
          "tf_adjustment_column": "city",
          "tf_adjustment_weight": 1,
          "u_probability": 0.0551475711801453,
          "u_probability_description": "Amongst non-matching record comparisons, 5.51% of records are in the exact match comparison level"
         },
         {
          "bayes_factor": 0.4592736580190661,
          "bayes_factor_description": "If comparison level is `all other comparisons` then comparison is  2.18 times less likely to be a match",
          "comparison_name": "city",
          "comparison_sort_order": 3,
          "comparison_vector_value": 0,
          "has_tf_adjustments": false,
          "is_null_level": false,
          "label_for_charts": "All other comparisons",
          "log2_bayes_factor": -1.1225740557985633,
          "m_probability": 0.4339458312722939,
          "m_probability_description": "Amongst matching record comparisons, 43.39% of records are in the all other comparisons comparison level",
          "max_comparison_vector_value": 1,
          "probability_two_random_records_match": 0.0033319033319033323,
          "sql_condition": "ELSE",
          "tf_adjustment_column": null,
          "tf_adjustment_weight": 1,
          "u_probability": 0.9448524288198547,
          "u_probability_description": "Amongst non-matching record comparisons, 94.49% of records are in the all other comparisons comparison level"
         },
         {
          "bayes_factor": 255.30161997169503,
          "bayes_factor_description": "If comparison level is `exact match` then comparison is 255.30 times more likely to be a match",
          "comparison_name": "email",
          "comparison_sort_order": 4,
          "comparison_vector_value": 3,
          "has_tf_adjustments": false,
          "is_null_level": false,
          "label_for_charts": "Exact match",
          "log2_bayes_factor": 7.99605888191739,
          "m_probability": 0.5600989005574621,
          "m_probability_description": "Amongst matching record comparisons, 56.01% of records are in the exact match comparison level",
          "max_comparison_vector_value": 3,
          "probability_two_random_records_match": 0.0033319033319033323,
          "sql_condition": "\"email_l\" = \"email_r\"",
          "tf_adjustment_column": null,
          "tf_adjustment_weight": 1,
          "u_probability": 0.0021938713143283602,
          "u_probability_description": "Amongst non-matching record comparisons, 0.22% of records are in the exact match comparison level"
         },
         {
          "bayes_factor": 235.63777521191443,
          "bayes_factor_description": "If comparison level is `levenshtein <= 1` then comparison is 235.64 times more likely to be a match",
          "comparison_name": "email",
          "comparison_sort_order": 4,
          "comparison_vector_value": 2,
          "has_tf_adjustments": false,
          "is_null_level": false,
          "label_for_charts": "levenshtein <= 1",
          "log2_bayes_factor": 7.88042702666107,
          "m_probability": 0.17282498809235006,
          "m_probability_description": "Amongst matching record comparisons, 17.28% of records are in the levenshtein <= 1 comparison level",
          "max_comparison_vector_value": 3,
          "probability_two_random_records_match": 0.0033319033319033323,
          "sql_condition": "levenshtein(\"email_l\", \"email_r\") <= 1",
          "tf_adjustment_column": null,
          "tf_adjustment_weight": 1,
          "u_probability": 0.0007334349848487773,
          "u_probability_description": "Amongst non-matching record comparisons, 0.07% of records are in the levenshtein <= 1 comparison level"
         },
         {
          "bayes_factor": 206.57183856156246,
          "bayes_factor_description": "If comparison level is `levenshtein <= 2` then comparison is 206.57 times more likely to be a match",
          "comparison_name": "email",
          "comparison_sort_order": 4,
          "comparison_vector_value": 1,
          "has_tf_adjustments": false,
          "is_null_level": false,
          "label_for_charts": "levenshtein <= 2",
          "log2_bayes_factor": 7.690499778262132,
          "m_probability": 0.12824935773735807,
          "m_probability_description": "Amongst matching record comparisons, 12.82% of records are in the levenshtein <= 2 comparison level",
          "max_comparison_vector_value": 3,
          "probability_two_random_records_match": 0.0033319033319033323,
          "sql_condition": "levenshtein(\"email_l\", \"email_r\") <= 2",
          "tf_adjustment_column": null,
          "tf_adjustment_weight": 1,
          "u_probability": 0.000620846281034272,
          "u_probability_description": "Amongst non-matching record comparisons, 0.06% of records are in the levenshtein <= 2 comparison level"
         },
         {
          "bayes_factor": 0.13932108608389618,
          "bayes_factor_description": "If comparison level is `all other comparisons` then comparison is  7.18 times less likely to be a match",
          "comparison_name": "email",
          "comparison_sort_order": 4,
          "comparison_vector_value": 0,
          "has_tf_adjustments": false,
          "is_null_level": false,
          "label_for_charts": "All other comparisons",
          "log2_bayes_factor": -2.8435144702111024,
          "m_probability": 0.13882675361282973,
          "m_probability_description": "Amongst matching record comparisons, 13.88% of records are in the all other comparisons comparison level",
          "max_comparison_vector_value": 3,
          "probability_two_random_records_match": 0.0033319033319033323,
          "sql_condition": "ELSE",
          "tf_adjustment_column": null,
          "tf_adjustment_weight": 1,
          "u_probability": 0.9964518474197885,
          "u_probability_description": "Amongst non-matching record comparisons, 99.65% of records are in the all other comparisons comparison level"
         }
        ]
       },
       "hconcat": [
        {
         "encoding": {
          "color": {
           "value": "green"
          },
          "row": {
           "field": "comparison_name",
           "header": {
            "labelAlign": "left",
            "labelAnchor": "middle",
            "labelAngle": 0
           },
           "sort": {
            "field": "comparison_sort_order"
           },
           "type": "nominal"
          },
          "tooltip": [
           {
            "field": "m_probability_description",
            "title": "m probability description",
            "type": "nominal"
           },
           {
            "field": "comparison_name",
            "title": "Comparison column name",
            "type": "nominal"
           },
           {
            "field": "label_for_charts",
            "title": "Label",
            "type": "ordinal"
           },
           {
            "field": "sql_condition",
            "title": "SQL condition",
            "type": "nominal"
           },
           {
            "field": "m_probability",
            "format": ".4p",
            "title": "m probability",
            "type": "quantitative"
           },
           {
            "field": "u_probability",
            "format": ".4p",
            "title": "u probability",
            "type": "quantitative"
           },
           {
            "field": "bayes_factor",
            "format": ",.4f",
            "title": "Bayes factor = m/u",
            "type": "quantitative"
           },
           {
            "field": "log2_bayes_factor",
            "format": ",.4f",
            "title": "Match weight = log2(m/u)",
            "type": "quantitative"
           }
          ],
          "x": {
           "axis": {
            "title": "Proportion of record comparisons"
           },
           "field": "m_probability",
           "type": "quantitative"
          },
          "y": {
           "axis": {
            "title": null
           },
           "field": "label_for_charts",
           "sort": {
            "field": "comparison_vector_value",
            "order": "descending"
           },
           "type": "nominal"
          }
         },
         "height": {
          "step": 12
         },
         "mark": "bar",
         "resolve": {
          "scale": {
           "y": "independent"
          }
         },
         "title": {
          "fontSize": 12,
          "fontWeight": "bold",
          "text": "Amongst matching record comparisons:"
         },
         "transform": [
          {
           "filter": "(datum.bayes_factor != 'no-op filter due to vega lite issue 4680')"
          }
         ],
         "width": 150
        },
        {
         "encoding": {
          "color": {
           "value": "red"
          },
          "row": {
           "field": "comparison_name",
           "header": {
            "labels": false
           },
           "sort": {
            "field": "comparison_sort_order"
           },
           "type": "nominal"
          },
          "tooltip": [
           {
            "field": "u_probability_description",
            "title": "u probability description",
            "type": "nominal"
           },
           {
            "field": "comparison_name",
            "title": "Comparison column name",
            "type": "nominal"
           },
           {
            "field": "label_for_charts",
            "title": "Label",
            "type": "ordinal"
           },
           {
            "field": "sql_condition",
            "title": "SQL condition",
            "type": "nominal"
           },
           {
            "field": "m_probability",
            "format": ".4p",
            "title": "m probability",
            "type": "quantitative"
           },
           {
            "field": "u_probability",
            "format": ".4p",
            "title": "u probability",
            "type": "quantitative"
           },
           {
            "field": "bayes_factor",
            "format": ",.4f",
            "title": "Bayes factor = m/u",
            "type": "quantitative"
           },
           {
            "field": "log2_bayes_factor",
            "format": ",.4f",
            "title": "Match weight = log2(m/u)",
            "type": "quantitative"
           }
          ],
          "x": {
           "axis": {
            "title": "Proportion of record comparisons"
           },
           "field": "u_probability",
           "type": "quantitative"
          },
          "y": {
           "axis": {
            "title": null
           },
           "field": "label_for_charts",
           "sort": {
            "field": "comparison_vector_value",
            "order": "descending"
           },
           "type": "nominal"
          }
         },
         "height": {
          "step": 12
         },
         "mark": "bar",
         "resolve": {
          "scale": {
           "y": "independent"
          }
         },
         "title": {
          "fontSize": 12,
          "fontWeight": "bold",
          "text": "Amongst non-matching record comparisons:"
         },
         "transform": [
          {
           "filter": "(datum.bayes_factor != 'no-op filter2 due to vega lite issue 4680')"
          }
         ],
         "width": 150
        }
       ],
       "title": {
        "subtitle": "(m and u probabilities)",
        "text": "Proportion of record comparisons in each comparison level by match status"
       }
      },
      "image/png": "[encoded data removed]",
      "text/plain": [
       "<VegaLite 4 object>\n",
       "\n",
       "If you see this message, it means the renderer has not been properly enabled\n",
       "for the frontend that you are using. For more information, see\n",
       "https://altair-viz.github.io/user_guide/troubleshooting.html\n"
      ]
     },
     "execution_count": 27,
     "metadata": {},
     "output_type": "execute_result"
    }
   ],
   "source": [
    "linker.m_u_parameters_chart()"
   ]
  },
  {
   "cell_type": "code",
   "execution_count": 28,
   "id": "4154414f-e604-4a88-8249-90817f998a50",
   "metadata": {},
   "outputs": [
    {
     "data": {
      "application/vnd.vegalite.v4+json": {
       "$schema": "https://vega.github.io/schema/vega-lite/v4.8.1.json",
       "config": {
        "view": {
         "continuousHeight": 300,
         "continuousWidth": 400
        }
       },
       "data": {
        "values": [
         {
          "cum_prop": 0.002,
          "match_probability": 0.42655,
          "match_weight": -0.43,
          "prop": 0.002
         },
         {
          "cum_prop": 0.003,
          "match_probability": 0.96071,
          "match_weight": 4.61,
          "prop": 0.001
         },
         {
          "cum_prop": 0.006,
          "match_probability": 0.98457,
          "match_weight": 6,
          "prop": 0.003
         },
         {
          "cum_prop": 0.013000000000000001,
          "match_probability": 0.9852,
          "match_weight": 6.06,
          "prop": 0.007
         },
         {
          "cum_prop": 0.014000000000000002,
          "match_probability": 0.9856,
          "match_weight": 6.1,
          "prop": 0.001
         },
         {
          "cum_prop": 0.019000000000000003,
          "match_probability": 0.99414,
          "match_weight": 7.41,
          "prop": 0.005
         },
         {
          "cum_prop": 0.021000000000000005,
          "match_probability": 0.99438,
          "match_weight": 7.47,
          "prop": 0.002
         },
         {
          "cum_prop": 0.027000000000000003,
          "match_probability": 0.99476,
          "match_weight": 7.57,
          "prop": 0.006
         },
         {
          "cum_prop": 0.030000000000000002,
          "match_probability": 0.99709,
          "match_weight": 8.42,
          "prop": 0.003
         },
         {
          "cum_prop": 0.038000000000000006,
          "match_probability": 0.99802,
          "match_weight": 8.98,
          "prop": 0.008
         },
         {
          "cum_prop": 0.04100000000000001,
          "match_probability": 0.9987,
          "match_weight": 9.58,
          "prop": 0.003
         },
         {
          "cum_prop": 0.04200000000000001,
          "match_probability": 0.99888,
          "match_weight": 9.8,
          "prop": 0.001
         },
         {
          "cum_prop": 0.04300000000000001,
          "match_probability": 0.99931,
          "match_weight": 10.51,
          "prop": 0.001
         },
         {
          "cum_prop": 0.04400000000000001,
          "match_probability": 0.99939,
          "match_weight": 10.67,
          "prop": 0.001
         },
         {
          "cum_prop": 0.04500000000000001,
          "match_probability": 0.99942,
          "match_weight": 10.75,
          "prop": 0.001
         },
         {
          "cum_prop": 0.047000000000000014,
          "match_probability": 0.99945,
          "match_weight": 10.82,
          "prop": 0.002
         },
         {
          "cum_prop": 0.049000000000000016,
          "match_probability": 0.99946,
          "match_weight": 10.84,
          "prop": 0.002
         },
         {
          "cum_prop": 0.05000000000000002,
          "match_probability": 0.99948,
          "match_weight": 10.9,
          "prop": 0.001
         },
         {
          "cum_prop": 0.05100000000000002,
          "match_probability": 0.99952,
          "match_weight": 11.03,
          "prop": 0.001
         },
         {
          "cum_prop": 0.05200000000000002,
          "match_probability": 0.99954,
          "match_weight": 11.09,
          "prop": 0.001
         },
         {
          "cum_prop": 0.05300000000000002,
          "match_probability": 0.99958,
          "match_weight": 11.2,
          "prop": 0.001
         },
         {
          "cum_prop": 0.05400000000000002,
          "match_probability": 0.99959,
          "match_weight": 11.26,
          "prop": 0.001
         },
         {
          "cum_prop": 0.05500000000000002,
          "match_probability": 0.99969,
          "match_weight": 11.67,
          "prop": 0.001
         },
         {
          "cum_prop": 0.058000000000000024,
          "match_probability": 0.99971,
          "match_weight": 11.73,
          "prop": 0.003
         },
         {
          "cum_prop": 0.059000000000000025,
          "match_probability": 0.99974,
          "match_weight": 11.9,
          "prop": 0.001
         },
         {
          "cum_prop": 0.06300000000000003,
          "match_probability": 0.99976,
          "match_weight": 12.03,
          "prop": 0.004
         },
         {
          "cum_prop": 0.06400000000000003,
          "match_probability": 0.99977,
          "match_weight": 12.1,
          "prop": 0.001
         },
         {
          "cum_prop": 0.06500000000000003,
          "match_probability": 0.99979,
          "match_weight": 12.25,
          "prop": 0.001
         },
         {
          "cum_prop": 0.06600000000000003,
          "match_probability": 0.9998,
          "match_weight": 12.32,
          "prop": 0.001
         },
         {
          "cum_prop": 0.06800000000000003,
          "match_probability": 0.99981,
          "match_weight": 12.33,
          "prop": 0.002
         },
         {
          "cum_prop": 0.09200000000000003,
          "match_probability": 0.99982,
          "match_weight": 12.48,
          "prop": 0.024
         },
         {
          "cum_prop": 0.09500000000000003,
          "match_probability": 0.99984,
          "match_weight": 12.61,
          "prop": 0.003
         },
         {
          "cum_prop": 0.09600000000000003,
          "match_probability": 0.99985,
          "match_weight": 12.71,
          "prop": 0.001
         },
         {
          "cum_prop": 0.09700000000000003,
          "match_probability": 0.99987,
          "match_weight": 12.9,
          "prop": 0.001
         },
         {
          "cum_prop": 0.09800000000000003,
          "match_probability": 0.99991,
          "match_weight": 13.42,
          "prop": 0.001
         },
         {
          "cum_prop": 0.12100000000000002,
          "match_probability": 0.99993,
          "match_weight": 13.9,
          "prop": 0.023
         },
         {
          "cum_prop": 0.15500000000000003,
          "match_probability": 0.99994,
          "match_weight": 14.05,
          "prop": 0.034
         },
         {
          "cum_prop": 0.15600000000000003,
          "match_probability": 0.99995,
          "match_weight": 14.42,
          "prop": 0.001
         },
         {
          "cum_prop": 0.16800000000000004,
          "match_probability": 0.99997,
          "match_weight": 14.9,
          "prop": 0.012
         },
         {
          "cum_prop": 0.21600000000000003,
          "match_probability": 0.99998,
          "match_weight": 16,
          "prop": 0.048
         },
         {
          "cum_prop": 0.24600000000000002,
          "match_probability": 0.99999,
          "match_weight": 17.58,
          "prop": 0.03
         }
        ]
       },
       "height": 400,
       "layer": [
        {
         "encoding": {
          "x": {
           "axis": {
            "format": "+",
            "title": "Threshold match weight"
           },
           "field": "match_weight",
           "type": "quantitative"
          },
          "y": {
           "axis": {
            "format": "%",
            "title": "Percentage of unlinkable records"
           },
           "field": "cum_prop",
           "type": "quantitative"
          }
         },
         "mark": "line"
        },
        {
         "encoding": {
          "opacity": {
           "value": 0
          },
          "tooltip": [
           {
            "field": "match_weight",
            "format": "+.5",
            "title": "Match weight",
            "type": "quantitative"
           },
           {
            "field": "match_probability",
            "format": ".5",
            "title": "Match probability",
            "type": "quantitative"
           },
           {
            "field": "cum_prop",
            "format": ".3%",
            "title": "Proportion of unlinkable records",
            "type": "quantitative"
           }
          ],
          "x": {
           "field": "match_weight",
           "type": "quantitative"
          },
          "y": {
           "field": "cum_prop",
           "type": "quantitative"
          }
         },
         "mark": "point",
         "selection": {
          "selector112": {
           "empty": "none",
           "fields": [
            "match_weight",
            "cum_prop"
           ],
           "nearest": true,
           "on": "mouseover",
           "type": "single"
          }
         }
        },
        {
         "encoding": {
          "opacity": {
           "condition": {
            "selection": "selector112",
            "value": 1
           },
           "value": 0
          },
          "x": {
           "axis": {
            "title": "Threshold match weight"
           },
           "field": "match_weight",
           "type": "quantitative"
          },
          "y": {
           "axis": {
            "format": "%",
            "title": "Percentage of unlinkable records"
           },
           "field": "cum_prop",
           "type": "quantitative"
          }
         },
         "mark": "point"
        },
        {
         "encoding": {
          "x": {
           "field": "match_weight",
           "type": "quantitative"
          }
         },
         "mark": {
          "color": "gray",
          "type": "rule"
         },
         "transform": [
          {
           "filter": {
            "selection": "selector112"
           }
          }
         ]
        },
        {
         "encoding": {
          "y": {
           "field": "cum_prop",
           "type": "quantitative"
          }
         },
         "mark": {
          "color": "gray",
          "type": "rule"
         },
         "transform": [
          {
           "filter": {
            "selection": "selector112"
           }
          }
         ]
        }
       ],
       "title": {
        "subtitle": "Records with insufficient information to exceed a given match threshold",
        "text": "Unlinkable records"
       },
       "width": 400
      },
      "image/png": "[encoded data removed]",
      "text/plain": [
       "<VegaLite 4 object>\n",
       "\n",
       "If you see this message, it means the renderer has not been properly enabled\n",
       "for the frontend that you are using. For more information, see\n",
       "https://altair-viz.github.io/user_guide/troubleshooting.html\n"
      ]
     },
     "execution_count": 28,
     "metadata": {},
     "output_type": "execute_result"
    }
   ],
   "source": [
    "linker.unlinkables_chart()"
   ]
  },
  {
   "cell_type": "code",
   "execution_count": 29,
   "id": "b02192bd-eb12-4a4d-9356-eae6d7483bb9",
   "metadata": {},
   "outputs": [
    {
     "data": {
      "text/plain": [
       "[{'round': 1.43}]"
      ]
     },
     "execution_count": 29,
     "metadata": {},
     "output_type": "execute_result"
    }
   ],
   "source": [
    "box.sql('select round(1.433, 2)')"
   ]
  },
  {
   "cell_type": "code",
   "execution_count": 30,
   "id": "c65003a9-500d-4bfa-86a4-691c40310287",
   "metadata": {},
   "outputs": [
    {
     "data": {
      "text/html": [
       "<div>\n",
       "<style scoped>\n",
       "    .dataframe tbody tr th:only-of-type {\n",
       "        vertical-align: middle;\n",
       "    }\n",
       "\n",
       "    .dataframe tbody tr th {\n",
       "        vertical-align: top;\n",
       "    }\n",
       "\n",
       "    .dataframe thead th {\n",
       "        text-align: right;\n",
       "    }\n",
       "</style>\n",
       "<table border=\"1\" class=\"dataframe\">\n",
       "  <thead>\n",
       "    <tr style=\"text-align: right;\">\n",
       "      <th></th>\n",
       "      <th>match_weight</th>\n",
       "      <th>match_probability</th>\n",
       "      <th>id_l</th>\n",
       "      <th>id_r</th>\n",
       "      <th>first_name_l</th>\n",
       "      <th>first_name_r</th>\n",
       "      <th>gamma_first_name</th>\n",
       "      <th>bf_first_name</th>\n",
       "      <th>surname_l</th>\n",
       "      <th>surname_r</th>\n",
       "      <th>...</th>\n",
       "      <th>gamma_city</th>\n",
       "      <th>tf_city_l</th>\n",
       "      <th>tf_city_r</th>\n",
       "      <th>bf_city</th>\n",
       "      <th>bf_tf_adj_city</th>\n",
       "      <th>email_l</th>\n",
       "      <th>email_r</th>\n",
       "      <th>gamma_email</th>\n",
       "      <th>bf_email</th>\n",
       "      <th>match_key</th>\n",
       "    </tr>\n",
       "  </thead>\n",
       "  <tbody>\n",
       "    <tr>\n",
       "      <th>0</th>\n",
       "      <td>12.291082</td>\n",
       "      <td>0.999801</td>\n",
       "      <td>0</td>\n",
       "      <td>3</td>\n",
       "      <td>Robert</td>\n",
       "      <td>Robert</td>\n",
       "      <td>1</td>\n",
       "      <td>85.803382</td>\n",
       "      <td>Alan</td>\n",
       "      <td>Alen</td>\n",
       "      <td>...</td>\n",
       "      <td>-1</td>\n",
       "      <td>NaN</td>\n",
       "      <td>0.00738</td>\n",
       "      <td>1.000000</td>\n",
       "      <td>1.000000</td>\n",
       "      <td>robert255@smith.net</td>\n",
       "      <td>None</td>\n",
       "      <td>-1</td>\n",
       "      <td>1.000000</td>\n",
       "      <td>0</td>\n",
       "    </tr>\n",
       "    <tr>\n",
       "      <th>1</th>\n",
       "      <td>16.907079</td>\n",
       "      <td>0.999992</td>\n",
       "      <td>0</td>\n",
       "      <td>1</td>\n",
       "      <td>Robert</td>\n",
       "      <td>Robert</td>\n",
       "      <td>1</td>\n",
       "      <td>85.803382</td>\n",
       "      <td>Alan</td>\n",
       "      <td>Allen</td>\n",
       "      <td>...</td>\n",
       "      <td>-1</td>\n",
       "      <td>NaN</td>\n",
       "      <td>NaN</td>\n",
       "      <td>1.000000</td>\n",
       "      <td>1.000000</td>\n",
       "      <td>robert255@smith.net</td>\n",
       "      <td>roberta25@smith.net</td>\n",
       "      <td>1</td>\n",
       "      <td>206.571839</td>\n",
       "      <td>0</td>\n",
       "    </tr>\n",
       "    <tr>\n",
       "      <th>2</th>\n",
       "      <td>11.027969</td>\n",
       "      <td>0.999521</td>\n",
       "      <td>1</td>\n",
       "      <td>3</td>\n",
       "      <td>Robert</td>\n",
       "      <td>Robert</td>\n",
       "      <td>1</td>\n",
       "      <td>85.803382</td>\n",
       "      <td>Allen</td>\n",
       "      <td>Alen</td>\n",
       "      <td>...</td>\n",
       "      <td>-1</td>\n",
       "      <td>NaN</td>\n",
       "      <td>0.00738</td>\n",
       "      <td>1.000000</td>\n",
       "      <td>1.000000</td>\n",
       "      <td>roberta25@smith.net</td>\n",
       "      <td>None</td>\n",
       "      <td>-1</td>\n",
       "      <td>1.000000</td>\n",
       "      <td>0</td>\n",
       "    </tr>\n",
       "    <tr>\n",
       "      <th>3</th>\n",
       "      <td>25.736754</td>\n",
       "      <td>1.000000</td>\n",
       "      <td>101</td>\n",
       "      <td>105</td>\n",
       "      <td>Alfie</td>\n",
       "      <td>Alfie</td>\n",
       "      <td>1</td>\n",
       "      <td>85.803382</td>\n",
       "      <td>Griffiths</td>\n",
       "      <td>Griffiths</td>\n",
       "      <td>...</td>\n",
       "      <td>1</td>\n",
       "      <td>0.01476</td>\n",
       "      <td>0.01476</td>\n",
       "      <td>10.264354</td>\n",
       "      <td>3.736248</td>\n",
       "      <td>a.griffiths@garner-bridges.com</td>\n",
       "      <td>a.griffiths@garner-bridges.com</td>\n",
       "      <td>3</td>\n",
       "      <td>255.301620</td>\n",
       "      <td>0</td>\n",
       "    </tr>\n",
       "    <tr>\n",
       "      <th>4</th>\n",
       "      <td>2.263633</td>\n",
       "      <td>0.827645</td>\n",
       "      <td>101</td>\n",
       "      <td>103</td>\n",
       "      <td>Alfie</td>\n",
       "      <td>Alfie</td>\n",
       "      <td>1</td>\n",
       "      <td>85.803382</td>\n",
       "      <td>Griffiths</td>\n",
       "      <td>Griffihs</td>\n",
       "      <td>...</td>\n",
       "      <td>0</td>\n",
       "      <td>0.01476</td>\n",
       "      <td>0.00123</td>\n",
       "      <td>0.459274</td>\n",
       "      <td>1.000000</td>\n",
       "      <td>a.griffiths@garner-bridges.com</td>\n",
       "      <td>None</td>\n",
       "      <td>-1</td>\n",
       "      <td>1.000000</td>\n",
       "      <td>0</td>\n",
       "    </tr>\n",
       "  </tbody>\n",
       "</table>\n",
       "<p>5 rows × 28 columns</p>\n",
       "</div>"
      ],
      "text/plain": [
       "   match_weight  match_probability id_l id_r first_name_l first_name_r  \\\n",
       "0     12.291082           0.999801    0    3       Robert       Robert   \n",
       "1     16.907079           0.999992    0    1       Robert       Robert   \n",
       "2     11.027969           0.999521    1    3       Robert       Robert   \n",
       "3     25.736754           1.000000  101  105        Alfie        Alfie   \n",
       "4      2.263633           0.827645  101  103        Alfie        Alfie   \n",
       "\n",
       "   gamma_first_name  bf_first_name  surname_l  surname_r  ...  gamma_city  \\\n",
       "0                 1      85.803382       Alan       Alen  ...          -1   \n",
       "1                 1      85.803382       Alan      Allen  ...          -1   \n",
       "2                 1      85.803382      Allen       Alen  ...          -1   \n",
       "3                 1      85.803382  Griffiths  Griffiths  ...           1   \n",
       "4                 1      85.803382  Griffiths   Griffihs  ...           0   \n",
       "\n",
       "   tf_city_l tf_city_r    bf_city  bf_tf_adj_city  \\\n",
       "0        NaN   0.00738   1.000000        1.000000   \n",
       "1        NaN       NaN   1.000000        1.000000   \n",
       "2        NaN   0.00738   1.000000        1.000000   \n",
       "3    0.01476   0.01476  10.264354        3.736248   \n",
       "4    0.01476   0.00123   0.459274        1.000000   \n",
       "\n",
       "                          email_l                         email_r gamma_email  \\\n",
       "0             robert255@smith.net                            None          -1   \n",
       "1             robert255@smith.net             roberta25@smith.net           1   \n",
       "2             roberta25@smith.net                            None          -1   \n",
       "3  a.griffiths@garner-bridges.com  a.griffiths@garner-bridges.com           3   \n",
       "4  a.griffiths@garner-bridges.com                            None          -1   \n",
       "\n",
       "     bf_email  match_key  \n",
       "0    1.000000          0  \n",
       "1  206.571839          0  \n",
       "2    1.000000          0  \n",
       "3  255.301620          0  \n",
       "4    1.000000          0  \n",
       "\n",
       "[5 rows x 28 columns]"
      ]
     },
     "execution_count": 30,
     "metadata": {},
     "output_type": "execute_result"
    }
   ],
   "source": [
    "df_predictions = linker.predict(threshold_match_probability=0.2)\n",
    "df_predictions.as_pandas_dataframe(limit=5)"
   ]
  },
  {
   "cell_type": "code",
   "execution_count": 31,
   "id": "961745f5-6a9f-4fee-b8a3-7326b35c6bfc",
   "metadata": {},
   "outputs": [
    {
     "name": "stderr",
     "output_type": "stream",
     "text": [
      "Completed iteration 1, root rows count 13\n",
      "Completed iteration 2, root rows count 1\n",
      "Completed iteration 3, root rows count 0\n"
     ]
    },
    {
     "data": {
      "text/html": [
       "<div>\n",
       "<style scoped>\n",
       "    .dataframe tbody tr th:only-of-type {\n",
       "        vertical-align: middle;\n",
       "    }\n",
       "\n",
       "    .dataframe tbody tr th {\n",
       "        vertical-align: top;\n",
       "    }\n",
       "\n",
       "    .dataframe thead th {\n",
       "        text-align: right;\n",
       "    }\n",
       "</style>\n",
       "<table border=\"1\" class=\"dataframe\">\n",
       "  <thead>\n",
       "    <tr style=\"text-align: right;\">\n",
       "      <th></th>\n",
       "      <th>cluster_id</th>\n",
       "      <th>city</th>\n",
       "      <th>cluster</th>\n",
       "      <th>dob</th>\n",
       "      <th>email</th>\n",
       "      <th>first_name</th>\n",
       "      <th>id</th>\n",
       "      <th>surname</th>\n",
       "      <th>tf_city</th>\n",
       "    </tr>\n",
       "  </thead>\n",
       "  <tbody>\n",
       "    <tr>\n",
       "      <th>0</th>\n",
       "      <td>0</td>\n",
       "      <td>None</td>\n",
       "      <td>0</td>\n",
       "      <td>1971-06-24</td>\n",
       "      <td>robert255@smith.net</td>\n",
       "      <td>Robert</td>\n",
       "      <td>0</td>\n",
       "      <td>Alan</td>\n",
       "      <td>NaN</td>\n",
       "    </tr>\n",
       "    <tr>\n",
       "      <th>1</th>\n",
       "      <td>0</td>\n",
       "      <td>None</td>\n",
       "      <td>0</td>\n",
       "      <td>1971-05-24</td>\n",
       "      <td>roberta25@smith.net</td>\n",
       "      <td>Robert</td>\n",
       "      <td>1</td>\n",
       "      <td>Allen</td>\n",
       "      <td>NaN</td>\n",
       "    </tr>\n",
       "    <tr>\n",
       "      <th>2</th>\n",
       "      <td>10</td>\n",
       "      <td>Portsmouth</td>\n",
       "      <td>3</td>\n",
       "      <td>2015-03-03</td>\n",
       "      <td>evied56@harris-bailey.net</td>\n",
       "      <td>None</td>\n",
       "      <td>10</td>\n",
       "      <td>Dean</td>\n",
       "      <td>0.01722</td>\n",
       "    </tr>\n",
       "    <tr>\n",
       "      <th>3</th>\n",
       "      <td>100</td>\n",
       "      <td>None</td>\n",
       "      <td>28</td>\n",
       "      <td>2009-08-25</td>\n",
       "      <td>e.e@day.com</td>\n",
       "      <td>Eleanor</td>\n",
       "      <td>100</td>\n",
       "      <td>None</td>\n",
       "      <td>NaN</td>\n",
       "    </tr>\n",
       "    <tr>\n",
       "      <th>4</th>\n",
       "      <td>101</td>\n",
       "      <td>Plymouth</td>\n",
       "      <td>29</td>\n",
       "      <td>2008-05-07</td>\n",
       "      <td>a.griffiths@garner-bridges.com</td>\n",
       "      <td>Alfie</td>\n",
       "      <td>101</td>\n",
       "      <td>Griffiths</td>\n",
       "      <td>0.01476</td>\n",
       "    </tr>\n",
       "    <tr>\n",
       "      <th>5</th>\n",
       "      <td>101</td>\n",
       "      <td>Plymouth</td>\n",
       "      <td>29</td>\n",
       "      <td>2008-05-07</td>\n",
       "      <td>a.griffiths@garner-bridges.com</td>\n",
       "      <td>Alfie</td>\n",
       "      <td>102</td>\n",
       "      <td>None</td>\n",
       "      <td>0.01476</td>\n",
       "    </tr>\n",
       "    <tr>\n",
       "      <th>6</th>\n",
       "      <td>101</td>\n",
       "      <td>Plyoutm</td>\n",
       "      <td>29</td>\n",
       "      <td>2009-04-07</td>\n",
       "      <td>None</td>\n",
       "      <td>Alfie</td>\n",
       "      <td>103</td>\n",
       "      <td>Griffihs</td>\n",
       "      <td>0.00123</td>\n",
       "    </tr>\n",
       "    <tr>\n",
       "      <th>7</th>\n",
       "      <td>104</td>\n",
       "      <td>Plymouth</td>\n",
       "      <td>29</td>\n",
       "      <td>2008-05-07</td>\n",
       "      <td>a.griffiths@garner-bridges.com</td>\n",
       "      <td>Griffiths</td>\n",
       "      <td>104</td>\n",
       "      <td>Alfie</td>\n",
       "      <td>0.01476</td>\n",
       "    </tr>\n",
       "    <tr>\n",
       "      <th>8</th>\n",
       "      <td>101</td>\n",
       "      <td>Plymouth</td>\n",
       "      <td>29</td>\n",
       "      <td>2008-05-07</td>\n",
       "      <td>a.griffiths@garner-bridges.com</td>\n",
       "      <td>Alfie</td>\n",
       "      <td>105</td>\n",
       "      <td>Griffiths</td>\n",
       "      <td>0.01476</td>\n",
       "    </tr>\n",
       "    <tr>\n",
       "      <th>9</th>\n",
       "      <td>106</td>\n",
       "      <td>Bimminghar</td>\n",
       "      <td>30</td>\n",
       "      <td>2005-08-20</td>\n",
       "      <td>maiie.walsoh@hodge.com</td>\n",
       "      <td>Miaisie</td>\n",
       "      <td>106</td>\n",
       "      <td>Walsh</td>\n",
       "      <td>0.00123</td>\n",
       "    </tr>\n",
       "  </tbody>\n",
       "</table>\n",
       "</div>"
      ],
      "text/plain": [
       "  cluster_id        city cluster         dob                           email  \\\n",
       "0          0        None       0  1971-06-24             robert255@smith.net   \n",
       "1          0        None       0  1971-05-24             roberta25@smith.net   \n",
       "2         10  Portsmouth       3  2015-03-03       evied56@harris-bailey.net   \n",
       "3        100        None      28  2009-08-25                     e.e@day.com   \n",
       "4        101    Plymouth      29  2008-05-07  a.griffiths@garner-bridges.com   \n",
       "5        101    Plymouth      29  2008-05-07  a.griffiths@garner-bridges.com   \n",
       "6        101     Plyoutm      29  2009-04-07                            None   \n",
       "7        104    Plymouth      29  2008-05-07  a.griffiths@garner-bridges.com   \n",
       "8        101    Plymouth      29  2008-05-07  a.griffiths@garner-bridges.com   \n",
       "9        106  Bimminghar      30  2005-08-20          maiie.walsoh@hodge.com   \n",
       "\n",
       "  first_name   id    surname  tf_city  \n",
       "0     Robert    0       Alan      NaN  \n",
       "1     Robert    1      Allen      NaN  \n",
       "2       None   10       Dean  0.01722  \n",
       "3    Eleanor  100       None      NaN  \n",
       "4      Alfie  101  Griffiths  0.01476  \n",
       "5      Alfie  102       None  0.01476  \n",
       "6      Alfie  103   Griffihs  0.00123  \n",
       "7  Griffiths  104      Alfie  0.01476  \n",
       "8      Alfie  105  Griffiths  0.01476  \n",
       "9    Miaisie  106      Walsh  0.00123  "
      ]
     },
     "execution_count": 31,
     "metadata": {},
     "output_type": "execute_result"
    }
   ],
   "source": [
    "clusters = linker.cluster_pairwise_predictions_at_threshold(df_predictions, threshold_match_probability=0.5)\n",
    "clusters.as_pandas_dataframe(limit=10)"
   ]
  },
  {
   "cell_type": "code",
   "execution_count": 32,
   "id": "1e6d0a4c-a21c-4a0d-9005-0a30d8b612b6",
   "metadata": {},
   "outputs": [
    {
     "data": {
      "application/vnd.vegalite.v4+json": {
       "$schema": "https://vega.github.io/schema/vega-lite/v5.2.0.json",
       "config": {
        "view": {
         "continuousHeight": 300,
         "continuousWidth": 400
        }
       },
       "data": {
        "values": [
         {
          "bar_sort_order": 0,
          "bayes_factor": 0.0033430420247643373,
          "bayes_factor_description": null,
          "column_name": "Prior",
          "comparison_vector_value": null,
          "label_for_charts": "Starting match weight (prior)",
          "log2_bayes_factor": -8.224622793739668,
          "m_probability": null,
          "record_number": 0,
          "sql_condition": null,
          "term_frequency_adjustment": null,
          "u_probability": null,
          "value_l": "",
          "value_r": ""
         },
         {
          "bar_sort_order": 1,
          "bayes_factor": 85.80338234594066,
          "bayes_factor_description": "If comparison level is `exact match` then comparison is 85.80 times more likely to be a match",
          "column_name": "first_name",
          "comparison_vector_value": 1,
          "label_for_charts": "Exact match",
          "log2_bayes_factor": 6.422962614378335,
          "m_probability": 0.4971080217684875,
          "record_number": 0,
          "sql_condition": "\"first_name_l\" = \"first_name_r\"",
          "term_frequency_adjustment": false,
          "u_probability": 0.0057935713975033705,
          "value_l": "Robert",
          "value_r": "Robert"
         },
         {
          "bar_sort_order": 2,
          "bayes_factor": 78.52365983637108,
          "bayes_factor_description": "If comparison level is `levenshtein <= 1` then comparison is 78.52 times more likely to be a match",
          "column_name": "surname",
          "comparison_vector_value": 2,
          "label_for_charts": "levenshtein <= 1",
          "log2_bayes_factor": 6.295055510492454,
          "m_probability": 0.18566006785783215,
          "record_number": 0,
          "sql_condition": "levenshtein(\"surname_l\", \"surname_r\") <= 1",
          "term_frequency_adjustment": false,
          "u_probability": 0.002364383782476692,
          "value_l": "Alan",
          "value_r": "Alen"
         },
         {
          "bar_sort_order": 3,
          "bayes_factor": 222.50382383655847,
          "bayes_factor_description": "If comparison level is `exact match` then comparison is 222.50 times more likely to be a match",
          "column_name": "dob",
          "comparison_vector_value": 2,
          "label_for_charts": "Exact match",
          "log2_bayes_factor": 7.797686319483589,
          "m_probability": 0.3888805569756067,
          "record_number": 0,
          "sql_condition": "\"dob_l\" = \"dob_r\"",
          "term_frequency_adjustment": false,
          "u_probability": 0.0017477477477477479,
          "value_l": "1971-06-24",
          "value_r": "1971-06-24"
         },
         {
          "bar_sort_order": 4,
          "bayes_factor": 1,
          "bayes_factor_description": "If comparison level is `null` then comparison is 1.00 times more likely to be a match",
          "column_name": "city",
          "comparison_vector_value": -1,
          "label_for_charts": "Null",
          "log2_bayes_factor": 0,
          "m_probability": null,
          "record_number": 0,
          "sql_condition": "\"city_l\" IS NULL OR \"city_r\" IS NULL",
          "term_frequency_adjustment": false,
          "u_probability": null,
          "value_l": "None",
          "value_r": "Lonon"
         },
         {
          "bar_sort_order": 5,
          "bayes_factor": 1,
          "bayes_factor_description": "If comparison level is `null` then comparison is 1.00 times more likely to be a match",
          "column_name": "tf_city",
          "comparison_vector_value": -1,
          "label_for_charts": "Null",
          "log2_bayes_factor": 0,
          "m_probability": null,
          "record_number": 0,
          "sql_condition": "\"city_l\" IS NULL OR \"city_r\" IS NULL",
          "term_frequency_adjustment": true,
          "u_probability": null,
          "value_l": "",
          "value_r": ""
         },
         {
          "bar_sort_order": 6,
          "bayes_factor": 1,
          "bayes_factor_description": "If comparison level is `null` then comparison is 1.00 times more likely to be a match",
          "column_name": "email",
          "comparison_vector_value": -1,
          "label_for_charts": "Null",
          "log2_bayes_factor": 0,
          "m_probability": null,
          "record_number": 0,
          "sql_condition": "\"email_l\" IS NULL OR \"email_r\" IS NULL",
          "term_frequency_adjustment": false,
          "u_probability": null,
          "value_l": "robert255@smith.net",
          "value_r": "None"
         },
         {
          "bar_sort_order": 7,
          "bayes_factor": 5011.690649559459,
          "bayes_factor_description": null,
          "column_name": "Final score",
          "comparison_vector_value": null,
          "label_for_charts": "Final score",
          "log2_bayes_factor": 12.29108165061471,
          "m_probability": null,
          "record_number": 0,
          "sql_condition": null,
          "term_frequency_adjustment": null,
          "u_probability": null,
          "value_l": "",
          "value_r": ""
         },
         {
          "bar_sort_order": 0,
          "bayes_factor": 0.0033430420247643373,
          "bayes_factor_description": null,
          "column_name": "Prior",
          "comparison_vector_value": null,
          "label_for_charts": "Starting match weight (prior)",
          "log2_bayes_factor": -8.224622793739668,
          "m_probability": null,
          "record_number": 1,
          "sql_condition": null,
          "term_frequency_adjustment": null,
          "u_probability": null,
          "value_l": "",
          "value_r": ""
         },
         {
          "bar_sort_order": 1,
          "bayes_factor": 85.80338234594066,
          "bayes_factor_description": "If comparison level is `exact match` then comparison is 85.80 times more likely to be a match",
          "column_name": "first_name",
          "comparison_vector_value": 1,
          "label_for_charts": "Exact match",
          "log2_bayes_factor": 6.422962614378335,
          "m_probability": 0.4971080217684875,
          "record_number": 1,
          "sql_condition": "\"first_name_l\" = \"first_name_r\"",
          "term_frequency_adjustment": false,
          "u_probability": 0.0057935713975033705,
          "value_l": "Robert",
          "value_r": "Robert"
         },
         {
          "bar_sort_order": 2,
          "bayes_factor": 22.37267232897304,
          "bayes_factor_description": "If comparison level is `levenshtein <= 2` then comparison is 22.37 times more likely to be a match",
          "column_name": "surname",
          "comparison_vector_value": 1,
          "label_for_charts": "levenshtein <= 2",
          "log2_bayes_factor": 4.483665685906397,
          "m_probability": 0.1120734158121651,
          "record_number": 1,
          "sql_condition": "levenshtein(\"surname_l\", \"surname_r\") <= 2",
          "term_frequency_adjustment": false,
          "u_probability": 0.005009388872469557,
          "value_l": "Alan",
          "value_r": "Allen"
         },
         {
          "bar_sort_order": 3,
          "bayes_factor": 92.70487285260884,
          "bayes_factor_description": "If comparison level is `levenshtein <= 1` then comparison is 92.70 times more likely to be a match",
          "column_name": "dob",
          "comparison_vector_value": 1,
          "label_for_charts": "levenshtein <= 1",
          "log2_bayes_factor": 6.5345732682099085,
          "m_probability": 0.14847627283701118,
          "record_number": 1,
          "sql_condition": "levenshtein(\"dob_l\", \"dob_r\") <= 1",
          "term_frequency_adjustment": false,
          "u_probability": 0.0016016016016016017,
          "value_l": "1971-06-24",
          "value_r": "1971-05-24"
         },
         {
          "bar_sort_order": 4,
          "bayes_factor": 1,
          "bayes_factor_description": "If comparison level is `null` then comparison is 1.00 times more likely to be a match",
          "column_name": "city",
          "comparison_vector_value": -1,
          "label_for_charts": "Null",
          "log2_bayes_factor": 0,
          "m_probability": null,
          "record_number": 1,
          "sql_condition": "\"city_l\" IS NULL OR \"city_r\" IS NULL",
          "term_frequency_adjustment": false,
          "u_probability": null,
          "value_l": "None",
          "value_r": "None"
         },
         {
          "bar_sort_order": 5,
          "bayes_factor": 1,
          "bayes_factor_description": "If comparison level is `null` then comparison is 1.00 times more likely to be a match",
          "column_name": "tf_city",
          "comparison_vector_value": -1,
          "label_for_charts": "Null",
          "log2_bayes_factor": 0,
          "m_probability": null,
          "record_number": 1,
          "sql_condition": "\"city_l\" IS NULL OR \"city_r\" IS NULL",
          "term_frequency_adjustment": true,
          "u_probability": null,
          "value_l": "",
          "value_r": ""
         },
         {
          "bar_sort_order": 6,
          "bayes_factor": 206.57183856156246,
          "bayes_factor_description": "If comparison level is `levenshtein <= 2` then comparison is 206.57 times more likely to be a match",
          "column_name": "email",
          "comparison_vector_value": 1,
          "label_for_charts": "levenshtein <= 2",
          "log2_bayes_factor": 7.690499778262132,
          "m_probability": 0.12824935773735807,
          "record_number": 1,
          "sql_condition": "levenshtein(\"email_l\", \"email_r\") <= 2",
          "term_frequency_adjustment": false,
          "u_probability": 0.000620846281034272,
          "value_l": "robert255@smith.net",
          "value_r": "roberta25@smith.net"
         },
         {
          "bar_sort_order": 7,
          "bayes_factor": 122896.01011321796,
          "bayes_factor_description": null,
          "column_name": "Final score",
          "comparison_vector_value": null,
          "label_for_charts": "Final score",
          "log2_bayes_factor": 16.9070785530171,
          "m_probability": null,
          "record_number": 1,
          "sql_condition": null,
          "term_frequency_adjustment": null,
          "u_probability": null,
          "value_l": "",
          "value_r": ""
         },
         {
          "bar_sort_order": 0,
          "bayes_factor": 0.0033430420247643373,
          "bayes_factor_description": null,
          "column_name": "Prior",
          "comparison_vector_value": null,
          "label_for_charts": "Starting match weight (prior)",
          "log2_bayes_factor": -8.224622793739668,
          "m_probability": null,
          "record_number": 2,
          "sql_condition": null,
          "term_frequency_adjustment": null,
          "u_probability": null,
          "value_l": "",
          "value_r": ""
         },
         {
          "bar_sort_order": 1,
          "bayes_factor": 85.80338234594066,
          "bayes_factor_description": "If comparison level is `exact match` then comparison is 85.80 times more likely to be a match",
          "column_name": "first_name",
          "comparison_vector_value": 1,
          "label_for_charts": "Exact match",
          "log2_bayes_factor": 6.422962614378335,
          "m_probability": 0.4971080217684875,
          "record_number": 2,
          "sql_condition": "\"first_name_l\" = \"first_name_r\"",
          "term_frequency_adjustment": false,
          "u_probability": 0.0057935713975033705,
          "value_l": "Robert",
          "value_r": "Robert"
         },
         {
          "bar_sort_order": 2,
          "bayes_factor": 78.52365983637108,
          "bayes_factor_description": "If comparison level is `levenshtein <= 1` then comparison is 78.52 times more likely to be a match",
          "column_name": "surname",
          "comparison_vector_value": 2,
          "label_for_charts": "levenshtein <= 1",
          "log2_bayes_factor": 6.295055510492454,
          "m_probability": 0.18566006785783215,
          "record_number": 2,
          "sql_condition": "levenshtein(\"surname_l\", \"surname_r\") <= 1",
          "term_frequency_adjustment": false,
          "u_probability": 0.002364383782476692,
          "value_l": "Allen",
          "value_r": "Alen"
         },
         {
          "bar_sort_order": 3,
          "bayes_factor": 92.70487285260884,
          "bayes_factor_description": "If comparison level is `levenshtein <= 1` then comparison is 92.70 times more likely to be a match",
          "column_name": "dob",
          "comparison_vector_value": 1,
          "label_for_charts": "levenshtein <= 1",
          "log2_bayes_factor": 6.5345732682099085,
          "m_probability": 0.14847627283701118,
          "record_number": 2,
          "sql_condition": "levenshtein(\"dob_l\", \"dob_r\") <= 1",
          "term_frequency_adjustment": false,
          "u_probability": 0.0016016016016016017,
          "value_l": "1971-05-24",
          "value_r": "1971-06-24"
         },
         {
          "bar_sort_order": 4,
          "bayes_factor": 1,
          "bayes_factor_description": "If comparison level is `null` then comparison is 1.00 times more likely to be a match",
          "column_name": "city",
          "comparison_vector_value": -1,
          "label_for_charts": "Null",
          "log2_bayes_factor": 0,
          "m_probability": null,
          "record_number": 2,
          "sql_condition": "\"city_l\" IS NULL OR \"city_r\" IS NULL",
          "term_frequency_adjustment": false,
          "u_probability": null,
          "value_l": "None",
          "value_r": "Lonon"
         },
         {
          "bar_sort_order": 5,
          "bayes_factor": 1,
          "bayes_factor_description": "If comparison level is `null` then comparison is 1.00 times more likely to be a match",
          "column_name": "tf_city",
          "comparison_vector_value": -1,
          "label_for_charts": "Null",
          "log2_bayes_factor": 0,
          "m_probability": null,
          "record_number": 2,
          "sql_condition": "\"city_l\" IS NULL OR \"city_r\" IS NULL",
          "term_frequency_adjustment": true,
          "u_probability": null,
          "value_l": "",
          "value_r": ""
         },
         {
          "bar_sort_order": 6,
          "bayes_factor": 1,
          "bayes_factor_description": "If comparison level is `null` then comparison is 1.00 times more likely to be a match",
          "column_name": "email",
          "comparison_vector_value": -1,
          "label_for_charts": "Null",
          "log2_bayes_factor": 0,
          "m_probability": null,
          "record_number": 2,
          "sql_condition": "\"email_l\" IS NULL OR \"email_r\" IS NULL",
          "term_frequency_adjustment": false,
          "u_probability": null,
          "value_l": "roberta25@smith.net",
          "value_r": "None"
         },
         {
          "bar_sort_order": 7,
          "bayes_factor": 2088.090606412671,
          "bayes_factor_description": null,
          "column_name": "Final score",
          "comparison_vector_value": null,
          "label_for_charts": "Final score",
          "log2_bayes_factor": 11.027968599341028,
          "m_probability": null,
          "record_number": 2,
          "sql_condition": null,
          "term_frequency_adjustment": null,
          "u_probability": null,
          "value_l": "",
          "value_r": ""
         },
         {
          "bar_sort_order": 0,
          "bayes_factor": 0.0033430420247643373,
          "bayes_factor_description": null,
          "column_name": "Prior",
          "comparison_vector_value": null,
          "label_for_charts": "Starting match weight (prior)",
          "log2_bayes_factor": -8.224622793739668,
          "m_probability": null,
          "record_number": 3,
          "sql_condition": null,
          "term_frequency_adjustment": null,
          "u_probability": null,
          "value_l": "",
          "value_r": ""
         },
         {
          "bar_sort_order": 1,
          "bayes_factor": 85.80338234594066,
          "bayes_factor_description": "If comparison level is `exact match` then comparison is 85.80 times more likely to be a match",
          "column_name": "first_name",
          "comparison_vector_value": 1,
          "label_for_charts": "Exact match",
          "log2_bayes_factor": 6.422962614378335,
          "m_probability": 0.4971080217684875,
          "record_number": 3,
          "sql_condition": "\"first_name_l\" = \"first_name_r\"",
          "term_frequency_adjustment": false,
          "u_probability": 0.0057935713975033705,
          "value_l": "Alfie",
          "value_r": "Alfie"
         },
         {
          "bar_sort_order": 2,
          "bayes_factor": 89.48089949369759,
          "bayes_factor_description": "If comparison level is `exact match` then comparison is 89.48 times more likely to be a match",
          "column_name": "surname",
          "comparison_vector_value": 3,
          "label_for_charts": "Exact match",
          "log2_bayes_factor": 6.483507853838868,
          "m_probability": 0.4375594107271276,
          "record_number": 3,
          "sql_condition": "\"surname_l\" = \"surname_r\"",
          "term_frequency_adjustment": false,
          "u_probability": 0.004889975550122249,
          "value_l": "Griffiths",
          "value_r": "Griffiths"
         },
         {
          "bar_sort_order": 3,
          "bayes_factor": 222.50382383655847,
          "bayes_factor_description": "If comparison level is `exact match` then comparison is 222.50 times more likely to be a match",
          "column_name": "dob",
          "comparison_vector_value": 2,
          "label_for_charts": "Exact match",
          "log2_bayes_factor": 7.797686319483589,
          "m_probability": 0.3888805569756067,
          "record_number": 3,
          "sql_condition": "\"dob_l\" = \"dob_r\"",
          "term_frequency_adjustment": false,
          "u_probability": 0.0017477477477477479,
          "value_l": "2008-05-07",
          "value_r": "2008-05-07"
         },
         {
          "bar_sort_order": 4,
          "bayes_factor": 10.264353562890939,
          "bayes_factor_description": "If comparison level is `exact match` then comparison is 10.26 times more likely to be a match",
          "column_name": "city",
          "comparison_vector_value": 1,
          "label_for_charts": "Exact match",
          "log2_bayes_factor": 3.3595708659307335,
          "m_probability": 0.5660541687277061,
          "record_number": 3,
          "sql_condition": "\"city_l\" = \"city_r\"",
          "term_frequency_adjustment": false,
          "u_probability": 0.0551475711801453,
          "value_l": "Plymouth",
          "value_r": "Plymouth"
         },
         {
          "bar_sort_order": 5,
          "bayes_factor": 3.7362479474548445,
          "bayes_factor_description": "Term frequency adjustment on city makes comparison 3.74 times more likely to be a match",
          "column_name": "tf_city",
          "comparison_vector_value": 1,
          "label_for_charts": "Term freq adjustment on city with weight {cl.tf_adjustment_weight}",
          "log2_bayes_factor": 1.9015901993446462,
          "m_probability": null,
          "record_number": 3,
          "sql_condition": "\"city_l\" = \"city_r\"",
          "term_frequency_adjustment": true,
          "u_probability": null,
          "value_l": "Plymouth",
          "value_r": "Plymouth"
         },
         {
          "bar_sort_order": 6,
          "bayes_factor": 255.30161997169503,
          "bayes_factor_description": "If comparison level is `exact match` then comparison is 255.30 times more likely to be a match",
          "column_name": "email",
          "comparison_vector_value": 3,
          "label_for_charts": "Exact match",
          "log2_bayes_factor": 7.99605888191739,
          "m_probability": 0.5600989005574621,
          "record_number": 3,
          "sql_condition": "\"email_l\" = \"email_r\"",
          "term_frequency_adjustment": false,
          "u_probability": 0.0021938713143283602,
          "value_l": "a.griffiths@garner-bridges.com",
          "value_r": "a.griffiths@garner-bridges.com"
         },
         {
          "bar_sort_order": 7,
          "bayes_factor": 55915849.502440915,
          "bayes_factor_description": null,
          "column_name": "Final score",
          "comparison_vector_value": null,
          "label_for_charts": "Final score",
          "log2_bayes_factor": 25.736753941153893,
          "m_probability": null,
          "record_number": 3,
          "sql_condition": null,
          "term_frequency_adjustment": null,
          "u_probability": null,
          "value_l": "",
          "value_r": ""
         },
         {
          "bar_sort_order": 0,
          "bayes_factor": 0.0033430420247643373,
          "bayes_factor_description": null,
          "column_name": "Prior",
          "comparison_vector_value": null,
          "label_for_charts": "Starting match weight (prior)",
          "log2_bayes_factor": -8.224622793739668,
          "m_probability": null,
          "record_number": 4,
          "sql_condition": null,
          "term_frequency_adjustment": null,
          "u_probability": null,
          "value_l": "",
          "value_r": ""
         },
         {
          "bar_sort_order": 1,
          "bayes_factor": 85.80338234594066,
          "bayes_factor_description": "If comparison level is `exact match` then comparison is 85.80 times more likely to be a match",
          "column_name": "first_name",
          "comparison_vector_value": 1,
          "label_for_charts": "Exact match",
          "log2_bayes_factor": 6.422962614378335,
          "m_probability": 0.4971080217684875,
          "record_number": 4,
          "sql_condition": "\"first_name_l\" = \"first_name_r\"",
          "term_frequency_adjustment": false,
          "u_probability": 0.0057935713975033705,
          "value_l": "Alfie",
          "value_r": "Alfie"
         },
         {
          "bar_sort_order": 2,
          "bayes_factor": 78.52365983637108,
          "bayes_factor_description": "If comparison level is `levenshtein <= 1` then comparison is 78.52 times more likely to be a match",
          "column_name": "surname",
          "comparison_vector_value": 2,
          "label_for_charts": "levenshtein <= 1",
          "log2_bayes_factor": 6.295055510492454,
          "m_probability": 0.18566006785783215,
          "record_number": 4,
          "sql_condition": "levenshtein(\"surname_l\", \"surname_r\") <= 1",
          "term_frequency_adjustment": false,
          "u_probability": 0.002364383782476692,
          "value_l": "Griffiths",
          "value_r": "Griffihs"
         },
         {
          "bar_sort_order": 3,
          "bayes_factor": 0.46419793122630426,
          "bayes_factor_description": "If comparison level is `all other comparisons` then comparison is  2.15 times less likely to be a match",
          "column_name": "dob",
          "comparison_vector_value": 0,
          "label_for_charts": "All other comparisons",
          "log2_bayes_factor": -1.1071880017960964,
          "m_probability": 0.4626431701873821,
          "record_number": 4,
          "sql_condition": "ELSE",
          "term_frequency_adjustment": false,
          "u_probability": 0.9966506506506506,
          "value_l": "2008-05-07",
          "value_r": "2009-04-07"
         },
         {
          "bar_sort_order": 4,
          "bayes_factor": 0.4592736580190661,
          "bayes_factor_description": "If comparison level is `all other comparisons` then comparison is  2.18 times less likely to be a match",
          "column_name": "city",
          "comparison_vector_value": 0,
          "label_for_charts": "All other comparisons",
          "log2_bayes_factor": -1.1225740557985633,
          "m_probability": 0.4339458312722939,
          "record_number": 4,
          "sql_condition": "ELSE",
          "term_frequency_adjustment": false,
          "u_probability": 0.9448524288198547,
          "value_l": "Plymouth",
          "value_r": "Plyoutm"
         },
         {
          "bar_sort_order": 5,
          "bayes_factor": 1,
          "bayes_factor_description": "If comparison level is `all other comparisons` then comparison is  2.18 times less likely to be a match",
          "column_name": "tf_city",
          "comparison_vector_value": 0,
          "label_for_charts": "All other comparisons",
          "log2_bayes_factor": 0,
          "m_probability": 0.4339458312722939,
          "record_number": 4,
          "sql_condition": "ELSE",
          "term_frequency_adjustment": true,
          "u_probability": 0.9448524288198547,
          "value_l": "",
          "value_r": ""
         },
         {
          "bar_sort_order": 6,
          "bayes_factor": 1,
          "bayes_factor_description": "If comparison level is `null` then comparison is 1.00 times more likely to be a match",
          "column_name": "email",
          "comparison_vector_value": -1,
          "label_for_charts": "Null",
          "log2_bayes_factor": 0,
          "m_probability": null,
          "record_number": 4,
          "sql_condition": "\"email_l\" IS NULL OR \"email_r\" IS NULL",
          "term_frequency_adjustment": false,
          "u_probability": null,
          "value_l": "a.griffiths@garner-bridges.com",
          "value_r": "None"
         },
         {
          "bar_sort_order": 7,
          "bayes_factor": 4.801992910209581,
          "bayes_factor_description": null,
          "column_name": "Final score",
          "comparison_vector_value": null,
          "label_for_charts": "Final score",
          "log2_bayes_factor": 2.2636332735364615,
          "m_probability": null,
          "record_number": 4,
          "sql_condition": null,
          "term_frequency_adjustment": null,
          "u_probability": null,
          "value_l": "",
          "value_r": ""
         }
        ]
       },
       "height": 450,
       "layer": [
        {
         "layer": [
          {
           "encoding": {
            "color": {
             "value": "black"
            },
            "size": {
             "value": 0.5
            },
            "y": {
             "field": "zero",
             "type": "quantitative"
            }
           },
           "mark": "rule"
          },
          {
           "encoding": {
            "color": {
             "condition": {
              "test": "(datum.log2_bayes_factor < 0)",
              "value": "red"
             },
             "value": "green"
            },
            "opacity": {
             "condition": {
              "test": "datum.column_name == 'Prior match weight' || datum.column_name == 'Final score'",
              "value": 1
             },
             "value": 0.5
            },
            "tooltip": [
             {
              "field": "column_name",
              "title": "Comparison column",
              "type": "nominal"
             },
             {
              "field": "value_l",
              "title": "Value (L)",
              "type": "nominal"
             },
             {
              "field": "value_r",
              "title": "Value (R)",
              "type": "nominal"
             },
             {
              "field": "label_for_charts",
              "title": "Label",
              "type": "ordinal"
             },
             {
              "field": "sql_condition",
              "title": "SQL condition",
              "type": "nominal"
             },
             {
              "field": "comparison_vector_value",
              "title": "Comparison vector value",
              "type": "nominal"
             },
             {
              "field": "bayes_factor",
              "format": ",.4f",
              "title": "Bayes factor = m/u",
              "type": "quantitative"
             },
             {
              "field": "log2_bayes_factor",
              "format": ",.4f",
              "title": "Match weight = log2(m/u)",
              "type": "quantitative"
             },
             {
              "field": "prob",
              "format": ".4f",
              "title": "Adjusted match score",
              "type": "quantitative"
             },
             {
              "field": "bayes_factor_description",
              "title": "Match weight description",
              "type": "nominal"
             }
            ],
            "x": {
             "axis": {
              "grid": true,
              "labelAlign": "center",
              "labelAngle": -20,
              "labelExpr": "datum.value == 'Prior' || datum.value == 'Final score' ? '' : datum.value",
              "labelPadding": 10,
              "tickBand": "extent",
              "title": "Column"
             },
             "field": "column_name",
             "sort": {
              "field": "bar_sort_order",
              "order": "ascending"
             },
             "type": "nominal"
            },
            "y": {
             "axis": {
              "grid": false,
              "orient": "left",
              "title": "log2(Bayes factor)"
             },
             "field": "previous_sum",
             "type": "quantitative"
            },
            "y2": {
             "field": "sum"
            }
           },
           "mark": {
            "type": "bar",
            "width": 60
           }
          },
          {
           "encoding": {
            "color": {
             "value": "white"
            },
            "text": {
             "condition": {
              "field": "log2_bayes_factor",
              "format": ".2f",
              "test": "abs(datum.log2_bayes_factor) > 1",
              "type": "nominal"
             },
             "value": ""
            },
            "x": {
             "axis": {
              "labelAngle": 0,
              "title": "Column"
             },
             "field": "column_name",
             "sort": {
              "field": "bar_sort_order",
              "order": "ascending"
             },
             "type": "nominal"
            },
            "y": {
             "axis": {
              "orient": "left"
             },
             "field": "center",
             "type": "quantitative"
            }
           },
           "mark": {
            "fontWeight": "bold",
            "type": "text"
           }
          },
          {
           "encoding": {
            "color": {
             "value": "black"
            },
            "text": {
             "field": "column_name",
             "type": "nominal"
            },
            "x": {
             "axis": {
              "labelAngle": 0,
              "title": "Column"
             },
             "field": "column_name",
             "sort": {
              "field": "bar_sort_order",
              "order": "ascending"
             },
             "type": "nominal"
            },
            "y": {
             "field": "sum_top",
             "type": "quantitative"
            }
           },
           "mark": {
            "baseline": "bottom",
            "dy": -25,
            "fontWeight": "bold",
            "type": "text"
           }
          },
          {
           "encoding": {
            "color": {
             "value": "grey"
            },
            "text": {
             "field": "value_l",
             "type": "nominal"
            },
            "x": {
             "axis": {
              "labelAngle": 0,
              "title": "Column"
             },
             "field": "column_name",
             "sort": {
              "field": "bar_sort_order",
              "order": "ascending"
             },
             "type": "nominal"
            },
            "y": {
             "field": "sum_top",
             "type": "quantitative"
            }
           },
           "mark": {
            "baseline": "bottom",
            "dy": -13,
            "fontSize": 8,
            "type": "text"
           }
          },
          {
           "encoding": {
            "color": {
             "value": "grey"
            },
            "text": {
             "field": "value_r",
             "type": "nominal"
            },
            "x": {
             "axis": {
              "labelAngle": 0,
              "title": "Column"
             },
             "field": "column_name",
             "sort": {
              "field": "bar_sort_order",
              "order": "ascending"
             },
             "type": "nominal"
            },
            "y": {
             "field": "sum_top",
             "type": "quantitative"
            }
           },
           "mark": {
            "baseline": "bottom",
            "dy": -5,
            "fontSize": 8,
            "type": "text"
           }
          }
         ]
        },
        {
         "encoding": {
          "x": {
           "axis": {
            "labelAngle": 0,
            "title": "Column"
           },
           "field": "column_name",
           "sort": {
            "field": "bar_sort_order",
            "order": "ascending"
           },
           "type": "nominal"
          },
          "x2": {
           "field": "lead"
          },
          "y": {
           "axis": {
            "labelExpr": "format(1 / (1 + pow(2, -1*datum.value)), '.2r')",
            "orient": "right",
            "title": "Probability"
           },
           "field": "sum",
           "scale": {
            "zero": false
           },
           "type": "quantitative"
          }
         },
         "mark": {
          "color": "black",
          "strokeWidth": 2,
          "type": "rule",
          "x2Offset": 30,
          "xOffset": -30
         }
        }
       ],
       "params": [
        {
         "bind": {
          "input": "range",
          "max": 4,
          "min": 0,
          "step": 1
         },
         "description": "Filter by the interation number",
         "name": "record_number",
         "value": 0
        }
       ],
       "resolve": {
        "axis": {
         "y": "independent"
        }
       },
       "title": {
        "subtitle": "How each comparison contributes to the final match score",
        "text": "Match weights waterfall chart"
       },
       "transform": [
        {
         "filter": "(datum.record_number == record_number)"
        },
        {
         "frame": [
          null,
          0
         ],
         "window": [
          {
           "as": "sum",
           "field": "log2_bayes_factor",
           "op": "sum"
          },
          {
           "as": "lead",
           "field": "column_name",
           "op": "lead"
          }
         ]
        },
        {
         "as": "sum",
         "calculate": "datum.column_name === \"Final score\" ? datum.sum - datum.log2_bayes_factor : datum.sum"
        },
        {
         "as": "lead",
         "calculate": "datum.lead === null ? datum.column_name : datum.lead"
        },
        {
         "as": "previous_sum",
         "calculate": "datum.column_name === \"Final score\" || datum.column_name === \"Prior match weight\" ? 0 : datum.sum - datum.log2_bayes_factor"
        },
        {
         "as": "top_label",
         "calculate": "datum.sum > datum.previous_sum ? datum.column_name : \"\""
        },
        {
         "as": "bottom_label",
         "calculate": "datum.sum < datum.previous_sum ? datum.column_name : \"\""
        },
        {
         "as": "sum_top",
         "calculate": "datum.sum > datum.previous_sum ? datum.sum : datum.previous_sum"
        },
        {
         "as": "sum_bottom",
         "calculate": "datum.sum < datum.previous_sum ? datum.sum : datum.previous_sum"
        },
        {
         "as": "center",
         "calculate": "(datum.sum + datum.previous_sum) / 2"
        },
        {
         "as": "text_log2_bayes_factor",
         "calculate": "(datum.log2_bayes_factor > 0 ? \"+\" : \"\") + datum.log2_bayes_factor"
        },
        {
         "as": "dy",
         "calculate": "datum.sum < datum.previous_sum ? 4 : -4"
        },
        {
         "as": "baseline",
         "calculate": "datum.sum < datum.previous_sum ? \"top\" : \"bottom\""
        },
        {
         "as": "prob",
         "calculate": "1. / (1 + pow(2, -1.*datum.sum))"
        },
        {
         "as": "zero",
         "calculate": "0*datum.sum"
        }
       ],
       "width": {
        "step": 75
       }
      },
      "image/png": "[encoded data removed]",
      "text/plain": [
       "<VegaLite 4 object>\n",
       "\n",
       "If you see this message, it means the renderer has not been properly enabled\n",
       "for the frontend that you are using. For more information, see\n",
       "https://altair-viz.github.io/user_guide/troubleshooting.html\n"
      ]
     },
     "execution_count": 32,
     "metadata": {},
     "output_type": "execute_result"
    }
   ],
   "source": [
    "records_to_view  = df_predictions.as_record_dict(limit=5)\n",
    "linker.waterfall_chart(records_to_view, filter_nulls=False)"
   ]
  },
  {
   "cell_type": "code",
   "execution_count": 33,
   "id": "05128dc7-624c-4882-9c96-096324860b30",
   "metadata": {},
   "outputs": [
    {
     "data": {
      "text/html": [
       "\n",
       "        <iframe\n",
       "            width=\"100%\"\n",
       "            height=\"1200\"\n",
       "            src=\"./scv.html\"\n",
       "            frameborder=\"0\"\n",
       "            allowfullscreen\n",
       "            \n",
       "        ></iframe>\n",
       "        "
      ],
      "text/plain": [
       "<IPython.lib.display.IFrame at 0x7f9e5272f490>"
      ]
     },
     "execution_count": 33,
     "metadata": {},
     "output_type": "execute_result"
    }
   ],
   "source": [
    "linker.comparison_viewer_dashboard(df_predictions, \"scv.html\", overwrite=True)\n",
    "\n",
    "# You can view the scv.html file in your browser, or inline in a notbook as follows\n",
    "from IPython.display import IFrame\n",
    "IFrame(\n",
    "    src=\"./scv.html\", width=\"100%\", height=1200\n",
    ")  "
   ]
  },
  {
   "cell_type": "code",
   "execution_count": 34,
   "id": "dd301143-ff2b-4e10-bb09-20a07002e1db",
   "metadata": {},
   "outputs": [
    {
     "name": "stderr",
     "output_type": "stream",
     "text": [
      "Completed iteration 1, root rows count 13\n",
      "Completed iteration 2, root rows count 1\n",
      "Completed iteration 3, root rows count 0\n"
     ]
    },
    {
     "data": {
      "text/html": [
       "\n",
       "        <iframe\n",
       "            width=\"100%\"\n",
       "            height=\"1200\"\n",
       "            src=\"./cluster_studio.html\"\n",
       "            frameborder=\"0\"\n",
       "            allowfullscreen\n",
       "            \n",
       "        ></iframe>\n",
       "        "
      ],
      "text/plain": [
       "<IPython.lib.display.IFrame at 0x7f9e22dc0190>"
      ]
     },
     "execution_count": 34,
     "metadata": {},
     "output_type": "execute_result"
    }
   ],
   "source": [
    "df_clusters = linker.cluster_pairwise_predictions_at_threshold(df_predictions, threshold_match_probability=0.5)\n",
    "\n",
    "linker.cluster_studio_dashboard(df_predictions, df_clusters, \"cluster_studio.html\", sampling_method=\"by_cluster_size\", overwrite=True)\n",
    "\n",
    "# You can view the scv.html file in your browser, or inline in a notbook as follows\n",
    "from IPython.display import IFrame\n",
    "IFrame(\n",
    "    src=\"./cluster_studio.html\", width=\"100%\", height=1200\n",
    ")"
   ]
  },
  {
   "cell_type": "markdown",
   "id": "9dbbd7fe-24b9-4b7b-b909-e9c2765f2627",
   "metadata": {},
   "source": [
    "# Export zen-lang edn for Aidbox project"
   ]
  },
  {
   "cell_type": "code",
   "execution_count": 35,
   "id": "0617cd35-4ad1-4268-9669-2c1bc436c3f8",
   "metadata": {},
   "outputs": [],
   "source": [
    "linker.save_zen_model_edn('model.edn')"
   ]
  },
  {
   "cell_type": "code",
   "execution_count": 36,
   "id": "db4d5736-02f9-452b-bda8-2252838f8b2f",
   "metadata": {},
   "outputs": [
    {
     "data": {
      "text/plain": [
       "{'fields': {'first_name': ['name', 0, 'given', 0],\n",
       "  'surname': ['name', 0, 'family'],\n",
       "  'dob': ['birthDate'],\n",
       "  'city': ['address', 0, 'city'],\n",
       "  'email': ['telecom', {'system': 'email'}, 'value'],\n",
       "  'cluster': ['identifier', 0, 'value']},\n",
       " 'use-frequencies-for': ['city'],\n",
       " 'resource-type': 'Patient'}"
      ]
     },
     "execution_count": 36,
     "metadata": {},
     "output_type": "execute_result"
    }
   ],
   "source": [
    "model.as_dict()"
   ]
  },
  {
   "cell_type": "code",
   "execution_count": 37,
   "id": "fa25965d-8f3c-4683-bbee-050ca10dfa0e",
   "metadata": {},
   "outputs": [],
   "source": [
    "import edn_format as edn"
   ]
  },
  {
   "cell_type": "code",
   "execution_count": 38,
   "id": "499f3fee-02b9-448b-acdd-b583bb09a132",
   "metadata": {},
   "outputs": [
    {
     "data": {
      "text/plain": [
       "{Keyword(a): frozenset({Keyword(b)})}"
      ]
     },
     "execution_count": 38,
     "metadata": {},
     "output_type": "execute_result"
    }
   ],
   "source": [
    "edn.loads('{:a #{:b}}')"
   ]
  },
  {
   "cell_type": "code",
   "execution_count": null,
   "id": "c6dae453-4e68-41d3-be1c-3a82127af8eb",
   "metadata": {},
   "outputs": [],
   "source": []
  }
 ],
 "metadata": {
  "kernelspec": {
   "display_name": "Aidbox",
   "language": "python",
   "name": "aidbox"
  },
  "language_info": {
   "codemirror_mode": {
    "name": "ipython",
    "version": 3
   },
   "file_extension": ".py",
   "mimetype": "text/x-python",
   "name": "python",
   "nbconvert_exporter": "python",
   "pygments_lexer": "ipython3",
   "version": "3.10.8"
  }
 },
 "nbformat": 4,
 "nbformat_minor": 5
}
